{
 "cells": [
  {
   "cell_type": "markdown",
   "metadata": {},
   "source": [
    "# Introduction to Data Science\n",
    "\n",
    "---\n",
    "## Data Science Definition\n",
    "\n",
    "Data science is a field that has yet to be clearly defined. The definition can differ between individuals. It is a way to gain knowledge from various types of data by unifying computer science with statistics, and domains of knowledge.\"should add more about actionable data\""
   ]
  },
  {
   "cell_type": "markdown",
   "metadata": {},
   "source": [
    "## Why Data Science?\n",
    "\n",
    "With advances in technology large amounts of data can be gathered and made available. Data science can readily analyze these large sets of data from a variety of sources, unlike other forms of data analysis.\n",
    "\n",
    "Other forms of data analyses focus on explaining past and current events whereas data science goes a step further, attempting to use existing data to predict future events so that decisions can be made now. For example, data science could be used to predict traffic so that a GPS can provide accurate travel times and navigate around traffic. The predictions made with data science can also be useful for marketing, allowing marketers to target advertisements towards the people who are most likely to buy the product based on what they have bought previously, the types of websites they visit, and products that people who are similar to the target have purchased."
   ]
  },
  {
   "cell_type": "markdown",
   "metadata": {},
   "source": [
    "## The Process of Data Science\n",
    "\n",
    "### 1 Discovery\n",
    "This is where a data scientist works to understand the problem that is to be solved. Figuring out what the knowledge gained is to be used for allows the scientist to decide what should be predicted. Once they know what they are attempting to predict it is possible to create a hypothesis of how certain pieces of data might relate to each other so that it may be tested.\n",
    "\n",
    "### 2 Data Preparation\n",
    "Here the data is extracted from the various sources and arranged in a manner that is easier to analyze. Due to possible inconsistencies in the way the data was recorded this would also be the point where the data is cleaned, e.g. if an elapsed time is a part of the dataset some of the sources may record the time in hours while others record in minutes, others may also use a combination of hours and minutes; to make this easier to analyze all of the elapsed time can be converted into minutes.\n",
    "\n",
    "Another thing to look out for are portions of the data that are missing too much information to be useful. These entries should be removed from the dataset.\n",
    "\n",
    "### 3 Model Planning\n",
    "Once the data is neatly organized the data scientist can now decide what techniques to use for finding the relationships in the data.\n",
    "\n",
    "### 4 Model Building\n",
    "At this stage datasets are chosen for testing the code.\n",
    "\n",
    "### 5 Operationalize\n",
    "Here is where a data scientist will write out final reports and technical documents.\n",
    "\n",
    "### 6 Communicate Results\n",
    "Finally the knowledge gained is presented and it is determined if the problem was solved."
   ]
  },
  {
   "cell_type": "markdown",
   "metadata": {},
   "source": [
    "# Python introduction\n",
    "\n",
    "---\n",
    "\n",
    "Python is an interpreted, open source programming language, which is rapidly growing and becoming more popular for Data Science ecosystems. Python’s success and popularity reasons are its set of robust libraries that make it so dynamic and fast, in addition, people who doesn’t have acquainted with other languages are able to use this language "
   ]
  },
  {
   "cell_type": "markdown",
   "metadata": {},
   "source": [
    "## Why Data Science with Python?\n",
    "\n",
    "Python is very effective for performing data science with plenty of resources available from books to online courses.You will find significant set of data science libraries one can use with ready-to-use different packages for loading and playing around with data, visualizing the data, transforming inputs into a numerical matrix, or actual machine learning and assessment.\n",
    "Python is a very powerful programming language used for many different applications. Over time, the community around this open source language has created quite a few tools to efficiently work with Python ,such as packages for data visualization, machine learning, natural language processing, complex data analysis and more. Package example:\n",
    "* __Pandas and numpy__ to read/manipulate data efficiently and easily.\n",
    "* __Matplotlib__ to create useful and powerful data visualizations. \n",
    "* __Scikit-learn__ to train and apply machine learning algorithms to your data and make predictions.\n",
    "* __BeautifulSoup__ to easily read in XML and HTML type data which are very common.\n",
    "* __PyMySQL__ to connect to MySQL database, execute queries and extract data.\n",
    "\n"
   ]
  },
  {
   "cell_type": "markdown",
   "metadata": {},
   "source": [
    "## Python Disadvantages\n",
    "Python is interpreted language and slow compared to C/C++ or java. This however isn’t the problems unless speed is focal point for the project, also, python is flexible of data-types so memory consumption is also high, for this reason, python is not good choice for memory intensive tasks.\n"
   ]
  },
  {
   "cell_type": "markdown",
   "metadata": {},
   "source": [
    "# What is Jupyter\n",
    "---\n",
    "The most popular Python’s IDE\n",
    ", Jupyter Notebook, is very useful in providing adequate shortcuts for reducing typing work, instant error detection and help per lines/blocks/cells of code.\n",
    "It also has features like getting the output of each cell of code at real time before progressing to the next block, which efficiently helps in debugging and writing more cleaner code. Other popular IDEs for Python are Pycharm, Notepadd++, Anaconda shell, etc."
   ]
  },
  {
   "cell_type": "markdown",
   "metadata": {},
   "source": [
    "### Sources\n",
    "\n",
    "What is Data Science (Edureka)\n",
    "https://www.edureka.co/blog/what-is-data-science/\n",
    "\n",
    "Data science with python \n",
    "https://www.quora.com/search?q=why+data+science+with+python"
   ]
  }
 ],
 "metadata": {
  "kernelspec": {
   "display_name": "Python 3",
   "language": "python",
   "name": "python3"
  },
  "language_info": {
   "codemirror_mode": {
    "name": "ipython",
    "version": 3
   },
   "file_extension": ".py",
   "mimetype": "text/x-python",
   "name": "python",
   "nbconvert_exporter": "python",
   "pygments_lexer": "ipython3",
   "version": "3.7.1"
  }
 },
 "nbformat": 4,
 "nbformat_minor": 2
}
