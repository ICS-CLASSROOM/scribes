{
 "cells": [
  {
   "cell_type": "markdown",
   "metadata": {},
   "source": [
    "### Scribers\n",
    "    Kang Christopher\n",
    "    McCabe Brendan"
   ]
  },
  {
   "cell_type": "code",
   "execution_count": 1,
   "metadata": {
    "slideshow": {
     "slide_type": "slide"
    }
   },
   "outputs": [],
   "source": [
    "# %load ../standard_import.txt\n",
    "from IPython.display import Image\n",
    "import pandas as pd\n",
    "import numpy as np\n",
    "import matplotlib.pyplot as plt\n",
    "\n",
    "import statsmodels.api as sm\n",
    "import statsmodels.formula.api as smf\n",
    "\n",
    "\n",
    "from sklearn.linear_model import LogisticRegression\n",
    "from sklearn import datasets\n",
    "%matplotlib inline\n"
   ]
  },
  {
   "cell_type": "markdown",
   "metadata": {},
   "source": [
    "# Logistic Regression\n",
    "\n",
    "The linear regression model that was previously discussed gives a quantitative value to the response variable.  Linear regression does not give qualitative values to the response variable.  One possible model that can be used in cases where qualitative values are needed is the logistic regression model.  Basically, Linear regression is cases where the response variable represents a quantitative value of an instance and logistic regression is used in cases where the value of the response variable represents a classification. For example, logistic regression can be used to predict if a student will get an A on a test or not based on data.  Linear regression on the other hand could be used to predict the percentage grade that the student receives on the test."
   ]
  },
  {
   "cell_type": "markdown",
   "metadata": {},
   "source": [
    "## Classification\n",
    "\n",
    "Classification is the method of taking inputs and assigning each input a qualitative outcome.  In other words, each input is assigned to a category within a set.  Besides assigning the a qualitative outcome to the inputs, classification is also used to determine the probability that an input belongs to a category. "
   ]
  },
  {
   "cell_type": "markdown",
   "metadata": {},
   "source": [
    "## Classes of Logistic Regression\n",
    "\n",
    "There a two different classes of logistic regression.  First is simple or binary logistic regression which is requires that there is only one input.  The other class of logistic regression is multiclass logistic regression which requires two or more inputs.  For now we will examine an example of binary regression."
   ]
  },
  {
   "cell_type": "markdown",
   "metadata": {},
   "source": [
    "## Dataset\n",
    "\n",
    "For this example, the dataset that will be used will contain data of people who default on their credit card payment (brown marks) and those people who don't (blue marks).  There is also data on the income and balance of each individual in the dataset.\n",
    "\n",
    "<img src=\"http://128.171.10.138:4000/assets/ipynb/week_13/images/classification_1.png\" alt=\"Drawing\" style=\"width: 900px;\"/>"
   ]
  },
  {
   "cell_type": "markdown",
   "metadata": {},
   "source": [
    "## Justification for logistic regression\n",
    "\n",
    "Logistic regression requires that the response variable is qualitative.  In our credit card default payment example, the response variable would be whether or not a person defaulted on a credit card payment.  The two categories that the response variable will be predicted to belong to are 0(the person defaulted) and 1(the person didn't default).  By using our dataset, we can calculate the probability that a person will default on a payment in relation to their balance."
   ]
  },
  {
   "cell_type": "markdown",
   "metadata": {},
   "source": [
    "## Using Linear in Classification\n",
    "<img src=\"http://128.171.10.138:4000/assets/ipynb/week_13/images/regression_1.png\" alt=\"Drawing\" style=\"width: 400px;\"/>"
   ]
  },
  {
   "cell_type": "markdown",
   "metadata": {},
   "source": [
    "## Using Linear in Classification - Cont'd\n",
    "\n",
    "One important thing about linear regression is that it assigns continuous values to the response variable.  Although two separate classes might be represented by 1 and 0 on the model, the predicted value can fall between 0 and 1 making it unclear which class a predicted value belongs to.  With this in mind, a threshold can be set to separate the predicted values into one of the two classes.  Any predicted value that lies below the predicted value would be classified as the class represented by 0 and if the predicted value is above the threshold then it would fall under the class represented by 0. The threshold in our example will be set to 0.5 since it lies in the center of the two class values."
   ]
  },
  {
   "cell_type": "markdown",
   "metadata": {},
   "source": [
    "## Using Linear in Classification - Model\n",
    "\n",
    "<img src=\"http://128.171.10.138:4000/assets/ipynb/week_13/images/regression_2.png\" alt=\"Drawing\" style=\"width: 400px;\"/>"
   ]
  },
  {
   "cell_type": "markdown",
   "metadata": {},
   "source": [
    "## Using Linear in Classification - Prediction\n",
    "\n",
    "<img src=\"http://128.171.10.138:4000/assets/ipynb/week_13/images/regression_3.png\" alt=\"Drawing\" style=\"width: 400px;\"/>"
   ]
  },
  {
   "cell_type": "markdown",
   "metadata": {},
   "source": [
    "## Using Linear in Classification - Prediction Regions\n",
    "\n",
    "<img src=\"http://128.171.10.138:4000/assets/ipynb/week_13/images/regression_4.png\" alt=\"Drawing\" style=\"width: 400px;\"/>"
   ]
  },
  {
   "cell_type": "markdown",
   "metadata": {},
   "source": [
    "## Inconvenients of Using Linear Regression\n",
    "\n",
    "There are some problems involved when using linear regression. The first is that the regression line in the model is sensitive to data. Anomalies in the data can alter the regression line in a way that causes the threshold intersection point to be shifted drastically along the x-axis. Another problem is that the predicted values can be values outside of the interval [0,1]. The meaning of such values would be unclear and a they could not be used to determine probabilities.\n",
    "\n",
    "<img src=\"http://128.171.10.138:4000/assets/ipynb/week_13/images/regression_5.png\" alt=\"Drawing\" style=\"width: 400px;\"/>"
   ]
  },
  {
   "cell_type": "markdown",
   "metadata": {},
   "source": [
    "## Logistic Regression\n",
    "\n",
    "Logistic regress is a popular method in data science for classifying a variable X into categories in relation to another variable Y.  A logistic regression model will give a value between 0 and 1 to variable X given a value for variable Y.  The value of X will be the probability that X falls under the category represented by the value 1.  (1 - X)  will be the probability that X falls under the category represented by the value 0.  The logistic function is used to model the separation between the categories.\n",
    "\n",
    "$g(x)=\\frac{1}{1+e^{-}(β_{0}+β_{1}x)}$\n",
    "where $β_{0}$ = 0 and $β_{1}$ = 1\n",
    "\n",
    "This function is used to determine the probability of Y given a value for X, $β_{0}$, and $β_{1}$\n",
    "\n",
    "<img src=\"images/logistic_regression.png\" alt=\"Drawing\" style=\"width: 600px;\"/>"
   ]
  },
  {
   "cell_type": "markdown",
   "metadata": {},
   "source": []
  },
  {
   "cell_type": "code",
   "execution_count": 2,
   "metadata": {},
   "outputs": [
    {
     "data": {
      "text/plain": [
       "<matplotlib.lines.Line2D at 0x7f16f4fd6d68>"
      ]
     },
     "execution_count": 2,
     "metadata": {},
     "output_type": "execute_result"
    },
    {
     "data": {
      "image/png": "[encoded data removed]",
      "text/plain": [
       "<Figure size 864x360 with 1 Axes>"
      ]
     },
     "metadata": {
      "needs_background": "light"
     },
     "output_type": "display_data"
    }
   ],
   "source": [
    "\n",
    "x_axis = np.arange(-10, 10, 0.05)\n",
    "y_axis = 1 / (1 + np.e**-x_axis)\n",
    "plt.figure(figsize=(12,5))\n",
    "plt.plot(x_axis, y_axis)\n",
    "plt.axhline(0.5, linestyle=\"--\", color='r', alpha=0.2)\n",
    "plt.axvline(0, linestyle=\"--\", color='k', alpha=0.2)"
   ]
  },
  {
   "cell_type": "markdown",
   "metadata": {
    "slideshow": {
     "slide_type": "slide"
    }
   },
   "source": [
    "### Parameters of the Logstic \n",
    "\n",
    "Linear Regression was able to help us predict values on a scale of 0 - 100.\n",
    "On the other hand, **Logistic Regression** could help us predict whether something is true or false, as **Logistic regression** predictions are discrete (only specific values or categories are allowed). In the examples below we will cover **Binary logistic Regression** (i.e. True/False).\n",
    "\n",
    "We saw that $g(x) = \\frac{1}{1+e^-(\\beta_0 + \\beta_1~x)}$, which returns a probability score between 0 and 1. In order to map this to a discrete class (i.e. true/false), we select a threshold value or tipping point which we will classify values into two classes: $\\begin{split}p \\geq 0.5, class=1 \\\\\n",
    "p < 0.5, class=0\\end{split}$\n",
    "\n",
    "\n",
    "As with the linear regression, we assumed that the params of the model $\\beta_0$ and $\\beta_1$ can be anything. Below we can observe how altering the value of $\\beta_0$ changes the point of intersection between the sigmoid and the **Decision Bound**. Whereas altering $\\beta_1$ changes the slope of the sigmoid. \n",
    "\n",
    "see __[this for information about parameters of logistic regression models](https://www.stat.cmu.edu/~cshalizi/uADA/12/lectures/ch12.pdf)__"
   ]
  },
  {
   "cell_type": "markdown",
   "metadata": {
    "slideshow": {
     "slide_type": "slide"
    }
   },
   "source": [
    "### Changing $\\beta_0$\n",
    "\n",
    "Changing the value of $\\beta_0$ changes the point of intersection between the sigmoid and the Decision Bound. The grey dashed line shows the intersection of the sigmoid and the decision bound and the red dashed line represents the decision bound.  "
   ]
  },
  {
   "cell_type": "code",
   "execution_count": 3,
   "metadata": {
    "slideshow": {
     "slide_type": "slide"
    }
   },
   "outputs": [
    {
     "data": {
      "text/plain": [
       "<matplotlib.legend.Legend at 0x7f16f4e6d5f8>"
      ]
     },
     "execution_count": 3,
     "metadata": {},
     "output_type": "execute_result"
    },
    {
     "data": {
      "image/png": "[encoded data removed]",
      "text/plain": [
       "<Figure size 1440x360 with 2 Axes>"
      ]
     },
     "metadata": {
      "needs_background": "light"
     },
     "output_type": "display_data"
    }
   ],
   "source": [
    "plt.figure(figsize=(20,5))\n",
    "\n",
    "plt.subplot(1, 2, 1)\n",
    "plt.axhline(0.5, linestyle=\"--\", color='r', alpha=0.5)\n",
    "plt.axvline(0, linestyle=\"--\", color='k', alpha=0.5)\n",
    "plt.axvline(-5, linestyle=\"--\", color='k', alpha=0.5)\n",
    "plt.axvline(5, linestyle=\"--\", color='k', alpha=0.5)\n",
    "x = np.arange(-10, 10, 0.05)\n",
    "\n",
    "beta_0, beta_1 = (0, 1) \n",
    "y = 1 / (1 + np.e **-(beta_0 + beta_1*x))\n",
    "plt.plot(x, y, label = r'$\\beta_0 = {}, \\beta_1 = {}$'.format(beta_0, beta_1))\n",
    "\n",
    "beta_0, beta_1 = (-5, 1) \n",
    "y = 1 / (1 + np.e **-(beta_0 + beta_1*x))\n",
    "plt.plot(x, y, label = r'$\\beta_0 = {}, \\beta_1 = {}$'.format(beta_0, beta_1))\n",
    "\n",
    "beta_0, beta_1 = (5, 1) \n",
    "y = 1 / (1 + np.e **-(beta_0 + beta_1*x))\n",
    "plt.plot(x, y, label = r'$\\beta_0 = {}, \\beta_1 = {}$'.format(beta_0, beta_1))\n",
    "\n",
    "plt.legend()\n",
    "\n",
    "plt.subplot(1, 2, 2)\n",
    "beta_0, beta_1 = (0, -1) \n",
    "y = 1 / (1 + np.e **-(beta_0 + beta_1*x))\n",
    "plt.plot(x, y, label = r'$\\beta_0 = {}, \\beta_1 = {}$'.format(beta_0, beta_1))\n",
    "\n",
    "beta_0, beta_1 = (-5, -1) \n",
    "y = 1 / (1 + np.e **-(beta_0 + beta_1*x))\n",
    "plt.plot(x, y, label = r'$\\beta_0 = {}, \\beta_1 = {}$'.format(beta_0, beta_1))\n",
    "\n",
    "beta_0, beta_1 = (5, -1) \n",
    "y = 1 / (1 + np.e **-(beta_0 + beta_1*x))\n",
    "plt.plot(x, y, label = r'$\\beta_0 = {}, \\beta_1 = {}$'.format(beta_0, beta_1))\n",
    "\n",
    "plt.legend()\n"
   ]
  },
  {
   "cell_type": "markdown",
   "metadata": {
    "slideshow": {
     "slide_type": "slide"
    }
   },
   "source": [
    "### Changing $\\beta_1$\n",
    "Changing the value of $\\beta_1$ changes the slope of the sigmoid. The grey dashed line shows the intersection of the sigmoid and the decision bound and the red dashed line represents the decision bound.  \n"
   ]
  },
  {
   "cell_type": "code",
   "execution_count": 4,
   "metadata": {
    "slideshow": {
     "slide_type": "slide"
    }
   },
   "outputs": [
    {
     "data": {
      "text/plain": [
       "<matplotlib.legend.Legend at 0x7f16f494ecc0>"
      ]
     },
     "execution_count": 4,
     "metadata": {},
     "output_type": "execute_result"
    },
    {
     "data": {
      "image/png": "[encoded data removed]",
      "text/plain": [
       "<Figure size 1440x360 with 2 Axes>"
      ]
     },
     "metadata": {
      "needs_background": "light"
     },
     "output_type": "display_data"
    }
   ],
   "source": [
    "plt.figure(figsize=(20,5))\n",
    "\n",
    "plt.subplot(1, 2, 1)\n",
    "plt.axhline(0.5, linestyle=\"--\", color='r', alpha=0.5)\n",
    "plt.axvline(0, linestyle=\"--\", color='k', alpha=0.5)\n",
    "x = np.arange(-10, 10, 0.05)\n",
    "\n",
    "beta_0, beta_1 = (0, 0.6) \n",
    "y = 1 / (1 + np.e **-(beta_0 + beta_1*x))\n",
    "plt.plot(x, y, label = r'$\\beta_0 = {}, \\beta_1 = {}$'.format(beta_0, beta_1))\n",
    "\n",
    "beta_0, beta_1 = (0, 1) \n",
    "y = 1 / (1 + np.e **-(beta_0 + beta_1*x))\n",
    "plt.plot(x, y, label = r'$\\beta_0 = {}, \\beta_1 = {}$'.format(beta_0, beta_1))\n",
    "\n",
    "beta_0, beta_1 = (0, 20) \n",
    "y = 1 / (1 + np.e **-(beta_0 + beta_1*x))\n",
    "plt.plot(x, y, label = r'$\\beta_0 = {}, \\beta_1 = {}$'.format(beta_0, beta_1))\n",
    "\n",
    "plt.legend()\n",
    "\n",
    "plt.subplot(1, 2, 2)\n",
    "beta_0, beta_1 = (0, -0.6) \n",
    "y = 1 / (1 + np.e **-(beta_0 + beta_1*x))\n",
    "plt.plot(x, y, label = r'$\\beta_0 = {}, \\beta_1 = {}$'.format(beta_0, beta_1))\n",
    "\n",
    "beta_0, beta_1 = (0, -1) \n",
    "y = 1 / (1 + np.e **-(beta_0 + beta_1*x))\n",
    "plt.plot(x, y, label = r'$\\beta_0 = {}, \\beta_1 = {}$'.format(beta_0, beta_1))\n",
    "\n",
    "beta_0, beta_1 = (0, -20) \n",
    "y = 1 / (1 + np.e **-(beta_0 + beta_1*x))\n",
    "plt.plot(x, y, label = r'$\\beta_0 = {}, \\beta_1 = {}$'.format(beta_0, beta_1))\n",
    "\n",
    "plt.legend()\n"
   ]
  },
  {
   "cell_type": "code",
   "execution_count": 5,
   "metadata": {
    "slideshow": {
     "slide_type": "slide"
    }
   },
   "outputs": [
    {
     "data": {
      "text/plain": [
       "<matplotlib.lines.Line2D at 0x7f16f44fbda0>"
      ]
     },
     "execution_count": 5,
     "metadata": {},
     "output_type": "execute_result"
    },
    {
     "data": {
      "image/png": "[encoded data removed]",
      "text/plain": [
       "<Figure size 864x432 with 1 Axes>"
      ]
     },
     "metadata": {
      "needs_background": "light"
     },
     "output_type": "display_data"
    }
   ],
   "source": [
    "x_axis = np.arange(-10, 10, 0.05)\n",
    "y_axis = 1 / (1 + np.e**-x_axis)\n",
    "plt.figure(figsize=(12,6))\n",
    "plt.plot([2.5], [1 / (1 + np.e**-2.5)], 'or', markersize=12)\n",
    "\n",
    "plt.plot(x_axis, y_axis)\n",
    "plt.axhline(0.5, linestyle=\"--\", color='k', alpha=0.2)\n",
    "plt.axvline(0, linestyle=\"--\", color='k', alpha=0.2)\n",
    "\n",
    "plt.axhline(1 / (1 + np.e**-2.5), linestyle=\"--\", color='r', alpha=0.2)\n",
    "plt.axvline(2.5, linestyle=\"--\", color='r', alpha=0.2)\n",
    "\n",
    "\n"
   ]
  },
  {
   "cell_type": "markdown",
   "metadata": {
    "slideshow": {
     "slide_type": "slide"
    }
   },
   "source": [
    "### Fitting the Model: Linear Regression Parallel\n",
    "\n",
    "  Previously in linear regression, we mentioned that the straight line fitting of the data can be obtained by minimizing the distance between each dot of a plot and the regression line. In fact we minimize the sum of the squares of the distance between dots and the regression line (squared in order to avoid negative differences) and among all possible lines, the one selected has the smallest sum of squared residuals. This is called the least sum of square method. We are then able to identify $\\beta_0$ and $\\beta_1$ which minimise the sum of squares.\n",
    "  \n",
    "see __[this for information about fitting logistic regression models](https://wiki.ecdc.europa.eu/fem/w/wiki/fitting-logistic-regression-models/revision/41)__"
   ]
  },
  {
   "cell_type": "markdown",
   "metadata": {
    "slideshow": {
     "slide_type": "slide"
    }
   },
   "source": [
    "### Fitting the Model\n",
    "\n",
    "However, in logistic regression, the method is more complicated. It is called the maximum likelihood method. Maximum likelihood will provide values of $\\beta_0$ and $\\beta_1$ which maximise the probability of obtaining the data set. Specifically, in binary logistic regression, the outcomes  are 0 and 1, and the predictions are also either 0 or 1. \n",
    "One trivial approach would consist in identifying the sigmoid function that minimizes the mispredictions, using the same method as in linear regression, we could describe the function as:\n",
    "\n",
    "$$\n",
    "\\frac{1}{n} \\sum_1^n (g(x) - y)\n",
    "$$\n",
    "\n",
    "It would require iterative computing and is easily done with most computer software. Unfortunately, this function is not convex but does guarantee that the function will converge to the global minimum. "
   ]
  },
  {
   "cell_type": "markdown",
   "metadata": {
    "slideshow": {
     "slide_type": "slide"
    }
   },
   "source": [
    "### Fitting the Model- Cont'd\n",
    "\n",
    "\n",
    " Unfortunately, we can't use the same cost function as we did for linear regression. Why? It’s because our new prediction function is non-linear (due to sigmoid transform). Squaring this prediction results in a non-convex function (as seen above) with many local minimums. If our cost function has many local minimums, gradient descent may not find the optimal global minimum.\n",
    "\n",
    "Instead, given some tuple ($\\beta_0$ and $\\beta_1$), the following convex function (Cross-entropy) is commonly used to compute the cost\n",
    "\n",
    "$$\n",
    "    cost(g(x),y) = \\left\\{\n",
    "    \\begin{array}{ll}\n",
    "        -log(g(x)) & \\mbox{ if }  y = 1 \\\\\n",
    "        -log(1 - g(x)) & \\mbox{ if }  y = 0 \\\\\n",
    "    \\end{array}\n",
    "\\right.\n",
    "$$\n",
    "\n",
    "Cross-entropy loss can be divided into two separate cost functions: one for $y = 1$ and one for $y = 0$. Remember that $g(x)$ is simply the probability that the class is 1.\n",
    "\n",
    "see __[this guide for more information](https://ml-cheatsheet.readthedocs.io/en/latest/logistic_regression.html)__\n"
   ]
  },
  {
   "cell_type": "markdown",
   "metadata": {
    "slideshow": {
     "slide_type": "slide"
    }
   },
   "source": [
    "### Cost Function Explained  ($y=1$)\n",
    "\n",
    "$$\n",
    "        -log(g(x)) \\mbox{ if }  y = 1\n",
    "$$\n",
    "\n",
    "For $y = 1$\n",
    "\n",
    "Recall that the X axis is what we predict (cost function) and the Y axis is the cost associated with that prediction. So when we're right, cost function (g(x)) is 0, else, it slowly increases the cost function as we become \"more\" wrong.\n",
    "\n",
    "\n",
    "This cost functions has some interesting properties:\n",
    "If $y = 1$ and $g(x) = 1$, then we incur no cost.\n",
    "Also, if the hypothesis predicts exactly 1 and thats exactly correct then that corresponds to 0 (exactly, not nearly 0). Lastly, if g(x) goes to 0 the cost goes to infinity.\n",
    "This captures the intuition that if g(x) = 0 (predict $P (y=1|x; θ) = 0$) but $y = 1$ this will penalize the learning algorithm with a massive cost.\n",
    "\n",
    "see __[this guide for more information](http://www.holehouse.org/mlclass/06_Logistic_Regression.html)__"
   ]
  },
  {
   "cell_type": "code",
   "execution_count": 6,
   "metadata": {
    "slideshow": {
     "slide_type": "slide"
    }
   },
   "outputs": [
    {
     "data": {
      "image/png": "[encoded data removed]",
      "text/plain": [
       "<Figure size 432x288 with 1 Axes>"
      ]
     },
     "metadata": {
      "needs_background": "light"
     },
     "output_type": "display_data"
    }
   ],
   "source": [
    "x_axis = np.arange(0.000001, 1.1, 0.05)\n",
    "y_axis = - np.log(x_axis)\n",
    "plt.plot(x_axis, y_axis)\n",
    "plt.xlim(0,1)\n",
    "plt.ylim(0,3)\n",
    "plt.title(\"if y=1\")\n",
    "plt.xlabel(\"g(x)\")\n",
    "\n",
    "plt.show()"
   ]
  },
  {
   "cell_type": "markdown",
   "metadata": {
    "slideshow": {
     "slide_type": "slide"
    }
   },
   "source": [
    "### Cost Function Explained ($y=0$)\n",
    "\n",
    "$$\n",
    "        -log(1 - g_(x)) \\mbox{ if }  y = 0 \\\\\n",
    "$$\n",
    "for $y = 0$\n",
    "The cost is evaluated as the function above and we simply get inverse of the other function, meaning if the prediction/function is 0, then we incur no cost and if only the prediction is 1, then we are incurring an infinite cost. \n",
    "see __[this guide for more information](http://www.holehouse.org/mlclass/06_Logistic_Regression.html)__"
   ]
  },
  {
   "cell_type": "code",
   "execution_count": 7,
   "metadata": {
    "slideshow": {
     "slide_type": "slide"
    }
   },
   "outputs": [
    {
     "data": {
      "image/png": "[encoded data removed]",
      "text/plain": [
       "<Figure size 432x288 with 1 Axes>"
      ]
     },
     "metadata": {
      "needs_background": "light"
     },
     "output_type": "display_data"
    }
   ],
   "source": [
    "x_axis = np.arange(0, 0.9999999, 0.05)\n",
    "y_axis = - np.log(1 - x_axis)\n",
    "plt.plot(x_axis, y_axis)\n",
    "plt.xlim(0,1)\n",
    "plt.ylim(0,3)\n",
    "plt.title(\"if y=0\")\n",
    "plt.xlabel(\"g(x)\")\n",
    "plt.show()"
   ]
  },
  {
   "cell_type": "markdown",
   "metadata": {
    "slideshow": {
     "slide_type": "slide"
    }
   },
   "source": [
    "### Training\n",
    "\n",
    "Training a model is the process of iteratively improving your prediction equation by looping through the dataset multiple times, each time updating the weight and bias values in the direction indicated by the slope of the cost function (gradient). Training is complete when we reach an acceptable error threshold, or when subsequent training iterations fail to reduce our cost. Therefore, by averaging the cost over all instances in the data, we end up with the parameters ($\\beta$s) that best fit the data. Thus for a dataset of size $n$, we pick the tuple $\\beta$ of params which minimizes:\n",
    "\n",
    "$$\n",
    "\\sum_{\\forall x}cost(g(x)_{\\beta},y)~~/~~n\n",
    "$$\n",
    "\n",
    "see __[this guide for more information](https://ml-cheatsheet.readthedocs.io/en/latest/linear_regression.html#introduction)__"
   ]
  },
  {
   "cell_type": "markdown",
   "metadata": {
    "slideshow": {
     "slide_type": "slide"
    }
   },
   "source": [
    "### Prediction\n",
    "Now that we have parameters $\\beta_0$ and $\\beta_1$ from training which minimize g(x), we have a set of parameters to use in our model for future predictions. So, if we're given some new example with set of features X, we can take the parameters ($\\beta s$) which we generated, and output a prediction for the probability of true by using:\n",
    "$$\n",
    "p(y=1| x, \\beta_0,\\beta_1) = g(x) = \\frac{1}{1+e^{\\beta_0+\\beta_1~x}}\n",
    "$$\n",
    " Or, recall thast the probabolty of false is merely $1- p(y=1| x, \\beta_0,\\beta_1)$\n"
   ]
  },
  {
   "cell_type": "markdown",
   "metadata": {},
   "source": [
    "### Logistic Regression with `sklearn`\n",
    "\n",
    "Using statsmodels, we can infer the values of $\\beta_0$ and $\\beta_1$ such that\n",
    "\n",
    "$$\n",
    "    default = \\frac{1}{1 + e^{-(\\beta_o + \\beta_1 ~ balance})} + \\epsilon_x\n",
    "$$\n",
    "\n",
    "Similar  to the regression, $\\epsilon$ is the noise component. The data below is related with direct marketing campaigns of a Portuguese banking institution. The marketing campaigns were based on phone calls. We will examine if each client has has credit in default based on balance.\n",
    "\n",
    "S. Moro, P. Cortez and P. Rita. A Data-Driven Approach to Predict the Success of Bank Telemarketing. Decision Support Systems, Elsevier, 62:22-31, June 2014"
   ]
  },
  {
   "cell_type": "code",
   "execution_count": 17,
   "metadata": {},
   "outputs": [
    {
     "data": {
      "text/html": [
       "<div>\n",
       "<style scoped>\n",
       "    .dataframe tbody tr th:only-of-type {\n",
       "        vertical-align: middle;\n",
       "    }\n",
       "\n",
       "    .dataframe tbody tr th {\n",
       "        vertical-align: top;\n",
       "    }\n",
       "\n",
       "    .dataframe thead th {\n",
       "        text-align: right;\n",
       "    }\n",
       "</style>\n",
       "<table border=\"1\" class=\"dataframe\">\n",
       "  <thead>\n",
       "    <tr style=\"text-align: right;\">\n",
       "      <th></th>\n",
       "      <th>age</th>\n",
       "      <th>job</th>\n",
       "      <th>marital</th>\n",
       "      <th>education</th>\n",
       "      <th>default</th>\n",
       "      <th>balance</th>\n",
       "      <th>housing</th>\n",
       "      <th>loan</th>\n",
       "      <th>contact</th>\n",
       "      <th>day</th>\n",
       "      <th>month</th>\n",
       "      <th>duration</th>\n",
       "      <th>campaign</th>\n",
       "      <th>pdays</th>\n",
       "      <th>previous</th>\n",
       "      <th>poutcome</th>\n",
       "      <th>y</th>\n",
       "    </tr>\n",
       "  </thead>\n",
       "  <tbody>\n",
       "    <tr>\n",
       "      <th>0</th>\n",
       "      <td>30</td>\n",
       "      <td>unemployed</td>\n",
       "      <td>married</td>\n",
       "      <td>primary</td>\n",
       "      <td>no</td>\n",
       "      <td>1787</td>\n",
       "      <td>no</td>\n",
       "      <td>no</td>\n",
       "      <td>cellular</td>\n",
       "      <td>19</td>\n",
       "      <td>oct</td>\n",
       "      <td>79</td>\n",
       "      <td>1</td>\n",
       "      <td>-1</td>\n",
       "      <td>0</td>\n",
       "      <td>unknown</td>\n",
       "      <td>no</td>\n",
       "    </tr>\n",
       "    <tr>\n",
       "      <th>1</th>\n",
       "      <td>33</td>\n",
       "      <td>services</td>\n",
       "      <td>married</td>\n",
       "      <td>secondary</td>\n",
       "      <td>no</td>\n",
       "      <td>4789</td>\n",
       "      <td>yes</td>\n",
       "      <td>yes</td>\n",
       "      <td>cellular</td>\n",
       "      <td>11</td>\n",
       "      <td>may</td>\n",
       "      <td>220</td>\n",
       "      <td>1</td>\n",
       "      <td>339</td>\n",
       "      <td>4</td>\n",
       "      <td>failure</td>\n",
       "      <td>no</td>\n",
       "    </tr>\n",
       "    <tr>\n",
       "      <th>2</th>\n",
       "      <td>35</td>\n",
       "      <td>management</td>\n",
       "      <td>single</td>\n",
       "      <td>tertiary</td>\n",
       "      <td>no</td>\n",
       "      <td>1350</td>\n",
       "      <td>yes</td>\n",
       "      <td>no</td>\n",
       "      <td>cellular</td>\n",
       "      <td>16</td>\n",
       "      <td>apr</td>\n",
       "      <td>185</td>\n",
       "      <td>1</td>\n",
       "      <td>330</td>\n",
       "      <td>1</td>\n",
       "      <td>failure</td>\n",
       "      <td>no</td>\n",
       "    </tr>\n",
       "    <tr>\n",
       "      <th>3</th>\n",
       "      <td>30</td>\n",
       "      <td>management</td>\n",
       "      <td>married</td>\n",
       "      <td>tertiary</td>\n",
       "      <td>no</td>\n",
       "      <td>1476</td>\n",
       "      <td>yes</td>\n",
       "      <td>yes</td>\n",
       "      <td>unknown</td>\n",
       "      <td>3</td>\n",
       "      <td>jun</td>\n",
       "      <td>199</td>\n",
       "      <td>4</td>\n",
       "      <td>-1</td>\n",
       "      <td>0</td>\n",
       "      <td>unknown</td>\n",
       "      <td>no</td>\n",
       "    </tr>\n",
       "    <tr>\n",
       "      <th>4</th>\n",
       "      <td>59</td>\n",
       "      <td>blue-collar</td>\n",
       "      <td>married</td>\n",
       "      <td>secondary</td>\n",
       "      <td>no</td>\n",
       "      <td>0</td>\n",
       "      <td>yes</td>\n",
       "      <td>no</td>\n",
       "      <td>unknown</td>\n",
       "      <td>5</td>\n",
       "      <td>may</td>\n",
       "      <td>226</td>\n",
       "      <td>1</td>\n",
       "      <td>-1</td>\n",
       "      <td>0</td>\n",
       "      <td>unknown</td>\n",
       "      <td>no</td>\n",
       "    </tr>\n",
       "  </tbody>\n",
       "</table>\n",
       "</div>"
      ],
      "text/plain": [
       "   age          job  marital  education default  balance housing loan  \\\n",
       "0   30   unemployed  married    primary      no     1787      no   no   \n",
       "1   33     services  married  secondary      no     4789     yes  yes   \n",
       "2   35   management   single   tertiary      no     1350     yes   no   \n",
       "3   30   management  married   tertiary      no     1476     yes  yes   \n",
       "4   59  blue-collar  married  secondary      no        0     yes   no   \n",
       "\n",
       "    contact  day month  duration  campaign  pdays  previous poutcome   y  \n",
       "0  cellular   19   oct        79         1     -1         0  unknown  no  \n",
       "1  cellular   11   may       220         1    339         4  failure  no  \n",
       "2  cellular   16   apr       185         1    330         1  failure  no  \n",
       "3   unknown    3   jun       199         4     -1         0  unknown  no  \n",
       "4   unknown    5   may       226         1     -1         0  unknown  no  "
      ]
     },
     "execution_count": 17,
     "metadata": {},
     "output_type": "execute_result"
    }
   ],
   "source": [
    "data = pd.read_csv(\"data/bank.csv\", sep=';')\n",
    "data.head()"
   ]
  },
  {
   "cell_type": "code",
   "execution_count": 18,
   "metadata": {},
   "outputs": [
    {
     "data": {
      "text/html": [
       "<div>\n",
       "<style scoped>\n",
       "    .dataframe tbody tr th:only-of-type {\n",
       "        vertical-align: middle;\n",
       "    }\n",
       "\n",
       "    .dataframe tbody tr th {\n",
       "        vertical-align: top;\n",
       "    }\n",
       "\n",
       "    .dataframe thead th {\n",
       "        text-align: right;\n",
       "    }\n",
       "</style>\n",
       "<table border=\"1\" class=\"dataframe\">\n",
       "  <thead>\n",
       "    <tr style=\"text-align: right;\">\n",
       "      <th></th>\n",
       "      <th>age</th>\n",
       "      <th>job</th>\n",
       "      <th>marital</th>\n",
       "      <th>education</th>\n",
       "      <th>default</th>\n",
       "      <th>balance</th>\n",
       "      <th>housing</th>\n",
       "      <th>loan</th>\n",
       "      <th>contact</th>\n",
       "      <th>day</th>\n",
       "      <th>month</th>\n",
       "      <th>duration</th>\n",
       "      <th>campaign</th>\n",
       "      <th>pdays</th>\n",
       "      <th>previous</th>\n",
       "      <th>poutcome</th>\n",
       "      <th>y</th>\n",
       "      <th>encoded_default</th>\n",
       "    </tr>\n",
       "  </thead>\n",
       "  <tbody>\n",
       "    <tr>\n",
       "      <th>0</th>\n",
       "      <td>30</td>\n",
       "      <td>unemployed</td>\n",
       "      <td>married</td>\n",
       "      <td>primary</td>\n",
       "      <td>no</td>\n",
       "      <td>1787</td>\n",
       "      <td>no</td>\n",
       "      <td>no</td>\n",
       "      <td>cellular</td>\n",
       "      <td>19</td>\n",
       "      <td>oct</td>\n",
       "      <td>79</td>\n",
       "      <td>1</td>\n",
       "      <td>-1</td>\n",
       "      <td>0</td>\n",
       "      <td>unknown</td>\n",
       "      <td>no</td>\n",
       "      <td>0</td>\n",
       "    </tr>\n",
       "    <tr>\n",
       "      <th>1</th>\n",
       "      <td>33</td>\n",
       "      <td>services</td>\n",
       "      <td>married</td>\n",
       "      <td>secondary</td>\n",
       "      <td>no</td>\n",
       "      <td>4789</td>\n",
       "      <td>yes</td>\n",
       "      <td>yes</td>\n",
       "      <td>cellular</td>\n",
       "      <td>11</td>\n",
       "      <td>may</td>\n",
       "      <td>220</td>\n",
       "      <td>1</td>\n",
       "      <td>339</td>\n",
       "      <td>4</td>\n",
       "      <td>failure</td>\n",
       "      <td>no</td>\n",
       "      <td>0</td>\n",
       "    </tr>\n",
       "    <tr>\n",
       "      <th>2</th>\n",
       "      <td>35</td>\n",
       "      <td>management</td>\n",
       "      <td>single</td>\n",
       "      <td>tertiary</td>\n",
       "      <td>no</td>\n",
       "      <td>1350</td>\n",
       "      <td>yes</td>\n",
       "      <td>no</td>\n",
       "      <td>cellular</td>\n",
       "      <td>16</td>\n",
       "      <td>apr</td>\n",
       "      <td>185</td>\n",
       "      <td>1</td>\n",
       "      <td>330</td>\n",
       "      <td>1</td>\n",
       "      <td>failure</td>\n",
       "      <td>no</td>\n",
       "      <td>0</td>\n",
       "    </tr>\n",
       "    <tr>\n",
       "      <th>3</th>\n",
       "      <td>30</td>\n",
       "      <td>management</td>\n",
       "      <td>married</td>\n",
       "      <td>tertiary</td>\n",
       "      <td>no</td>\n",
       "      <td>1476</td>\n",
       "      <td>yes</td>\n",
       "      <td>yes</td>\n",
       "      <td>unknown</td>\n",
       "      <td>3</td>\n",
       "      <td>jun</td>\n",
       "      <td>199</td>\n",
       "      <td>4</td>\n",
       "      <td>-1</td>\n",
       "      <td>0</td>\n",
       "      <td>unknown</td>\n",
       "      <td>no</td>\n",
       "      <td>0</td>\n",
       "    </tr>\n",
       "    <tr>\n",
       "      <th>4</th>\n",
       "      <td>59</td>\n",
       "      <td>blue-collar</td>\n",
       "      <td>married</td>\n",
       "      <td>secondary</td>\n",
       "      <td>no</td>\n",
       "      <td>0</td>\n",
       "      <td>yes</td>\n",
       "      <td>no</td>\n",
       "      <td>unknown</td>\n",
       "      <td>5</td>\n",
       "      <td>may</td>\n",
       "      <td>226</td>\n",
       "      <td>1</td>\n",
       "      <td>-1</td>\n",
       "      <td>0</td>\n",
       "      <td>unknown</td>\n",
       "      <td>no</td>\n",
       "      <td>0</td>\n",
       "    </tr>\n",
       "  </tbody>\n",
       "</table>\n",
       "</div>"
      ],
      "text/plain": [
       "   age          job  marital  education default  balance housing loan  \\\n",
       "0   30   unemployed  married    primary      no     1787      no   no   \n",
       "1   33     services  married  secondary      no     4789     yes  yes   \n",
       "2   35   management   single   tertiary      no     1350     yes   no   \n",
       "3   30   management  married   tertiary      no     1476     yes  yes   \n",
       "4   59  blue-collar  married  secondary      no        0     yes   no   \n",
       "\n",
       "    contact  day month  duration  campaign  pdays  previous poutcome   y  \\\n",
       "0  cellular   19   oct        79         1     -1         0  unknown  no   \n",
       "1  cellular   11   may       220         1    339         4  failure  no   \n",
       "2  cellular   16   apr       185         1    330         1  failure  no   \n",
       "3   unknown    3   jun       199         4     -1         0  unknown  no   \n",
       "4   unknown    5   may       226         1     -1         0  unknown  no   \n",
       "\n",
       "   encoded_default  \n",
       "0                0  \n",
       "1                0  \n",
       "2                0  \n",
       "3                0  \n",
       "4                0  "
      ]
     },
     "execution_count": 18,
     "metadata": {},
     "output_type": "execute_result"
    }
   ],
   "source": [
    "data[\"encoded_default\"] = data[\"default\"].map({\"no\":0, \"yes\":1})\n",
    "\n",
    "data.head()"
   ]
  },
  {
   "cell_type": "code",
   "execution_count": 10,
   "metadata": {},
   "outputs": [
    {
     "data": {
      "text/plain": [
       "0       1787\n",
       "1       4789\n",
       "2       1350\n",
       "3       1476\n",
       "4          0\n",
       "5        747\n",
       "6        307\n",
       "7        147\n",
       "8        221\n",
       "9        -88\n",
       "10      9374\n",
       "11       264\n",
       "12      1109\n",
       "13       502\n",
       "14       360\n",
       "15       194\n",
       "16      4073\n",
       "17      2317\n",
       "18      -221\n",
       "19       132\n",
       "20         0\n",
       "21        16\n",
       "22       106\n",
       "23        93\n",
       "24       543\n",
       "25      5883\n",
       "26       627\n",
       "27       696\n",
       "28       784\n",
       "29       105\n",
       "        ... \n",
       "4491       0\n",
       "4492     309\n",
       "4493       0\n",
       "4494     668\n",
       "4495    1175\n",
       "4496     363\n",
       "4497      38\n",
       "4498    1183\n",
       "4499     942\n",
       "4500    4196\n",
       "4501     297\n",
       "4502     -91\n",
       "4503     362\n",
       "4504    1080\n",
       "4505     620\n",
       "4506    -166\n",
       "4507     288\n",
       "4508     642\n",
       "4509    2506\n",
       "4510     566\n",
       "4511     668\n",
       "4512    1100\n",
       "4513     322\n",
       "4514    1205\n",
       "4515     473\n",
       "4516    -333\n",
       "4517   -3313\n",
       "4518     295\n",
       "4519    1137\n",
       "4520    1136\n",
       "Name: balance, Length: 4521, dtype: int64"
      ]
     },
     "execution_count": 10,
     "metadata": {},
     "output_type": "execute_result"
    }
   ],
   "source": [
    "data.loc[:, \"balance\"]"
   ]
  },
  {
   "cell_type": "code",
   "execution_count": 11,
   "metadata": {},
   "outputs": [
    {
     "data": {
      "text/plain": [
       "LogisticRegression(C=1000000.0, class_weight=None, dual=False,\n",
       "          fit_intercept=True, intercept_scaling=1, max_iter=100,\n",
       "          multi_class='warn', n_jobs=None, penalty='l2', random_state=None,\n",
       "          solver='lbfgs', tol=0.0001, verbose=0, warm_start=False)"
      ]
     },
     "execution_count": 11,
     "metadata": {},
     "output_type": "execute_result"
    }
   ],
   "source": [
    "logreg = LogisticRegression(C=1e6, solver='lbfgs')\n",
    "\n",
    "X = data[\"balance\"].values.reshape(-1,1) \n",
    "Y = data[\"encoded_default\"].values \n",
    "logreg.fit(X, Y)"
   ]
  },
  {
   "cell_type": "code",
   "execution_count": 12,
   "metadata": {},
   "outputs": [
    {
     "data": {
      "text/plain": [
       "(array([[-0.00256206]]), array([-3.51998308]))"
      ]
     },
     "execution_count": 12,
     "metadata": {},
     "output_type": "execute_result"
    }
   ],
   "source": [
    "logreg.coef_, logreg.intercept_\n"
   ]
  },
  {
   "cell_type": "markdown",
   "metadata": {},
   "source": [
    "### Model Interpretation - Balance\n",
    "\n",
    "\n",
    "$$\n",
    "    P(default=1| x, \\beta_0, \\beta_1) \\approx \\frac{1}{1 + e^{3.5 + 0.0025 ~ balance}}\n",
    "$$\n",
    "\n",
    "Based on our function above, with x equal to the balance, $\\beta_1$ equal to the units (dollar), we may predict the probability of defaulting. By plugging in the values obtined by coef_ (Coefficient of the features in the decision function) as $\\beta_1$ and intercept_ (bias added to the decision functionan) as $\\beta_0$, we can see an increase of a balnce of $1, decreases the probability of defaulting. \n",
    "  \n",
    "$$\n",
    "    P(default=1| x=1, \\beta_0=-3.5, \\beta_1=-0.0025) \\approx \\frac{1}{1 + e^{3.5 + 0.0025 * 1}} = 0.02\n",
    "$$\n",
    "\n",
    "By the same logic, an increase of a balance of $2,000, decreases the probability of defaulting even further\n",
    "\n",
    "$$\n",
    "    P(default=1| x=2,000, \\beta_0=-3.5, \\beta_1=-0.0025) \\approx \\frac{1}{1 + e^{3.5 + 0.0025 * 2,000}} \\approx 0.0002\n",
    "$$"
   ]
  },
  {
   "cell_type": "markdown",
   "metadata": {},
   "source": [
    "### Multiple Logistic Regression\n",
    "\n",
    "When must we use multiple logistic regression?\n",
    "\n",
    "We use multiple logistic regression when you have one nominal and two or more measurement variables. The nominal variable is the dependent variable (in the above case, the encoded default); you are studying the effect that the independent variables (i.e. balance and housing loan) have on the probability of obtaining a particular value of the dependent variable (default - yes or no). \n",
    "\n",
    "Explicitly, let us investigate the effect of clients balance and home loan have on the probability that a person will default. \n",
    "\n",
    "\n",
    "see __[this guide for more information](http://www.biostathandbook.com/multiplelogistic.html)__\n"
   ]
  },
  {
   "cell_type": "code",
   "execution_count": 13,
   "metadata": {},
   "outputs": [
    {
     "data": {
      "text/html": [
       "<div>\n",
       "<style scoped>\n",
       "    .dataframe tbody tr th:only-of-type {\n",
       "        vertical-align: middle;\n",
       "    }\n",
       "\n",
       "    .dataframe tbody tr th {\n",
       "        vertical-align: top;\n",
       "    }\n",
       "\n",
       "    .dataframe thead th {\n",
       "        text-align: right;\n",
       "    }\n",
       "</style>\n",
       "<table border=\"1\" class=\"dataframe\">\n",
       "  <thead>\n",
       "    <tr style=\"text-align: right;\">\n",
       "      <th></th>\n",
       "      <th>age</th>\n",
       "      <th>job</th>\n",
       "      <th>marital</th>\n",
       "      <th>education</th>\n",
       "      <th>default</th>\n",
       "      <th>balance</th>\n",
       "      <th>housing</th>\n",
       "      <th>loan</th>\n",
       "      <th>contact</th>\n",
       "      <th>day</th>\n",
       "      <th>month</th>\n",
       "      <th>duration</th>\n",
       "      <th>campaign</th>\n",
       "      <th>pdays</th>\n",
       "      <th>previous</th>\n",
       "      <th>poutcome</th>\n",
       "      <th>y</th>\n",
       "      <th>encoded_default</th>\n",
       "      <th>encoded_housing</th>\n",
       "    </tr>\n",
       "  </thead>\n",
       "  <tbody>\n",
       "    <tr>\n",
       "      <th>0</th>\n",
       "      <td>30</td>\n",
       "      <td>unemployed</td>\n",
       "      <td>married</td>\n",
       "      <td>primary</td>\n",
       "      <td>no</td>\n",
       "      <td>1787</td>\n",
       "      <td>no</td>\n",
       "      <td>no</td>\n",
       "      <td>cellular</td>\n",
       "      <td>19</td>\n",
       "      <td>oct</td>\n",
       "      <td>79</td>\n",
       "      <td>1</td>\n",
       "      <td>-1</td>\n",
       "      <td>0</td>\n",
       "      <td>unknown</td>\n",
       "      <td>no</td>\n",
       "      <td>0</td>\n",
       "      <td>0</td>\n",
       "    </tr>\n",
       "    <tr>\n",
       "      <th>1</th>\n",
       "      <td>33</td>\n",
       "      <td>services</td>\n",
       "      <td>married</td>\n",
       "      <td>secondary</td>\n",
       "      <td>no</td>\n",
       "      <td>4789</td>\n",
       "      <td>yes</td>\n",
       "      <td>yes</td>\n",
       "      <td>cellular</td>\n",
       "      <td>11</td>\n",
       "      <td>may</td>\n",
       "      <td>220</td>\n",
       "      <td>1</td>\n",
       "      <td>339</td>\n",
       "      <td>4</td>\n",
       "      <td>failure</td>\n",
       "      <td>no</td>\n",
       "      <td>0</td>\n",
       "      <td>1</td>\n",
       "    </tr>\n",
       "    <tr>\n",
       "      <th>2</th>\n",
       "      <td>35</td>\n",
       "      <td>management</td>\n",
       "      <td>single</td>\n",
       "      <td>tertiary</td>\n",
       "      <td>no</td>\n",
       "      <td>1350</td>\n",
       "      <td>yes</td>\n",
       "      <td>no</td>\n",
       "      <td>cellular</td>\n",
       "      <td>16</td>\n",
       "      <td>apr</td>\n",
       "      <td>185</td>\n",
       "      <td>1</td>\n",
       "      <td>330</td>\n",
       "      <td>1</td>\n",
       "      <td>failure</td>\n",
       "      <td>no</td>\n",
       "      <td>0</td>\n",
       "      <td>1</td>\n",
       "    </tr>\n",
       "    <tr>\n",
       "      <th>3</th>\n",
       "      <td>30</td>\n",
       "      <td>management</td>\n",
       "      <td>married</td>\n",
       "      <td>tertiary</td>\n",
       "      <td>no</td>\n",
       "      <td>1476</td>\n",
       "      <td>yes</td>\n",
       "      <td>yes</td>\n",
       "      <td>unknown</td>\n",
       "      <td>3</td>\n",
       "      <td>jun</td>\n",
       "      <td>199</td>\n",
       "      <td>4</td>\n",
       "      <td>-1</td>\n",
       "      <td>0</td>\n",
       "      <td>unknown</td>\n",
       "      <td>no</td>\n",
       "      <td>0</td>\n",
       "      <td>1</td>\n",
       "    </tr>\n",
       "    <tr>\n",
       "      <th>4</th>\n",
       "      <td>59</td>\n",
       "      <td>blue-collar</td>\n",
       "      <td>married</td>\n",
       "      <td>secondary</td>\n",
       "      <td>no</td>\n",
       "      <td>0</td>\n",
       "      <td>yes</td>\n",
       "      <td>no</td>\n",
       "      <td>unknown</td>\n",
       "      <td>5</td>\n",
       "      <td>may</td>\n",
       "      <td>226</td>\n",
       "      <td>1</td>\n",
       "      <td>-1</td>\n",
       "      <td>0</td>\n",
       "      <td>unknown</td>\n",
       "      <td>no</td>\n",
       "      <td>0</td>\n",
       "      <td>1</td>\n",
       "    </tr>\n",
       "  </tbody>\n",
       "</table>\n",
       "</div>"
      ],
      "text/plain": [
       "   age          job  marital  education default  balance housing loan  \\\n",
       "0   30   unemployed  married    primary      no     1787      no   no   \n",
       "1   33     services  married  secondary      no     4789     yes  yes   \n",
       "2   35   management   single   tertiary      no     1350     yes   no   \n",
       "3   30   management  married   tertiary      no     1476     yes  yes   \n",
       "4   59  blue-collar  married  secondary      no        0     yes   no   \n",
       "\n",
       "    contact  day month  duration  campaign  pdays  previous poutcome   y  \\\n",
       "0  cellular   19   oct        79         1     -1         0  unknown  no   \n",
       "1  cellular   11   may       220         1    339         4  failure  no   \n",
       "2  cellular   16   apr       185         1    330         1  failure  no   \n",
       "3   unknown    3   jun       199         4     -1         0  unknown  no   \n",
       "4   unknown    5   may       226         1     -1         0  unknown  no   \n",
       "\n",
       "   encoded_default  encoded_housing  \n",
       "0                0                0  \n",
       "1                0                1  \n",
       "2                0                1  \n",
       "3                0                1  \n",
       "4                0                1  "
      ]
     },
     "execution_count": 13,
     "metadata": {},
     "output_type": "execute_result"
    }
   ],
   "source": [
    "data[\"encoded_housing\"] = data[\"housing\"].map({\"no\":0, \"yes\":1})\n",
    "data.head()"
   ]
  },
  {
   "cell_type": "code",
   "execution_count": 14,
   "metadata": {},
   "outputs": [
    {
     "data": {
      "text/plain": [
       "(array([[0.10883866]]), array([-4.13180592]))"
      ]
     },
     "execution_count": 14,
     "metadata": {},
     "output_type": "execute_result"
    }
   ],
   "source": [
    "X = data[\"encoded_housing\"].values.reshape(-1,1)\n",
    "y = data[\"encoded_housing\"].values\n",
    "\n",
    "logreg.fit(X, Y)\n",
    "logreg.coef_, logreg.intercept_"
   ]
  },
  {
   "cell_type": "markdown",
   "metadata": {},
   "source": [
    "# Model Interpretation - Housing Loan Status\n",
    "\n",
    "\n",
    "$$\n",
    "    P(default=1| x, \\beta_0, \\beta_1) \\approx \\frac{1}{1 + e^{4.1 - 0.1 ~ housing}}\n",
    "$$\n",
    "\n",
    "If we are to investigate the effect that clients balance and home loan have on the probability that a person will default the probability of a a client defaulting while having a housing loan is \n",
    "\n",
    "$$\n",
    "    P(default=1| x=1, \\beta_0=-4.1, \\beta_1=0.1) \\approx \\frac{1}{1 + e^{4.1 - 0.1 ~ 1}} \\approx 0.018\n",
    "$$\n",
    "\n",
    "\n",
    "However, if a client does not have a housing loan, the probability that they will default decreases slightly:\n",
    "\n",
    "$$\n",
    "    P(default=1 | x=0, \\beta_0=-4.1, \\beta_1=0.1) \\approx \\frac{1}{1 + e^{4.1 - 0.1 ~ 0}} \\approx 0.016\n",
    "$$\n"
   ]
  },
  {
   "cell_type": "markdown",
   "metadata": {},
   "source": [
    "### Multiple Logistic Regression Cont'd\n",
    "\n",
    "As you can see with the above example, when we added more relevant variables, the logistic regression model becomes more discriminative. We can investigate the effect of different variables simultaneously using this method. \n"
   ]
  },
  {
   "cell_type": "code",
   "execution_count": 15,
   "metadata": {},
   "outputs": [
    {
     "data": {
      "text/plain": [
       "(array([[-0.00261148, -0.21855991]]), array([-3.39336633]))"
      ]
     },
     "execution_count": 15,
     "metadata": {},
     "output_type": "execute_result"
    }
   ],
   "source": [
    "X = data[['balance', 'encoded_housing']]\n",
    "\n",
    "y = data[\"encoded_default\"].values\n",
    "\n",
    "logreg.fit(X, Y)\n",
    "\n",
    "logreg.coef_, logreg.intercept_\n"
   ]
  },
  {
   "cell_type": "markdown",
   "metadata": {},
   "source": [
    "### Function For a More Discriminative Model\n",
    "$$\n",
    "    P(default=1| x, \\beta_0, \\beta_1) \\approx \\frac{1}{1 + e^{3.5  - 0.0025 balance + 0.21 ~ housing}}\n",
    "$$"
   ]
  },
  {
   "cell_type": "markdown",
   "metadata": {},
   "source": [
    "### Inspecting the Contribution of last contact Duration\n",
    "\n",
    "Not all variables are relevant, and somtimes the correlation between two variables is low, meaning the model is less relevant. For example, instead of looking at housing loans, we will attempt to relate the balance of a clients account to the duration of thir last contact with the bank.\n",
    "\n",
    "What does the logistic regression model say about the contribution of the last contact duration? Looking below, there is no relevant corrleation between account balance and last contact duration. The only coculusion (and this is streching far..) is that the longer the call duration, the lower the account balance. But in general, this is no good."
   ]
  },
  {
   "cell_type": "code",
   "execution_count": 16,
   "metadata": {},
   "outputs": [
    {
     "name": "stderr",
     "output_type": "stream",
     "text": [
      "/home/muzamil/anaconda3/lib/python3.7/site-packages/matplotlib/axes/_base.py:3604: MatplotlibDeprecationWarning: \n",
      "The `ymin` argument was deprecated in Matplotlib 3.0 and will be removed in 3.2. Use `bottom` instead.\n",
      "  alternative='`bottom`', obj_type='argument')\n",
      "/home/muzamil/anaconda3/lib/python3.7/site-packages/matplotlib/axes/_base.py:3215: MatplotlibDeprecationWarning: \n",
      "The `xmin` argument was deprecated in Matplotlib 3.0 and will be removed in 3.2. Use `left` instead.\n",
      "  alternative='`left`', obj_type='argument')\n"
     ]
    },
    {
     "data": {
      "image/png": "[encoded data removed]",
      "text/plain": [
       "<Figure size 864x360 with 3 Axes>"
      ]
     },
     "metadata": {
      "needs_background": "light"
     },
     "output_type": "display_data"
    }
   ],
   "source": [
    "import matplotlib as mpl\n",
    "import seaborn as sns\n",
    "\n",
    "fig = plt.figure(figsize=(12,5))\n",
    "gs = mpl.gridspec.GridSpec(1, 4)\n",
    "ax1 = plt.subplot(gs[0,:-2])\n",
    "ax2 = plt.subplot(gs[0,-2])\n",
    "ax3 = plt.subplot(gs[0,-1])\n",
    "\n",
    "# Take a fraction of the samples where target value (default) is 'no'\n",
    "df_no = data[data[\"encoded_default\"] == 0].sample(frac=0.15)\n",
    "# Take all samples  where target value is 'yes'\n",
    "df_yes = data[data[\"encoded_default\"]  == 1]\n",
    "df_ = df_no.append(df_yes)\n",
    "\n",
    "ax1.scatter(df_[df_.default == 'yes'].balance, df_[df_.default == 'yes'].duration, s=40, c='orange', marker='+',\n",
    "            linewidths=1)\n",
    "ax1.scatter(df_[df_.default == 'no'].balance, df_[df_.default == 'no'].duration, s=40, marker='o', linewidths='1',\n",
    "            edgecolors='lightblue', facecolors='white', alpha=.6)\n",
    "\n",
    "ax1.set_ylim(ymin=0)\n",
    "ax1.set_ylabel('Duration')\n",
    "ax1.set_xlim(xmin=-100)\n",
    "ax1.set_xlabel('Balance')\n",
    "\n",
    "c_palette = {'no':'lightblue', 'yes':'orange'}\n",
    "sns.boxplot('default', 'balance', data=data, orient='v', ax=ax2, palette=c_palette)\n",
    "sns.boxplot('default', 'duration', data=data, orient='v', ax=ax3, palette=c_palette)\n",
    "gs.tight_layout(plt.gcf())"
   ]
  },
  {
   "cell_type": "markdown",
   "metadata": {},
   "source": [
    "## Categortical Variables as Predictors\n",
    "\n",
    "Categorical variables which are also called nominal variables, are variables which have more than one category.  An example of this would be a variable used for animals.  Each category in the set of animals is represented by an integer in no particular order. 0 could represent dogs, 1 could represent cows, 2 could represent frogs and so on."
   ]
  },
  {
   "cell_type": "markdown",
   "metadata": {},
   "source": [
    "## One-Hot-Encoding\n",
    "\n",
    "An alternative to the above encoding would be to have the variable hold a list of binary values with the size of the list being the number of categories.  Each binary value represents one of the categories and it's assigned 1 if the instance falls under that category and 0 if it does not.  In the animal example, a data point that is a cow would be given the value [0,1,0,...,0] where every binary value except the one indexed by the cow's encoded value(1), is 0. Likewise a frog datapoint would have a value of [0,0,1,...,0] "
   ]
  },
  {
   "cell_type": "markdown",
   "metadata": {},
   "source": [
    "## Relationship Between Logistic and Linear Model\n",
    "\n",
    "The function used for logistic regression is: \n",
    "\n",
    "$p(x)=\\frac{1}{1+e^{-}(β_0+β_1x)}$\n",
    "\n",
    "This function can be changed into the following.\n",
    "\n",
    "$p(x)=\\frac{e^{(β_0+β_1x)}}{1+e^{e(β_0+β_1x)}}$\n",
    "\n",
    "$\\frac{p(x)}{1-p(x)}=e^{β_{0}+β_{1}x}$\n",
    "\n",
    "The left side of the above function, $\\frac{p(x)}{1-p(x)}$, is the odd ratio. It can be used to calculate the odds given a probability p(x).  The value of the odds can range between 0 and infinity.  Let's say that the probability of defaulting is p(x) = 0.2. The odds of defaulting would be \n",
    "\n",
    "$\\frac{0.2}{1-0.2}$=1/4\n",
    "\n",
    "resulting in 1 to 4 odds.\n",
    "\n",
    "Next, we can to the log of both sides of the function  Taking the log of an odds is called log-odds or logit.  The logit makes it so that any logit value is equal to its reciprocal multiplied by -1.\n",
    "\n",
    "$\\frac{p(x)}{1-p(x)}=e^{β_{0}+β_{1}x}$\n",
    "\n",
    "$log(\\frac{p(x)}{1-p(x)})={β_{0}+β_{1}x}$\n",
    "\n",
    "The right side of the function is the equation of a line.  Therefore, the linear model has a logit that is linear in X Unline in linear mode\n",
    "\n"
   ]
  }
 ],
 "metadata": {
  "celltoolbar": "Slideshow",
  "hide_input": false,
  "kernelspec": {
   "display_name": "Python 3",
   "language": "python",
   "name": "python3"
  },
  "language_info": {
   "codemirror_mode": {
    "name": "ipython",
    "version": 3
   },
   "file_extension": ".py",
   "mimetype": "text/x-python",
   "name": "python",
   "nbconvert_exporter": "python",
   "pygments_lexer": "ipython3",
   "version": "3.7.1"
  }
 },
 "nbformat": 4,
 "nbformat_minor": 2
}
