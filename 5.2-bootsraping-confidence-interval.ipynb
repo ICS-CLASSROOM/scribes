{
 "cells": [
  {
   "cell_type": "code",
   "execution_count": 3,
   "metadata": {
    "slideshow": {
     "slide_type": "slide"
    }
   },
   "outputs": [],
   "source": [
    "import pandas as pd\n",
    "import numpy as np\n",
    "import matplotlib.pyplot as plt\n",
    "%matplotlib inline"
   ]
  },
  {
   "cell_type": "markdown",
   "metadata": {
    "slideshow": {
     "slide_type": "slide"
    }
   },
   "source": [
    "###  Making Money on Amazon's return\n",
    "\n",
    "* Note that the data presented here is entirely fictional\n",
    "\n",
    "* Online retailers are often stranded with product returns that they cannot sell\n",
    "  * According to Yahoo Finance, it’s not uncommon for online retailers to see 30% of all products people ordered online returned\n",
    "  * Clothing return rates can be close to 40%.\n",
    "  * Returns at brick-and-mortar stores are around 8.89%\n",
    "\n",
    "* Some online marketplaces sell returns online\n",
    "  * items are bundled in huge pallets based on categories\n",
    "* Online marketplaces like Direct Liquidation do the math and decide how products are bundled and how much the pallets cost\n",
    "  * You decide to use DS Ninja skill to see whether buying and reselling pallets will afford you the benefit of buying your own Gulfstream 550 \n"
   ]
  },
  {
   "cell_type": "markdown",
   "metadata": {
    "slideshow": {
     "slide_type": "slide"
    }
   },
   "source": [
    "### Data\n",
    "* We have access to all the pallet value and cost from a marketplace `RUNDLE` (Bundle of Returns) for 2017.\n",
    "\n",
    "* There are 103,245 records\n",
    "\n",
    "* Dataset contains three columns:\n",
    "\n",
    "| Column         | Description                                 |\n",
    "|----------------|---------------------------------------------|\n",
    "| Transaction ID | Random String of size 10                    |\n",
    "| MSRP           | Total Manufacturer's Suggested Retail Price |\n",
    "| Bought Price     | Price at which the pallet was purchased     |\n",
    "| Sold Price      | Price at which the pallet was sold          |\n",
    "\n"
   ]
  },
  {
   "cell_type": "markdown",
   "metadata": {
    "slideshow": {
     "slide_type": "slide"
    }
   },
   "source": [
    "Lets create an array of length 103245 with strings of 10 characters:"
   ]
  },
  {
   "cell_type": "code",
   "execution_count": 4,
   "metadata": {
    "slideshow": {
     "slide_type": "slide"
    }
   },
   "outputs": [
    {
     "data": {
      "text/plain": [
       "array(['v4z1lJsAH4', 'rUttbeseqm', 'nLAxgGVj0k', ..., 'GBpcDjXa69',\n",
       "       'zUM7yiHWnN', 'upsG0lNMiX'], dtype=object)"
      ]
     },
     "execution_count": 4,
     "metadata": {},
     "output_type": "execute_result"
    }
   ],
   "source": [
    "transaction_id =  pd.util.testing.rands_array(10, 103245)\n",
    "transaction_id"
   ]
  },
  {
   "cell_type": "markdown",
   "metadata": {},
   "source": [
    "Draw random samples from a normal (Gaussian) distribution with the following parameters:\n",
    "- The mean (center) to be 500.\n",
    "- A standard deviation (spread) of 80.\n",
    "- Draw as many samples as the length of our random dataset above (transaction_id)."
   ]
  },
  {
   "cell_type": "code",
   "execution_count": 5,
   "metadata": {
    "slideshow": {
     "slide_type": "slide"
    }
   },
   "outputs": [
    {
     "data": {
      "text/plain": [
       "-0.5170094581710402"
      ]
     },
     "execution_count": 5,
     "metadata": {},
     "output_type": "execute_result"
    }
   ],
   "source": [
    "msrp= np.random.normal(500, 80, len(transaction_id))\n",
    "np.random.normal()"
   ]
  },
  {
   "cell_type": "markdown",
   "metadata": {},
   "source": [
    "Using the techniques above, create a dataframe with the following features: \n",
    "- **Transaction ID** Random string of size 10\n",
    "- **MSRP** The list price or manufacturer's suggested retail price (MSRP) from a normal distribution\n",
    "- **Bought price** From a normal distribution\n",
    "- **Sold price** From a normal distribution"
   ]
  },
  {
   "cell_type": "code",
   "execution_count": 6,
   "metadata": {
    "slideshow": {
     "slide_type": "slide"
    }
   },
   "outputs": [
    {
     "data": {
      "text/html": [
       "<div>\n",
       "<style scoped>\n",
       "    .dataframe tbody tr th:only-of-type {\n",
       "        vertical-align: middle;\n",
       "    }\n",
       "\n",
       "    .dataframe tbody tr th {\n",
       "        vertical-align: top;\n",
       "    }\n",
       "\n",
       "    .dataframe thead th {\n",
       "        text-align: right;\n",
       "    }\n",
       "</style>\n",
       "<table border=\"1\" class=\"dataframe\">\n",
       "  <thead>\n",
       "    <tr style=\"text-align: right;\">\n",
       "      <th></th>\n",
       "      <th>Transaction ID</th>\n",
       "      <th>MSRP</th>\n",
       "      <th>Bought Price</th>\n",
       "      <th>Sold Price</th>\n",
       "    </tr>\n",
       "  </thead>\n",
       "  <tbody>\n",
       "    <tr>\n",
       "      <th>0</th>\n",
       "      <td>v4z1lJsAH4</td>\n",
       "      <td>523.533881</td>\n",
       "      <td>241.453985</td>\n",
       "      <td>417.606419</td>\n",
       "    </tr>\n",
       "    <tr>\n",
       "      <th>1</th>\n",
       "      <td>rUttbeseqm</td>\n",
       "      <td>618.712196</td>\n",
       "      <td>340.188788</td>\n",
       "      <td>542.822157</td>\n",
       "    </tr>\n",
       "    <tr>\n",
       "      <th>2</th>\n",
       "      <td>nLAxgGVj0k</td>\n",
       "      <td>559.834218</td>\n",
       "      <td>242.051777</td>\n",
       "      <td>463.980204</td>\n",
       "    </tr>\n",
       "    <tr>\n",
       "      <th>3</th>\n",
       "      <td>Fq31gNoRW5</td>\n",
       "      <td>452.787986</td>\n",
       "      <td>215.381672</td>\n",
       "      <td>386.624053</td>\n",
       "    </tr>\n",
       "    <tr>\n",
       "      <th>4</th>\n",
       "      <td>ntKFW6jL0V</td>\n",
       "      <td>515.926063</td>\n",
       "      <td>238.885471</td>\n",
       "      <td>424.601772</td>\n",
       "    </tr>\n",
       "  </tbody>\n",
       "</table>\n",
       "</div>"
      ],
      "text/plain": [
       "  Transaction ID        MSRP  Bought Price  Sold Price\n",
       "0     v4z1lJsAH4  523.533881    241.453985  417.606419\n",
       "1     rUttbeseqm  618.712196    340.188788  542.822157\n",
       "2     nLAxgGVj0k  559.834218    242.051777  463.980204\n",
       "3     Fq31gNoRW5  452.787986    215.381672  386.624053\n",
       "4     ntKFW6jL0V  515.926063    238.885471  424.601772"
      ]
     },
     "execution_count": 6,
     "metadata": {},
     "output_type": "execute_result"
    }
   ],
   "source": [
    "msrp= np.random.normal(500, 80, len(transaction_id))\n",
    "\n",
    "bought_price = np.random.normal(msrp * 0.5, (msrp * 0.5)/8, len(transaction_id))\n",
    "\n",
    "sold_price = np.random.normal(msrp * 0.83, 25)\n",
    "\n",
    "returns_data = pd.DataFrame({\"Transaction ID\": transaction_id, \"MSRP\": msrp, \n",
    "                             \"Bought Price\": bought_price, \"Sold Price\": sold_price})\n",
    "\n",
    "\n",
    "returns_data.head()\n"
   ]
  },
  {
   "cell_type": "markdown",
   "metadata": {
    "slideshow": {
     "slide_type": "slide"
    }
   },
   "source": [
    "### What is the cost to the Marketplace?\n",
    "- Is the marketplace buying returns at a set cost?\n",
    "    - Does the marketplace get a fixed discount (ex. 10%) on the MSRP?\n",
    "- What can infer about the buying strategy?\n",
    "    - Does the marketplace buy at auction?\n",
    "    \n",
    "---\n",
    "By plotting the difference between the original value (MSRP) and the bought price,\n",
    "we see all products are bought for less than the original value."
   ]
  },
  {
   "cell_type": "code",
   "execution_count": 7,
   "metadata": {
    "scrolled": true,
    "slideshow": {
     "slide_type": "slide"
    }
   },
   "outputs": [
    {
     "data": {
      "image/png": "[encoded data removed]",
      "text/plain": [
       "<Figure size 864x432 with 1 Axes>"
      ]
     },
     "metadata": {
      "needs_background": "light"
     },
     "output_type": "display_data"
    }
   ],
   "source": [
    "plt.figure(figsize=(12,6))\n",
    "_ = plt.hist(returns_data[\"MSRP\"]- returns_data[\"Bought Price\"], edgecolor='k')"
   ]
  },
  {
   "cell_type": "code",
   "execution_count": 8,
   "metadata": {
    "slideshow": {
     "slide_type": "slide"
    }
   },
   "outputs": [
    {
     "data": {
      "text/plain": [
       "0.5000757019625451"
      ]
     },
     "execution_count": 8,
     "metadata": {},
     "output_type": "execute_result"
    }
   ],
   "source": [
    "np.mean(returns_data[\"Bought Price\"] / returns_data[\"MSRP\"])"
   ]
  },
  {
   "cell_type": "markdown",
   "metadata": {
    "slideshow": {
     "slide_type": "slide"
    }
   },
   "source": [
    "### Working with a Sample of the Population\n",
    "\n",
    "* It looks like the marketplace is consistently paying around 50% of the original value\n",
    "  * Perhaps they are buying at a Dutch auction ( open descending price auction) with starting point around 50% of the original value?\n",
    "\n",
    "* Note that, according to our definition, this is the complete population.\n",
    "  * We are interested in all the purchases in 2017 and we have access to all the data\n",
    "  * We are not interested in prior or subsequent years\n",
    "\n",
    "* What if we have access to a small subsample of the population, could we have arrived at the same conclusion?\n",
    "  * Ex. what if we managed to get access to only 50 records?\n",
    "\n",
    "* We can sample 50 random entries using `returns_data.sample`\n",
    "\n",
    "```python\n",
    "returns_data_100 = returns_data.sample(50)\n",
    "```"
   ]
  },
  {
   "cell_type": "code",
   "execution_count": 9,
   "metadata": {
    "slideshow": {
     "slide_type": "slide"
    }
   },
   "outputs": [
    {
     "data": {
      "text/plain": [
       "0.4892113232680452"
      ]
     },
     "execution_count": 9,
     "metadata": {},
     "output_type": "execute_result"
    }
   ],
   "source": [
    "returns_data_100 = returns_data.sample(50, random_state=100)\n",
    "sample_mean = np.mean(returns_data_100[\"Bought Price\"] / returns_data_100[\"MSRP\"])\n",
    "sample_mean"
   ]
  },
  {
   "cell_type": "markdown",
   "metadata": {
    "slideshow": {
     "slide_type": "slide"
    }
   },
   "source": [
    "### Using Bootstrap to estimate the Population Mean\n",
    "\n",
    "* Are 50 records sufficient to obtain a good estimate of the sample population mean?\n",
    "* How confident will we be in this result?\n",
    "  * What is the range of possible means of the population?\n",
    "----\n",
    "To test this, lets do the operation above 10 000 times and save each mean calculation for that specific population."
   ]
  },
  {
   "cell_type": "code",
   "execution_count": null,
   "metadata": {
    "slideshow": {
     "slide_type": "slide"
    }
   },
   "outputs": [],
   "source": []
  },
  {
   "cell_type": "code",
   "execution_count": 10,
   "metadata": {
    "slideshow": {
     "slide_type": "slide"
    }
   },
   "outputs": [],
   "source": [
    "bootstrap_means = []\n",
    "for i in range(10000):\n",
    "    returns_data_100_bootstrap = returns_data_100.sample(100, replace=True)\n",
    "    bootstrap_mean = np.mean(returns_data_100_bootstrap[\"Bought Price\"] \n",
    "                             / returns_data_100_bootstrap[\"MSRP\"])\n",
    "    bootstrap_means.append(bootstrap_mean)\n"
   ]
  },
  {
   "cell_type": "code",
   "execution_count": 11,
   "metadata": {
    "slideshow": {
     "slide_type": "slide"
    }
   },
   "outputs": [
    {
     "data": {
      "text/plain": [
       "array([0.4784263 , 0.50043014])"
      ]
     },
     "execution_count": 11,
     "metadata": {},
     "output_type": "execute_result"
    }
   ],
   "source": [
    "np.percentile(bootstrap_means, (2.5, 97.5) )"
   ]
  },
  {
   "cell_type": "code",
   "execution_count": 12,
   "metadata": {
    "slideshow": {
     "slide_type": "slide"
    }
   },
   "outputs": [
    {
     "data": {
      "text/plain": [
       "<matplotlib.collections.LineCollection at 0x122599048>"
      ]
     },
     "execution_count": 12,
     "metadata": {},
     "output_type": "execute_result"
    },
    {
     "data": {
      "image/png": "[encoded data removed]",
      "text/plain": [
       "<Figure size 432x288 with 1 Axes>"
      ]
     },
     "metadata": {
      "needs_background": "light"
     },
     "output_type": "display_data"
    }
   ],
   "source": [
    "_ = plt.hist(bootstrap_means, alpha=0.8)\n",
    "conf_int_95 = np.percentile(bootstrap_means, (2.5, 97.5) ) \n",
    "plt.hlines(0, conf_int_95[0], conf_int_95[1], color=\"red\", linewidth=8)"
   ]
  },
  {
   "cell_type": "markdown",
   "metadata": {
    "slideshow": {
     "slide_type": "slide"
    }
   },
   "source": [
    "### Interpreting the Bootstrap Values\n",
    "\n",
    "* The bootstrap data shows us the extent for sampling variability\n",
    "\n",
    "* The 95% confidence interval contains our mean\n",
    "  * Values within 95% confidence interval are not a fluke.\n",
    "  * We cannot discredit the fact that any of those values are possible means of the population\n",
    "\n",
    "* Conclusion, even with only 50 samples, we can observe that the company is buying products, on average, at 48% to 50% discount\n",
    "\n",
    "* Question was it a fluke that the true population  mean was included in the 95% confidence interval?\n",
    "  * Again, we know the true population mean because we have access to the complete population\n",
    "\n"
   ]
  },
  {
   "cell_type": "code",
   "execution_count": null,
   "metadata": {},
   "outputs": [],
   "source": []
  },
  {
   "cell_type": "markdown",
   "metadata": {
    "slideshow": {
     "slide_type": "slide"
    }
   },
   "source": [
    "### How Confident are we in the Bootstrap Confidence Interval?\n",
    "\n",
    "The \"middle 95%\" interval of estimates captured the parameter in our example. In order to check to see that out results were not a fluke, we run another simulation. To see how frequently the interval contains the parameter, we have to run the entire process a series of times. In our example, we will repeat the process 100 times to end up with 100 intervals. We then count how many of the intervals contain the population median. We run this in order to see how many of these 95% confidence intervals contain our mean. In theory, 95 of the 100 intervals should contain the mean.\n"
   ]
  },
  {
   "cell_type": "code",
   "execution_count": null,
   "metadata": {
    "slideshow": {
     "slide_type": "slide"
    }
   },
   "outputs": [],
   "source": [
    "def comput_conf_interval(data, nb_bootstrap_iters = 5000):\n",
    "    bootstrap_means = []\n",
    "    for i in range(nb_bootstrap_iters):\n",
    "        bootstrap_sample = data.sample(data.shape[0], replace=True)\n",
    "        bootstrap_mean = np.mean(bootstrap_sample[\"Bought Price\"] \n",
    "                             / bootstrap_sample[\"MSRP\"])\n",
    "        bootstrap_means.append(bootstrap_mean)\n",
    "    #print(np.percentile(bootstrap_means, (2.5, 97.5)))\n",
    "    return np.percentile(bootstrap_means, (2.5, 97.5))\n",
    "    \n",
    "lower_bound = []\n",
    "upper_bound = []\n",
    "for i in range(100):\n",
    "    sample_of_50 = returns_data.sample(50)\n",
    "    conf_interval = comput_conf_interval(sample_of_50)\n",
    "    lower_bound.append(conf_interval[0])\n",
    "    upper_bound.append(conf_interval[1])\n"
   ]
  },
  {
   "cell_type": "code",
   "execution_count": null,
   "metadata": {
    "slideshow": {
     "slide_type": "slide"
    }
   },
   "outputs": [],
   "source": [
    "conf_ints_95 = pd.DataFrame({\"lower\": lower_bound, \"upper\": upper_bound})\n",
    "conf_ints_95.head()"
   ]
  },
  {
   "cell_type": "markdown",
   "metadata": {},
   "source": [
    "With the generated data, we create a chart that shows the lowest and highest values (means) of each interval (100 times). Then sum the \"lower\" values that are below .5 and sum the \"upper\" values that are above .5 in order to see how many of our intervals fit within our projected 95% confidence interval. The goal is to see if the range of values (means) do not include the true mean (.5). The cases where the \"lower\" value is above .5 or when the \"upper\" value is below .5 are outlyers that fit within our 5% error rate."
   ]
  },
  {
   "cell_type": "code",
   "execution_count": null,
   "metadata": {
    "slideshow": {
     "slide_type": "slide"
    }
   },
   "outputs": [],
   "source": [
    "sum((conf_ints_95[\"lower\"] < 0.5) & (conf_ints_95[\"upper\"] > 0.5))"
   ]
  },
  {
   "cell_type": "markdown",
   "metadata": {},
   "source": [
    "We see that 94 intervals fit within these bounds, giving us a 94% rate at which our true mean is included in the intervals. Below is a visualization of each of the intervals where each  interval is marked as a blue or orange horizontal line where, the x axis represents the range of means while the y axis represents the intervals, the blue represents intervals that have means that contain the true mean, the orange are those that don't, and where the vertical orange bar/line represents the true mean."
   ]
  },
  {
   "cell_type": "code",
   "execution_count": null,
   "metadata": {
    "slideshow": {
     "slide_type": "slide"
    }
   },
   "outputs": [],
   "source": [
    "plt.figure(figsize=(10,6))\n",
    "plt.vlines(0.5, 0, 102, color=\"#e2a829\", linewidth=4)\n",
    "for i in range(100):\n",
    "    c = \"blue\"\n",
    "    if lower_bound[i] > 0.5 or upper_bound[i] < 0.5:\n",
    "        c = \"red\"\n",
    "    plt.hlines(i,lower_bound[i], upper_bound[i], color=c, alpha=0.85, linewidth=0.75)\n",
    "    "
   ]
  },
  {
   "cell_type": "markdown",
   "metadata": {
    "slideshow": {
     "slide_type": "slide"
    }
   },
   "source": [
    "### How Confident are we in the Bootstrap Confidence Interval?\n",
    "\n",
    "If an interval doesn't cover the parameter, it's a dud. There are very few of them, but they do happen. Any method based on sampling has the possibility of being off. If we have a 95% confidence interval, we should expect to be wrong 5% of the time. In our case, we were wrong 6% of the time, which can be considered a relatively successful sampling. The beauty of methods based on random sampling is that we can quantify how often they are likely to be off\n",
    "\n"
   ]
  },
  {
   "cell_type": "markdown",
   "metadata": {
    "slideshow": {
     "slide_type": "slide"
    }
   },
   "source": [
    "### The Bootstrap Confidence Interval\n",
    "\n",
    "Our interval of estimates is called a *95% confidence interval* for the parameter. 95% is called the *confidence level* of the interval. We say that we are *95% confident* that the process results in a good interval"
   ]
  },
  {
   "cell_type": "markdown",
   "metadata": {
    "slideshow": {
     "slide_type": "slide"
    }
   },
   "source": [
    "### Care in Using the Bootstrap ###\n",
    "\n",
    "\n",
    "Bootstrapping is a versitile technique that has a variety of mechanisms able to deal with different problems, however it relies upon one assumption: the data accurately represent the true population. This assumption can be difficult to verify especially in the context of small sample sizes (it could be that a small sample is an accurate reflection of the true population!). If the original sample on which the bootstrap distribution, and hence all of the results that follow from it, is not adequately accurate, then your results and most likely your decision based upon those results will be flawed. Although bootstrapping is under some conditions asymptotically consistent, it does not provide general finite-sample guarantees. The apparent simplicity may conceal the fact that important assumptions are being made when undertaking the bootstrap analysis where these would be more formally stated in other approaches. There is a lot of ambiguity with the bootstrap and using caution before applying it would be wise.\n",
    "\n",
    "The bootstrap is an elegant and powerful method to assess the accuracy of the estimate. The bootstrap just uses a different approach to estimating the standard error. There are a few things to know and are encouraged to do when using bootstrap in order to fully utilize this method. Using and starting with a large, random sample is highly recommended. The Bootstrap percentile method works well for estimating the population median or mean based on a large sample size. Also, in order to approximate the probability distribution of a statistic, it is a good idea to replicate the resampling procedure as many times as possible. For example, 10,000 times in general is a good estimate. \n",
    "\n"
   ]
  },
  {
   "cell_type": "markdown",
   "metadata": {
    "slideshow": {
     "slide_type": "slide"
    }
   },
   "source": [
    "### When To Not Use the Bootstrap\n",
    "\n",
    "    The bootstrap is not expected to do well in a few situations. One situation would be when the goal is to estimate the minimum or maximum value in the population, or a very low or very high percentile, or parameters that are greatly influenced by rare elements of the population. Also when the the probability distribution of the statistic is not roughly bell-shaped. In our example, if the statistic is not roughly bell-shaped, our confidence interval would lower. This would result in intervals that result in errors(duds) more frequently making the credibility of the data sample lower. The final situation is when original sample is very small, say less than 20 or 25. The problem with small data in regards to Bootstrapping is how it handles outliers. With small data, even a few outliers will form large portions of the projected model. This means that the data has a higher chance of having a larger error %, meaning a lower confidence interval.\n"
   ]
  },
  {
   "cell_type": "markdown",
   "metadata": {
    "slideshow": {
     "slide_type": "slide"
    }
   },
   "source": [
    "dragicedragice 617, and mmmmmmmmmmmmmmmmmmmm 3171313. “Why Not Always Use Bootstrap CIs?” Cross Validated, 2019 Stack Exchange Inc, 8 June 2014, stats.stackexchange.com/questions/99988/why-not-always-use-bootstrap-cis.\n",
    "\n",
    "EDUPRISTINE. “Problems of Small Data and How to Handle Them.” Problems of Small Data and How to Handle Them, EduPristine, 15 Feb. 2016, www.edupristine.com/blog/managing-small-data.\n",
    "\n",
    "\"Bootstrapping (statistics)\" Wikipedia: The Free Encyclopedia. Wikipedia, The Free Encyclopedia, 8 Feb 2019. Web. 12 Feb 2019, en.wikipedia.org/wiki/Bootstrapping_(statistics)\n",
    "\n"
   ]
  }
 ],
 "metadata": {
  "celltoolbar": "Slideshow",
  "hide_input": false,
  "kernelspec": {
   "display_name": "Python 3",
   "language": "python",
   "name": "python3"
  },
  "language_info": {
   "codemirror_mode": {
    "name": "ipython",
    "version": 3
   },
   "file_extension": ".py",
   "mimetype": "text/x-python",
   "name": "python",
   "nbconvert_exporter": "python",
   "pygments_lexer": "ipython3",
   "version": "3.6.6"
  }
 },
 "nbformat": 4,
 "nbformat_minor": 2
}
