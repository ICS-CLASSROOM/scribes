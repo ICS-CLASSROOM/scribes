{
 "cells": [
  {
   "cell_type": "markdown",
   "metadata": {},
   "source": [
    "### Scribers\n",
    "    Khanal Mahesh\n",
    "    Yasaka Evan\n",
    "    Kiese Oda"
   ]
  },
  {
   "cell_type": "code",
   "execution_count": 51,
   "metadata": {
    "slideshow": {
     "slide_type": "skip"
    }
   },
   "outputs": [],
   "source": [
    "import pandas as pd\n",
    "import numpy as np\n",
    "\n",
    "import matplotlib.pyplot as plt\n",
    "\n",
    "%matplotlib inline"
   ]
  },
  {
   "cell_type": "markdown",
   "metadata": {
    "slideshow": {
     "slide_type": "slide"
    }
   },
   "source": [
    "### Statistical Modeling \n",
    "\n",
    "#### What is a Statstical Modeling?\n",
    "\n",
    "We all know that the purpose of statistics is to observe the data describe the data and predict information. A statistical model is a combination of inferences based on collected data and population understanding used to predict information in an idealized form. This means that a statistical model can be a mathematical equation or a visual representation of information based on research that's already been collected over time. A statistical modeling is a simplified, mathematically-formalized way to approximate reality (i.e. what generates your data) and optionally to make predictions from this approximation.\n",
    "Generative model assumes data is created by a particular distribution which is defined by a couple of parameters. Having access to a distribution parameters was very useful for us because those parameters were very useful to answer three important statistical questions that we are often interested in: \n",
    "* Expectation : The expected value (or mean) of X, where X is a discrete random variable, is a weighted average of the possible values that X can take, each value being weighted according to the probability of that event occurring. The expected value of X is usually written as E(X) or m.\n",
    "\n",
    "* Variance  : The variance of a random variable X is the expected value of the squared deviation from the mean.The variance of x is usually written as Var(x). \n",
    "\n",
    "* Probability : A probability is defined as the likelihood of an event happening given the set of events. The probability is usually written as P(x). \n",
    "\n"
   ]
  },
  {
   "cell_type": "markdown",
   "metadata": {
    "slideshow": {
     "slide_type": "slide"
    }
   },
   "source": [
    "### Statistical Inference\n",
    "Statistical inference is the procedure through which inferences about a population are made based on certain characteristics calculated from a sample of data drawn from that population.We are using the sample as a proxy for some parameter in the population. We do so because in some cases it is almost impossible get data from the entire population. \n",
    "\n",
    "Sometimes using a sample from a population to collect the data is necessary. For example, for a certain experiment we may be collecting data from men from age 20-30. Surveying the entire population of men from age 20-30 is impossible. So, to overcome this situation we need to work with a sample that is taken from the population. The sample should be unbiased and should provide the actual representation of the entire population. \n",
    "\n",
    "    \n"
   ]
  },
  {
   "cell_type": "markdown",
   "metadata": {
    "slideshow": {
     "slide_type": "slide"
    }
   },
   "source": [
    "### Parameter Estimation\n",
    "\n",
    " Given a set of data, we can, in some cases, estimate the value of the parmeter(s) of the distribution that generated the data. The term parameter estimation refers to the process of using sample data to estimate the parameters of the selected distribution.\n",
    "For example, in an experiment, We randomly count the number of observed moving traffic citations within a 5 miles radius of UH Manoa during 90-days, spread across 12 months. While doing so, we want to avoid any sampling bias such as underestimating accidents during summer or overestimating it during the holiday season.\n",
    "\n",
    "The data should follow a Poisson distribution, i.e a discrete frequency distribution which gives the probability of a number of independent events occurring in a fixed time.\n",
    "Now we are interested to see, What value for the poisson mean makes the data the most probable?\n",
    "\n"
   ]
  },
  {
   "cell_type": "code",
   "execution_count": 52,
   "metadata": {},
   "outputs": [
    {
     "data": {
      "text/html": [
       "<div>\n",
       "<style scoped>\n",
       "    .dataframe tbody tr th:only-of-type {\n",
       "        vertical-align: middle;\n",
       "    }\n",
       "\n",
       "    .dataframe tbody tr th {\n",
       "        vertical-align: top;\n",
       "    }\n",
       "\n",
       "    .dataframe thead th {\n",
       "        text-align: right;\n",
       "    }\n",
       "</style>\n",
       "<table border=\"1\" class=\"dataframe\">\n",
       "  <thead>\n",
       "    <tr style=\"text-align: right;\">\n",
       "      <th></th>\n",
       "      <th>Counts</th>\n",
       "    </tr>\n",
       "    <tr>\n",
       "      <th>Day</th>\n",
       "      <th></th>\n",
       "    </tr>\n",
       "  </thead>\n",
       "  <tbody>\n",
       "    <tr>\n",
       "      <th>0</th>\n",
       "      <td>27</td>\n",
       "    </tr>\n",
       "    <tr>\n",
       "      <th>1</th>\n",
       "      <td>18</td>\n",
       "    </tr>\n",
       "    <tr>\n",
       "      <th>2</th>\n",
       "      <td>30</td>\n",
       "    </tr>\n",
       "    <tr>\n",
       "      <th>3</th>\n",
       "      <td>13</td>\n",
       "    </tr>\n",
       "    <tr>\n",
       "      <th>4</th>\n",
       "      <td>20</td>\n",
       "    </tr>\n",
       "  </tbody>\n",
       "</table>\n",
       "</div>"
      ],
      "text/plain": [
       "     Counts\n",
       "Day        \n",
       "0        27\n",
       "1        18\n",
       "2        30\n",
       "3        13\n",
       "4        20"
      ]
     },
     "execution_count": 52,
     "metadata": {},
     "output_type": "execute_result"
    }
   ],
   "source": [
    "citations_data = pd.read_csv(\"data/citations_counts.tsv\", index_col=\"Day\")\n",
    "citations_data.head()"
   ]
  },
  {
   "cell_type": "code",
   "execution_count": 53,
   "metadata": {
    "slideshow": {
     "slide_type": "slide"
    }
   },
   "outputs": [
    {
     "data": {
      "image/png": "[encoded data removed]",
      "text/plain": [
       "<Figure size 864x576 with 1 Axes>"
      ]
     },
     "metadata": {
      "needs_background": "light"
     },
     "output_type": "display_data"
    }
   ],
   "source": [
    "plt.figure(figsize=(12,8))\n",
    "\n",
    "\n",
    "\n",
    "plt.hist(citations_data[\"Counts\"], bins=8, normed=True, edgecolor='black', linewidth=1.2)\n",
    "x = np.arange(30)\n",
    "\n",
    "\n"
   ]
  },
  {
   "cell_type": "markdown",
   "metadata": {
    "collapsed": true,
    "slideshow": {
     "slide_type": "slide"
    }
   },
   "source": [
    "### Fitting the Data\n",
    "\n",
    "From the graph below, We see that the most conmmon value is $\\approx$ 16. It is clear that,Poisson distribtion  with a mean of 8  is not likely to have generate this dataset.Poisson distribtion  with a mean of 19  is also very unlikely to have generate this dataset.\n",
    "  \n",
    "  \n",
    "  \n",
    "<img src=\"images/counts_lambdas.png\" alt=\"drawing\" style=\"width:700px;\"/>\n",
    "  \n",
    "\n",
    "\n"
   ]
  },
  {
   "cell_type": "code",
   "execution_count": 54,
   "metadata": {
    "slideshow": {
     "slide_type": "skip"
    }
   },
   "outputs": [
    {
     "data": {
      "text/plain": [
       "<matplotlib.legend.Legend at 0x7f5c6361e748>"
      ]
     },
     "execution_count": 54,
     "metadata": {},
     "output_type": "execute_result"
    },
    {
     "data": {
      "image/png": "[encoded data removed]",
      "text/plain": [
       "<Figure size 864x576 with 1 Axes>"
      ]
     },
     "metadata": {
      "needs_background": "light"
     },
     "output_type": "display_data"
    }
   ],
   "source": [
    "plt.figure(figsize=(12,8))\n",
    "\n",
    "from scipy.stats import poisson\n",
    "\n",
    "\n",
    "np.random.seed(4)\n",
    "\n",
    "\n",
    "plt.hist(citations_data[\"Counts\"], bins=8, normed=True, edgecolor='black', linewidth=1.2)\n",
    "x = np.arange(30)\n",
    "\n",
    "\n",
    "p_y = poisson.pmf(x, 9)\n",
    "plt.plot(x, p_y, color= 'r', linewidth=4, label=\"$\\lambda=9$\")\n",
    "p_y = poisson.pmf(x, 18)\n",
    "plt.plot(x, p_y, color= 'k', linewidth=4, label=\"$\\lambda=18$\")\n",
    "plt.legend()"
   ]
  },
  {
   "cell_type": "code",
   "execution_count": 55,
   "metadata": {
    "slideshow": {
     "slide_type": "slide"
    }
   },
   "outputs": [
    {
     "data": {
      "text/plain": [
       "[<matplotlib.lines.Line2D at 0x7f5c637cc6a0>]"
      ]
     },
     "execution_count": 55,
     "metadata": {},
     "output_type": "execute_result"
    },
    {
     "data": {
      "image/png": "[encoded data removed]",
      "text/plain": [
       "<Figure size 864x576 with 1 Axes>"
      ]
     },
     "metadata": {
      "needs_background": "light"
     },
     "output_type": "display_data"
    }
   ],
   "source": [
    "plt.figure(figsize=(12,8))\n",
    "\n",
    "plt.hist(citations_data[\"Counts\"], bins=8, normed=True, edgecolor='black', linewidth=1.2)\n",
    "\n",
    "for i in [12,13,14,15,16, 17,18,19,20]:\n",
    "    p_y = poisson.pmf(x, i)\n",
    "    plt.plot(x, p_y, color= 'r', linewidth=0.5, label=\"$\\lambda=%sa$\" % i, alpha=.9)\n",
    "\n",
    "p_y = poisson.pmf(x, 17)\n",
    "\n",
    "plt.plot(x, p_y, color= 'r', linewidth=1.5, label=\"$\\lambda=%sa$\" % i)\n",
    "    "
   ]
  },
  {
   "cell_type": "markdown",
   "metadata": {
    "slideshow": {
     "slide_type": "slide"
    }
   },
   "source": [
    "### Computing the Probability of Observing these Data \n",
    "\n",
    "We can compute the probability given each possible parameter. To do that, we need to limit ourselves to the reasonable values. We also need to assume that the data is generated from a Poisson distribution. Secondly, we need to compute the probability of a single event. \n",
    "\n",
    "          `poisson.pmf(x, lambda)`\n",
    "          \n",
    " Since all events are independent,i.e the probability of an event doesnt contribute anything to the outcome of another event,  the probability of the complete dataset is simply the product of all probabilities. \n",
    "             \n",
    "             `np.product(poisson.pmf(x, lambda))`\n",
    "              \n",
    "  \n",
    "\n"
   ]
  },
  {
   "cell_type": "markdown",
   "metadata": {
    "slideshow": {
     "slide_type": "slide"
    }
   },
   "source": [
    "### Compound probability of Independent Events\n",
    "\n",
    "What is an independent event?\n",
    "\n",
    "If the occurrence of one event has no effect on the probability of another event, the two events are independent events.\n",
    "\n",
    "This can be illustrated from the example below. \n",
    "\n",
    "* Given a fair coin $p(H)=p(T) = 1/2$\n",
    "* If we flip the coin twice, the sample sapce is ${HH, HT, TH, TT}$ and  probabilities of the different outcomes is:\n",
    "\n",
    "$$\n",
    "p(HH) = p(H) * p(H) = 1/4\n",
    "p(HT) = p(H) * p(T) = 1/4\n",
    "p(TH) = p(T) * p(H) = 1/4\n",
    "p(TT) = p(T) * p(T) = 1/4\n",
    "$$\n",
    "\n",
    "As expected, all the probabilities sum to one. This only works if the probabilities are independent; i.e., obtaining `head` in the first toss does not affect the outcome of the second coin flip"
   ]
  },
  {
   "cell_type": "markdown",
   "metadata": {
    "slideshow": {
     "slide_type": "slide"
    }
   },
   "source": [
    "### Gambler's Fallacy - Cont'd\n",
    "\n",
    "<img src=\"images/gamblers_fallacy_2.png\" alt=\"drawing\" style=\"width:700px;\"/>\n",
    "\n"
   ]
  },
  {
   "cell_type": "markdown",
   "metadata": {
    "slideshow": {
     "slide_type": "slide"
    }
   },
   "source": [
    "### Gambler's Fallacy - Cont'd\n",
    "\n",
    "<img src=\"images/gamblers_fallacy_1.png\" alt=\"drawing\" style=\"width:700px;\"/>\n"
   ]
  },
  {
   "cell_type": "markdown",
   "metadata": {
    "slideshow": {
     "slide_type": "slide"
    }
   },
   "source": [
    "### Computing the Likelihood (Probability)\n",
    "\n",
    "To recap on the previous section, independent events are found in situations where each event doesn't affect the outcome of another event. In an earlier example we looked at flipping a coin. Each time you flip the coin, the result doesn't have any bearing on any flip after it and this we can call coin flipping an independent event.\n",
    "\n",
    "While there are problems such as drawing cards from a deck that aren't independent, for now we'll look at computing the likelihood of an outcome based on independent events.\n",
    "\n",
    "Mathematically, the formula to calculate the likelihood $L$ of given events $[x_1,x_2,...x_n]$ with some prior knowledge $\\lambda$ is:\n",
    "\n",
    "$$ \n",
    "\\begin{align}\n",
    "L([x_1,x_2,...x_n] | \\lambda) &= pmf(x_1, \\lambda) \\times  pmf(x_2, \\lambda)  ....  pmf(x_{n}, \\lambda) \\\\\n",
    "  &=  \\prod_{i=1}^{90} pmf(x_i, \\lambda) \n",
    "\\end{align}\n",
    "$$\n",
    "\n",
    "Or rather, simply put, multiplying the result of the probability mass function for each discreet event.\n",
    "\n",
    "For the next example, let's say we're looking at how many citations go out at a given area every day. We've observed in the past that there is a possibility for 16 citations to be given out. What would the likelihood be that we'd see 12 the next day? That's what this function will help tell us.\n",
    "\n",
    "Following, we'll look at this problem in python, given the data point we're looking at, 12, and the previous event 16."
   ]
  },
  {
   "cell_type": "code",
   "execution_count": 56,
   "metadata": {
    "slideshow": {
     "slide_type": "slide"
    }
   },
   "outputs": [
    {
     "data": {
      "text/plain": [
       "0.06612887239464967"
      ]
     },
     "execution_count": 56,
     "metadata": {},
     "output_type": "execute_result"
    }
   ],
   "source": [
    "data_point = 12\n",
    "_lambda = 16\n",
    "poisson.pmf(data_point, _lambda)"
   ]
  },
  {
   "cell_type": "markdown",
   "metadata": {},
   "source": [
    "### Computing the Likelihood (Probability)\n",
    "\n",
    "$0.06$? \n",
    "\n",
    "Why is that number so low? The reason for this is that we are looking at the _probability_ of the value 12 occuring with a $\\lambda$ of 16 given a poisson distribution.\n",
    "\n",
    "In our citations example, while the function will give us a value like 0.06 that is only the likelihood that we'll see that number. Let's say we want to predict how many citations go out tomorrow given out $\\lambda$ 16. We can extend this to calculate for all `data_points` possible and to see what number is the maximum among them.\n",
    "\n",
    "For instance, why don't we try `data_point = 16`?"
   ]
  },
  {
   "cell_type": "code",
   "execution_count": 57,
   "metadata": {
    "slideshow": {
     "slide_type": "slide"
    }
   },
   "outputs": [
    {
     "data": {
      "text/plain": [
       "0.09921753162215541"
      ]
     },
     "execution_count": 57,
     "metadata": {},
     "output_type": "execute_result"
    }
   ],
   "source": [
    "data_point = 16\n",
    "poisson.pmf(data_point, _lambda)"
   ]
  },
  {
   "cell_type": "markdown",
   "metadata": {},
   "source": [
    "### Computing the Likelihood (Probability)\n",
    "\n",
    "Here, we see that the likelihood to see 16 is higher which is expected since we know that 16 has already been seen! That makes sense! Remember that each of these probabilities are a fraction of one because 1 is a guarantee to happen and therefore each of these discreet possibilities share some fraction of that total.\n",
    "\n",
    "Now, let's go even further and try what we were talking about before. Likelihoods for many different outcomes."
   ]
  },
  {
   "cell_type": "code",
   "execution_count": 58,
   "metadata": {
    "slideshow": {
     "slide_type": "slide"
    }
   },
   "outputs": [
    {
     "data": {
      "text/plain": [
       "array([0.00335386, 0.08300552, 0.00056393, 0.08138938, 0.05591951,\n",
       "       0.04959665, 0.09921753, 0.06612887, 0.09338121, 0.06989938,\n",
       "       0.09921753, 0.04959665, 0.09921753, 0.09921753, 0.09921753,\n",
       "       0.06989938, 0.09301644, 0.08300552, 0.09338121, 0.0309857 ,\n",
       "       0.08300552, 0.09921753, 0.02155527, 0.05591951, 0.0309857 ,\n",
       "       0.09301644, 0.09338121, 0.09338121, 0.09921753, 0.01198747,\n",
       "       0.04959665, 0.09301644, 0.00599374, 0.08300552, 0.09338121,\n",
       "       0.09921753, 0.09921753, 0.08300552, 0.09301644, 0.09301644,\n",
       "       0.09921753, 0.09338121, 0.08138938, 0.09921753, 0.08300552,\n",
       "       0.09301644, 0.09338121, 0.06989938, 0.09921753, 0.06612887,\n",
       "       0.09921753, 0.00105737, 0.09921753, 0.09921753, 0.08300552,\n",
       "       0.09921753, 0.09301644, 0.06989938, 0.06612887, 0.02131106,\n",
       "       0.05591951, 0.09301644, 0.09301644, 0.09301644, 0.02131106,\n",
       "       0.09338121, 0.0309857 , 0.00919692, 0.06612887, 0.08138938,\n",
       "       0.0340977 , 0.01437018, 0.09338121, 0.05591951, 0.0309857 ,\n",
       "       0.09921753, 0.09301644, 0.04260534, 0.06612887, 0.04260534,\n",
       "       0.09921753, 0.0340977 , 0.08138938, 0.06612887, 0.00919692,\n",
       "       0.00919692, 0.09338121, 0.09921753, 0.09921753, 0.06612887])"
      ]
     },
     "execution_count": 58,
     "metadata": {},
     "output_type": "execute_result"
    }
   ],
   "source": [
    "\n",
    "poisson.pmf(citations_data[\"Counts\"], _lambda)\n"
   ]
  },
  {
   "cell_type": "markdown",
   "metadata": {},
   "source": [
    "### Computing the Likelihood (Probability)\n",
    "\n",
    "That's a lot of numbers but what we've done here is only half of the problem!\n",
    "\n",
    "Rembmer our formula:\n",
    "\n",
    "$$ \n",
    "\\begin{align}\n",
    "L([x_1,x_2,...x_n] | \\lambda) &= pmf(x_1, \\lambda) \\times  pmf(x_2, \\lambda)  ....  pmf(x_{n}, \\lambda) \\\\\n",
    "  &=  \\prod_{i=1}^{90} pmf(x_i, \\lambda) \n",
    "\\end{align}\n",
    "$$\n",
    "\n",
    "What we've done so far is only calcualte each of the individual $pmf(x_1, \\lambda) ...  pmf(x_2, \\lambda)  ...  pmf(x_{n}, \\lambda)$ based on the Poisson distribution.\n",
    "\n",
    "The big question here is now that we know their individual probabilities, what can we do with it? By applying the likelihood function, we can actually figure out the likelihood of getting that exact series and sequence of data over the course of that many days given a $\\lambda$.\n",
    "\n",
    "The best part is, since the amounts of citations given on each day are independent events, we can just take the product of all of those probabilities together to figure it out just like the function tells us to!\n",
    "\n",
    "Let's try it in python."
   ]
  },
  {
   "cell_type": "code",
   "execution_count": 59,
   "metadata": {
    "slideshow": {
     "slide_type": "slide"
    }
   },
   "outputs": [
    {
     "data": {
      "text/plain": [
       "1.1152800100792753e-113"
      ]
     },
     "execution_count": 59,
     "metadata": {},
     "output_type": "execute_result"
    }
   ],
   "source": [
    "np.product(poisson.pmf(citations_data[\"Counts\"], _lambda))\n"
   ]
  },
  {
   "cell_type": "markdown",
   "metadata": {
    "slideshow": {
     "slide_type": "slide"
    }
   },
   "source": [
    "### Understanding the Likelihood (Probability)\n",
    "\n",
    "\n",
    "$1.1152800100792753e-113$?!\n",
    "\n",
    "That's tiny! There's no way that can be the probability!\n",
    "\n",
    "Before we jump to conclusions let's think about it. We just calculated the probability of having a specific sequence of $90$ numbers given some prior knowledge and some $\\lambda$. How many different values do you think one of those $90$ numbers could have been? Then think how many combinations of those $90$ numbers you could have. Makes your head spin doesn't it? That is a huge almost uncountable (but countably infinite!) amount of possibilities and we just calculated the likelihood of just one of them.\n",
    "\n",
    "Still lost? Why don't we try something on a little smaller scale. Let's look at a sample for just three days. Let's look at the probability of having 16 citations on the first day, 15 citations on the second day, and then 16 citations on the third day given 16 as our $\\lambda$.\n"
   ]
  },
  {
   "cell_type": "code",
   "execution_count": 60,
   "metadata": {
    "slideshow": {
     "slide_type": "slide"
    }
   },
   "outputs": [
    {
     "data": {
      "text/plain": [
       "0.0009767091466218046"
      ]
     },
     "execution_count": 60,
     "metadata": {},
     "output_type": "execute_result"
    }
   ],
   "source": [
    "_lambda = 16\n",
    "np.product(poisson.pmf((16,15,16), _lambda))"
   ]
  },
  {
   "cell_type": "markdown",
   "metadata": {},
   "source": [
    "### Understanding the Likelihood (Probability)\n",
    "\n",
    "Look at that! We don't have to convert to automatically conver to scientific notation (but we probably should)!\n",
    "\n",
    "That being said this is still a really small number but the thing that you should be getting here is the reason why that number is higher than when we tried to look at a sequence of $90$ values.\n",
    "\n",
    "Remember that the python function `np.product(poisson.pmf((16,15,16), _lambda))` is calculating the likelihood of that series of numbers happening given some $\\lambda$. The smaller sample space allows for us to have less potential permuatations of the sequence and thus it follows that each individual sequence has a higher likelihood overall to occur than if our sample space was larger.\n",
    "\n",
    "But what about the significance of the $\\lambda$ in this equation? So far, we've been testing numbers that are fairly close to what we'd expect. What happens if we try the same sample space but numbers that are a little further away? Say perhaps (9, 11, 11).\n",
    "\n",
    "Let's try it in python."
   ]
  },
  {
   "cell_type": "code",
   "execution_count": 61,
   "metadata": {
    "slideshow": {
     "slide_type": "slide"
    }
   },
   "outputs": [
    {
     "data": {
      "text/plain": [
       "5.24215504845479e-05"
      ]
     },
     "execution_count": 61,
     "metadata": {},
     "output_type": "execute_result"
    }
   ],
   "source": [
    "np.product(poisson.pmf((9,11,11), 16))"
   ]
  },
  {
   "cell_type": "markdown",
   "metadata": {},
   "source": [
    "### Understanding the Likelihood (Probability)\n",
    "\n",
    "Even though we're using a smaller sample space the number is really low again! Why is that?\n",
    "\n",
    "The significance of $\\lambda$ is that it is something like a target. Imagine a professional is playing darts. These guys practice a lot to get their throws consistent and to make sure that they can hit where they're aiming. If we told that professional to try and hit the center of a dartboard three times, you'd probably think that he has a pretty good chance of hitting the target or if not getting very close to it on each throw.\n",
    "\n",
    "A similar principle is in play here with our likelihood function and the pmf calculation. The $\\lambda$ acts similarly to the center of that dartboard where values close to it are generally more likely to happen but as you go out and deviate from it the probability for those happening gets smaller and smaller.\n",
    "\n",
    "The reason why our outcome from above is so small is due to the simple fact that our $\\lambda$ is so far away from the values that we're trying! Due to them being so far away their individual probabilities are lower and as such, when they are multiplied together with the likelihood function, the number becomes magnitudes smaller!\n",
    "\n",
    "If we were to try every possible value for every number and add up the likelihoods for every possible combination, we'd end up at or very close to a 1 which makes sense because one of those possibilities happening is guaranteed and remember that each individual likelihood is some fractional value of being guaranteed to happen.\n",
    "\n",
    "Let's try it!"
   ]
  },
  {
   "cell_type": "code",
   "execution_count": 62,
   "metadata": {
    "slideshow": {
     "slide_type": "slide"
    }
   },
   "outputs": [
    {
     "name": "stdout",
     "output_type": "stream",
     "text": [
      "0.9999192928464893\n"
     ]
    }
   ],
   "source": [
    "total_prob = 0\n",
    "for i in range(0, 35):\n",
    "    for j in range(0, 35):\n",
    "        for k in range(0, 35):\n",
    "            total_prob += np.product(poisson.pmf((i,j,k), 16))\n",
    "            \n",
    "print(total_prob)"
   ]
  },
  {
   "cell_type": "markdown",
   "metadata": {},
   "source": [
    "### Understanding the Likelihood (Probability)\n",
    "\n",
    "Look at that! The total likelihoods are essentially 1!\n",
    "\n",
    "Now that we know the significance that the data size has on the likelihood of a specific event occuring, we began to look at the significance of the $\\lambda$ parameter. What happens if we changed $\\lambda$? What would that do?\n",
    "\n",
    "By changing the target, we can infer from the likelihood function that the likelihood of a specific set of data will change proportionate to the $\\lambda$. For instance, let's think about the darts and the dartboard again. What happens if we told the profrssional player to hit the exact same places as when we were using the center of the board as the target but we secretly changed where he should be aiming for without telling him? \n",
    "\n",
    "What we're doing here is effectively changing $\\lambda$ (the target) without changing any of the data points (where the darts land). \n",
    "\n",
    "By doing this we can attempt to find a lambda that would effectively give us a higher likelihood for that specific event to happen. We can try and find a point that would give his cluster of darts a higher likelihood of happening so we can say that he was aiming there the whole time and keep his professional integretiy intact!\n",
    "\n",
    "But what's the significance of finding the $\\lambda$ that gives us the highest likelihood though? If we go back to our citations example, we can say estimate the average number of citations given a day given the data that we already have! This approach is a little bit backwards and may seem confusing at first but it is actually very simple!\n",
    "\n",
    "Think of it this way: we have some data from past recordings and we're trying to find out what the most likely event to happen is. We can try many different likely events to figure out which one is the _most_ likely by basing our conclusion on the data that we have! Essentially we're using the data find us a $\\lambda$ that fits our recordings the best.\n",
    "\n",
    "Let's try, in python, several different values of $\\lambda$ to figure out which one is the most likely based on our data for citations."
   ]
  },
  {
   "cell_type": "code",
   "execution_count": 63,
   "metadata": {
    "slideshow": {
     "slide_type": "slide"
    }
   },
   "outputs": [
    {
     "name": "stdout",
     "output_type": "stream",
     "text": [
      "The likelihood of the data given lambda=12 is 7.225758340021846e-142\n",
      "The likelihood of the data given lambda=13 is 1.3062039910366992e-129\n",
      "The likelihood of the data given lambda=14 is 3.6837061119261494e-121\n",
      "The likelihood of the data given lambda=15 is 5.438292115885739e-116\n",
      "The likelihood of the data given lambda=16 is 1.1152800100792753e-113\n",
      "The likelihood of the data given lambda=17 is 7.058672617915774e-114\n",
      "The likelihood of the data given lambda=18 is 2.670870493915664e-116\n",
      "The likelihood of the data given lambda=19 is 1.051303302700141e-120\n",
      "The likelihood of the data given lambda=20 is 6.877960001068855e-127\n"
     ]
    }
   ],
   "source": [
    "for i in range(12, 21):\n",
    "    likelihood_data_i = np.product(poisson.pmf(citations_data[\"Counts\"], i))\n",
    "    print(\"The likelihood of the data given lambda=%s is %s\" % (i, likelihood_data_i))"
   ]
  },
  {
   "cell_type": "code",
   "execution_count": 64,
   "metadata": {
    "slideshow": {
     "slide_type": "slide"
    }
   },
   "outputs": [
    {
     "data": {
      "image/png": "[encoded data removed]",
      "text/plain": [
       "<Figure size 864x288 with 1 Axes>"
      ]
     },
     "metadata": {
      "needs_background": "light"
     },
     "output_type": "display_data"
    }
   ],
   "source": [
    "plt.figure(figsize=(12,4))\n",
    "\n",
    "x = range(12, 21)\n",
    "l_x = [np.product(poisson.pmf(citations_data[\"Counts\"], i)) for i in x]\n",
    "\n",
    "\n",
    "frame1 = plt.gca()\n",
    "frame1.axes.yaxis.set_ticklabels([])\n",
    "plt.scatter(x, l_x)\n",
    "\n",
    "_= plt.ylim(-1.1152800100792753e-113, 1.1152800100792753e-112)\n"
   ]
  },
  {
   "cell_type": "markdown",
   "metadata": {
    "slideshow": {
     "slide_type": "slide"
    }
   },
   "source": [
    "### Understanding the Likelihood - Cont'd\n",
    "\n",
    "\n",
    "We can see that after trying a whole bunch of different $\\lambda$ that 16 is actually our most likely value! The biggest issue here though is that trying to figure out the difference between each value is very small.\n",
    "\n",
    "There are some other problems however. In large problems we need to use computers to figure out some of these things since there is just way too many individual calculations to do by hand. This is sad because, unfortunately, computers do come with some downsides. Given that we're finding these extremely small numbers the biggest problem to potentially crop up would be what is called a _floating point underflow_. Without getting too much into computer science-y jargon, the problem here is that on computers numbers are stored in memory so that we can access and manipulate them. What this means is that there is a limit to how large the numbers we can represent in computers can be. This means that will small enough numbers, there just isn't enough space to store and represent them and this we have a _floating point underflow_.\n",
    "\n",
    "How do we solve this though? Usually we do these problems with enormous datasets and there's no way in our world of computers and technology that we cannot do these problems. What can we do?\n",
    "\n",
    "What we can do is normalzie the values by transforming all of the data to a logarithmic scale.\n",
    "\n",
    "We know that:\n",
    "\n",
    "$$\n",
    "log(x \\dot y) = log(x) + log(y)\n",
    "$$\n",
    "\n",
    "Therefore:\n",
    "\n",
    "\n",
    "\\begin{align}\n",
    "log(L([x_1,x_2,...x_90] | \\lambda)) &= log(pmf(x_1, \\lambda)) \\times  log(pmf(x_2, \\lambda))  ....  log(pmf(x_{90}, \\lambda)) \\\\\n",
    "  &=  \\sum_{i=1}^{90} log(pmf(x_i, \\lambda)) \n",
    "\\end{align}\n",
    "\n",
    "By using this law and taking the log value of the pmf function, we can then figure out the log value of the likelihood! Something important to note here is that we are only transforming the values themselves but _not_ their share of the possibilities. Essentially we are maintaining the ratio between every value but just making them a little more easy to manage.\n",
    "\n",
    "BUT - and this is a big but - because we've transformed them to log values, even though the ratios between all the values is maintained this new log-balanced value is _not_ a probbility! This method is purely to help us visualize the difference between every evernt and, less importantly, to prevent computing errors by havin numbers that are too small.\n",
    "\n",
    "Let's try plot that data where we modify the lambda value again but this time using the log likelihood rather than the actual value. We will see that the plot is much more readable and can see the difference between values much easier."
   ]
  },
  {
   "cell_type": "code",
   "execution_count": 65,
   "metadata": {
    "slideshow": {
     "slide_type": "slide"
    }
   },
   "outputs": [
    {
     "data": {
      "text/plain": [
       "<matplotlib.collections.PathCollection at 0x7f5c63011eb8>"
      ]
     },
     "execution_count": 65,
     "metadata": {},
     "output_type": "execute_result"
    },
    {
     "data": {
      "image/png": "[encoded data removed]",
      "text/plain": [
       "<Figure size 864x576 with 1 Axes>"
      ]
     },
     "metadata": {
      "needs_background": "light"
     },
     "output_type": "display_data"
    }
   ],
   "source": [
    "plt.figure(figsize=(12,8))\n",
    "\n",
    "x = range(12, 21)\n",
    "l_x = [np.sum(np.log(poisson.pmf(citations_data[\"Counts\"], i))) for i in x]\n",
    "\n",
    "plt.scatter(x, l_x)\n"
   ]
  },
  {
   "cell_type": "markdown",
   "metadata": {
    "slideshow": {
     "slide_type": "slide"
    }
   },
   "source": [
    "### Maximum likelihood For the Poisson Distribution\n",
    "\n",
    "  \n",
    "To summrize, we can hypothesize that the data that we have is generated based on some $\\lambda$ value. We can show that out of all possible $\\lambda$, there is at least one which leads us to allow the most likely possibility for the data to be generated.  We can also say that this $\\lambda$ value, _maximizes_ the likelihood.\n",
    "\n",
    "If you're sharp you may have seen the hints earlier or some of the allusions that have been made but what else could we call this likelihood?\n",
    "\n",
    "It's the sample mean! \n",
    "\n",
    "```python \n",
    ">>> np.mean(citations_data[\"Counts\"]) \n",
    "16.41\n",
    "```\n",
    "\n",
    "What we've just done is essentially calculate the mean! So why did we need to do this with the likelihood function and go through so much trouble?\n",
    "\n",
    "In our example with citations we assumed that the data was best represented using a poisson distribtion, but we could have also manually tested other distributions and selected the one that provides the highest likelihood. This practice of selecting the most appropriate model for the data is what's known as testing \"goodness of fit\" which we'll look at later."
   ]
  },
  {
   "cell_type": "markdown",
   "metadata": {
    "slideshow": {
     "slide_type": "slide"
    }
   },
   "source": [
    "# Example: A/B Testing\n",
    "A/B testing is a way to compare two versions of a single variable, typically by testing a subject's response to variant A against variant B, and determining which of the two variants is more effective. The two versions should be identical except for one variation that might affect the users behaviour. If you want to advertise on Facebook for example you can use A/B testing on your ad, by letting Facebook show different versions of the ad to different people.\n",
    "\n",
    "Let's say you own a fitness center and want more members. Your designer just gave you a new version of the sign-up button that's in your ad and says that it will attract more members. You want to know if it really is more likely for people to sign up with this new design or not. You therefore do A/B testing to compare version A (new version) and version B (old version), by letting facebook show the new version to some users and the old version to some other users. The number of users that signed up from each group will then tell you which version was best at signing up users.\n",
    "\n",
    "<img src=\"images/ab_testing.png\" alt=\"drawing\" style=\"width:700px;\"/>\n",
    "\n"
   ]
  },
  {
   "cell_type": "markdown",
   "metadata": {
    "slideshow": {
     "slide_type": "slide"
    }
   },
   "source": [
    "### Maximum Likelihood For a Binomial Distribution\n",
    "Maximum likelihood estimation (MLE) is a method of estimating the parameters of a statistical model, given observations. The maximum likelihood estimate for a parameter $\\mu$ is denoted $\\hat\\mu$. This is a usefull method if you have some data and want to make a model that describes this data.\n",
    "\n",
    "Let's say that facebook has given you back some data after the A/B testing has been going on for a few days. The data tells you that out of the 8 people that were shown version A, 5 of them signed up. You think these numbers are good but would like to know the probability of a user signing up after they are shown version A. \n",
    "\n",
    "The data is distributed according to a binomial distribution where $n=8$ and $p \\in [0,1]$. $n$ is the number of trials and $p$ is the probability of success in each trial, that is the probability of a user signing up after he has seen the ad. We are therefore interested in the value of $p$. Intuitively, we know that it cannot be too small because more than half of the users signed up. We also know it is unlikely for it to be really close to one because a portion of the users did not sign up. It is for example more likely to get our data with a $p=0.8$ than with $p=0.3$ or $p=0.95$\n",
    "\n",
    "By testing we can detrmine the value of $p$ that is the most likely."
   ]
  },
  {
   "cell_type": "code",
   "execution_count": 66,
   "metadata": {
    "slideshow": {
     "slide_type": "slide"
    }
   },
   "outputs": [
    {
     "data": {
      "text/plain": [
       "0.04667544000000001"
      ]
     },
     "execution_count": 66,
     "metadata": {},
     "output_type": "execute_result"
    }
   ],
   "source": [
    "from scipy.stats import binom\n",
    "n = 8\n",
    "k = 5\n",
    "binom.pmf(k, n , p=0.3)"
   ]
  },
  {
   "cell_type": "code",
   "execution_count": 67,
   "metadata": {
    "slideshow": {
     "slide_type": "slide"
    }
   },
   "outputs": [
    {
     "data": {
      "text/plain": [
       "0.005416466562500022"
      ]
     },
     "execution_count": 67,
     "metadata": {},
     "output_type": "execute_result"
    }
   ],
   "source": [
    "binom.pmf(k, n ,p=0.95)"
   ]
  },
  {
   "cell_type": "code",
   "execution_count": 68,
   "metadata": {},
   "outputs": [
    {
     "data": {
      "text/plain": [
       "0.14680064000000004"
      ]
     },
     "execution_count": 68,
     "metadata": {},
     "output_type": "execute_result"
    }
   ],
   "source": [
    "binom.pmf(k, n ,p=0.8)"
   ]
  },
  {
   "cell_type": "markdown",
   "metadata": {},
   "source": [
    "As we can see from the tests above, our intuition was right - it is more likely to get our data with a $p=0.8$ than with $p=0.3$ or $p=0.95$. We can do this test for many different values of p to plot the log likelihood:"
   ]
  },
  {
   "cell_type": "code",
   "execution_count": 69,
   "metadata": {
    "slideshow": {
     "slide_type": "slide"
    }
   },
   "outputs": [
    {
     "data": {
      "text/plain": [
       "<matplotlib.lines.Line2D at 0x7f5c62f85320>"
      ]
     },
     "execution_count": 69,
     "metadata": {},
     "output_type": "execute_result"
    },
    {
     "data": {
      "image/png": "[encoded data removed]",
      "text/plain": [
       "<Figure size 432x288 with 1 Axes>"
      ]
     },
     "metadata": {
      "needs_background": "light"
     },
     "output_type": "display_data"
    }
   ],
   "source": [
    "x = np.arange(0.001,1,0.025)\n",
    "l_x_vals = []\n",
    "for p in x:\n",
    "    l_x_i = np.sum(np.log(binom.pmf(k, n , p)))\n",
    "    l_x_vals.append(l_x_i)\n",
    "    \n",
    "plt.scatter(x, l_x_vals)\n",
    "plt.scatter(x[np.argmax(l_x_vals)], np.max(l_x_vals))\n",
    "\n",
    "plt.axvline(0.625, color='r')\n"
   ]
  },
  {
   "cell_type": "markdown",
   "metadata": {
    "slideshow": {
     "slide_type": "slide"
    }
   },
   "source": [
    "### Maximum Likelihood For a Binomial Distribution - Cont'd\n",
    "As we can see from the plot above, the log likelihood is maximized when $p = 0.625$. Let's say that someone generated out dataset. They chose a value for $p$ and decided that they would do 8 trials. Their result was that 5 people signed up. Then the graph above tells us that the value they used for $p$ is most likely $p = 0.625$, because you are most likely to get 5/8 succes with $p = 0.625$.\n",
    "\n",
    "Often you have a value for $p$ and want to compute the probability of an outcome. In this case we have the outcome and want to work backwards and find the value of $p$.\n",
    "\n",
    "The maximum likelihood is consistent with our intuition. If we toss a coin 100 times and observe 85 heads, then we assume the probability of heads is 0.85. Since 5 out of users signed up, we assume that $p = 5/ 8 =  0.625$. Going back to our facebook example we now have a model that describes the number of users that will sign up when shown version A. We can the same way make a model for version B, and then compare the two to find out which version was best at signing up users."
   ]
  },
  {
   "cell_type": "markdown",
   "metadata": {
    "slideshow": {
     "slide_type": "slide"
    }
   },
   "source": [
    "###  Maximum Likelihood Estimation\n",
    "Making a graph of the log likelihood to find the maximum likelihood estimator (MLE) is quite tiresome, so luckily \n",
    "someone has derived equations to compute the MLE's of common distributions analytically.\n",
    "\n",
    "For example the maximum estimator of the mean, $\\mu$, in a gaussian distribution is simply the sample mean and the estimator of the std. deviation, $\\sigma$, is the sample's standard deviation\n",
    "$$\n",
    "\\hat{\\mu} = \\frac{1}{n} \\sum_{i=1}^{n}x_i, \n",
    "$$\n",
    "and\n",
    "$$\n",
    "\\hat{\\sigma} = \\frac{1}{n} \\sum_{i=1}^{n}{(x_i - \\bar{x})^2}.\n",
    "$$\n",
    "\n",
    "In a binomial distribution then we have seen that the maximum estimator of the probability, $p$, is simply the success rate\n",
    "\n",
    "$$\n",
    "\\hat{p} = \\frac{k}{n},\n",
    "$$\n",
    "where $k$ is the number of successes."
   ]
  },
  {
   "cell_type": "markdown",
   "metadata": {
    "slideshow": {
     "slide_type": "slide"
    }
   },
   "source": [
    "### Parameter Estimation and Variance\n",
    "If we have the relevant data for the entire population, we can simply calculate the parameter. We know that a statistic  based on a random sample can be a reasonable estimate of an unknown parameter in the population but we cannot guarantee that two samples drawn at random will have exctly the same paramter.\n",
    "\n",
    "Machine Learning estimators are simply point-estimates that maximize the likelihood of data. They do not tell anything about how confident we are in the oberservator, and they do not give the probability that this is the correct parameter of the population. We do not know how different this estimate or observer would have been if the sample of the population had been different! How different could this estimate have been, if the sample had come out differently? "
   ]
  },
  {
   "cell_type": "markdown",
   "metadata": {
    "slideshow": {
     "slide_type": "slide"
    }
   },
   "source": [
    "###  Sampling and Resampling\n",
    "A random sample is just one of numerous possible random samples. Our parameter estimate is, therefore, just one of numerous plausible estimates. A good way to test this is drawing another sample from the population and compare the new estimate to the old one. But sampling from the population can be costly, tedious or simply not possible.\n",
    "\n",
    "Let's go back to our fitness center ads. We found the maximum likelihood estimator of $p$ to be $\\hat{p}=0.625$. But as we only let the ad be on facebook a few days, we are not sure if this really is a good estimate. We therefore want to do the A/B testing again to get a new sample and then calculate a new estimator and compare to the old one. Our financial advisor then steps in and says advertising on facebook is way too expensive and we simply cannot afford it. What can then be done?"
   ]
  },
  {
   "cell_type": "markdown",
   "metadata": {
    "slideshow": {
     "slide_type": "slide"
    }
   },
   "source": [
    "### The Bootstrap: Resampling from the Sample ###\n",
    "Bootstrapping is a solution when re-sampling is not a good option. It is based on the idea that a large random sample is likely to resemble the population from which it is drawn. This observation allows data scientists replicate the sampling procedure by *sampling from the sample*. The steps of the *the bootstrap method* for generating another random sample that resembles the population is quite simple:\n",
    "\n",
    "1. Treat the original sample as if it were the population\n",
    "2. Draw from the sample, at random **with replacement**, the same number of times as the original sample size\n",
    "\n",
    "A great advantage of bootstrap is its simplicity. It is a straightforward way to derive estimates e.g. confidence intervals for estimators of parameters of the distribution. Bootstrap is also an appropriate way to control and check the stability of the results. Although for most problems it is impossible to know the true confidence interval, bootstrap is asymptotically more accurate than the standard intervals obtained using sample variance and assumptions of normality.\n",
    "\n",
    "Bootstrapping may however conceal the fact that important assumptions are being made when undertaking the bootstrap analysis (e.g. independence of samples) where these would be more formally stated in other approaches.\n",
    "\n",
    "For instance, rather than sample new citation, we consider our dataset as a population  and draw new samples from it"
   ]
  },
  {
   "cell_type": "markdown",
   "metadata": {},
   "source": [
    "We can use `np.random.choice` on a sample to perform bootstrapping."
   ]
  },
  {
   "cell_type": "code",
   "execution_count": 70,
   "metadata": {
    "slideshow": {
     "slide_type": "slide"
    }
   },
   "outputs": [
    {
     "data": {
      "text/plain": [
       "array([3, 3, 4, 2])"
      ]
     },
     "execution_count": 70,
     "metadata": {},
     "output_type": "execute_result"
    }
   ],
   "source": [
    "test_data = [1,2,3,4]\n",
    "\n",
    "np.random.choice(test_data, 4, replace=True)\n",
    "\n",
    "# np.random.choice uses replace = True by default"
   ]
  },
  {
   "cell_type": "markdown",
   "metadata": {},
   "source": [
    "Let's look at an example where we have a sample of male heights. The sample is generated with $\\mu = 177cm$ and $\\sigma = 10cm$. The sample is of size 1000."
   ]
  },
  {
   "cell_type": "code",
   "execution_count": 71,
   "metadata": {},
   "outputs": [
    {
     "name": "stdout",
     "output_type": "stream",
     "text": [
      "Mean:  177.48959921373253\n",
      "Variance : 9.539272329491565\n"
     ]
    }
   ],
   "source": [
    "n = 1000\n",
    "mean = 177\n",
    "std = 10\n",
    "x = range(n)\n",
    "\n",
    "height_sample = np.random.normal(loc=mean, scale=std, size=n)\n",
    "print(\"Mean: \", np.mean(height_sample))\n",
    "print(\"Variance :\", np.std(height_sample))"
   ]
  },
  {
   "cell_type": "markdown",
   "metadata": {},
   "source": [
    "Below is a plot where the original sample is shown in blue and a bootstrapped sample is orange. As we can see they resemble each other, and the orange sample is a good representation of the original sample. We can also see that the mean and variance of the bootstrapped sample is really close to the original sample."
   ]
  },
  {
   "cell_type": "code",
   "execution_count": 72,
   "metadata": {
    "slideshow": {
     "slide_type": "slide"
    }
   },
   "outputs": [
    {
     "data": {
      "image/png": "[encoded data removed]",
      "text/plain": [
       "<Figure size 864x576 with 1 Axes>"
      ]
     },
     "metadata": {
      "needs_background": "light"
     },
     "output_type": "display_data"
    }
   ],
   "source": [
    "plt.figure(figsize=(12, 8))\n",
    "plt.hist(height_sample, bins=20, edgecolor='black', linewidth=1.2, alpha=0.5)\n",
    "\n",
    "bootstrap_1 = np.random.choice(height_sample, len(height_sample))\n",
    "_ = plt.hist(bootstrap_1, bins=20, edgecolor='black', linewidth=1.2, alpha=0.5)"
   ]
  },
  {
   "cell_type": "code",
   "execution_count": 73,
   "metadata": {
    "slideshow": {
     "slide_type": "slide"
    }
   },
   "outputs": [
    {
     "name": "stdout",
     "output_type": "stream",
     "text": [
      "Mean:  177.8460242551492\n",
      "Variance:  9.052867033959819\n"
     ]
    }
   ],
   "source": [
    "print(\"Mean: \", np.mean(bootstrap_1))\n",
    "print(\"Variance: \", np.std(bootstrap_1))"
   ]
  },
  {
   "cell_type": "markdown",
   "metadata": {},
   "source": [
    "The plot shows us that bootstrapping can give a fairly good representation of the original sample. However, this might have been a fluke. Let's now bootstrap 1000 times and look at the mean and the standard deviation, to compare it to the original mean and standard deviation. As we can see from the plots below the means and the standard deviations are close to the original."
   ]
  },
  {
   "cell_type": "code",
   "execution_count": 74,
   "metadata": {
    "slideshow": {
     "slide_type": "slide"
    }
   },
   "outputs": [
    {
     "data": {
      "text/plain": [
       "<matplotlib.lines.Line2D at 0x7f5c62ed4630>"
      ]
     },
     "execution_count": 74,
     "metadata": {},
     "output_type": "execute_result"
    },
    {
     "data": {
      "image/png": "[encoded data removed]",
      "text/plain": [
       "<Figure size 864x576 with 1 Axes>"
      ]
     },
     "metadata": {
      "needs_background": "light"
     },
     "output_type": "display_data"
    }
   ],
   "source": [
    "# Plot of means after bootstrapping and original mean\n",
    "bootstrap_means = [np.mean(np.random.choice(height_sample, len(height_sample))) for _ in range(1000)]\n",
    "plt.figure(figsize=(12, 8))\n",
    "plt.hist(bootstrap_means, bins=20, edgecolor='black', linewidth=1.2, alpha=0.5)\n",
    "plt.axvline(np.mean(height_sample), color='r')"
   ]
  },
  {
   "cell_type": "code",
   "execution_count": 75,
   "metadata": {},
   "outputs": [
    {
     "data": {
      "text/plain": [
       "<matplotlib.lines.Line2D at 0x7f5c62e6b978>"
      ]
     },
     "execution_count": 75,
     "metadata": {},
     "output_type": "execute_result"
    },
    {
     "data": {
      "image/png": "[encoded data removed]",
      "text/plain": [
       "<Figure size 864x576 with 1 Axes>"
      ]
     },
     "metadata": {
      "needs_background": "light"
     },
     "output_type": "display_data"
    }
   ],
   "source": [
    "# Plot of standard deviations after bootstrapping and original standard deviation\n",
    "bootstrap_stds = [np.std(np.random.choice(height_sample, len(height_sample))) for _ in range(1000)]\n",
    "plt.figure(figsize=(12, 8))\n",
    "plt.hist(bootstrap_stds, bins=20, edgecolor='black', linewidth=1.2, alpha=0.5)\n",
    "plt.axvline(np.std(height_sample), color='r')"
   ]
  },
  {
   "cell_type": "markdown",
   "metadata": {
    "slideshow": {
     "slide_type": "slide"
    }
   },
   "source": [
    "### Remember \n",
    "1 - Resample the same number of times as the original sample size.  \n",
    "The reason is that the variability of an estimate depends on the size of the sample. To see how different the sample could have been, we have to compare it to the median of other samples of the same size as the sample size. If we drew 1000 times at random *without* replacement from our sample of size 1000, we would just get the same sample back. By drawing *with* replacement, we create the possibility for the new samples to be different from the original, because some employees might be drawn more than once and others not at all.\n"
   ]
  },
  {
   "cell_type": "markdown",
   "metadata": {
    "slideshow": {
     "slide_type": "slide"
    }
   },
   "source": [
    "### Why is this a good idea? \n",
    "Similarity by transitivity. By the law of averages, the distribution of the original sample is likely to resemble the population. The distributions of all the \"resamples\" are likely to resemble the original sample. So the distributions of all the resamples are likely to resemble the population as well. "
   ]
  },
  {
   "cell_type": "markdown",
   "metadata": {
    "slideshow": {
     "slide_type": "slide"
    }
   },
   "source": [
    "### Resampling \n",
    "\n",
    "\n",
    "<img src=\"bootstrap.png\" alt=\"drawing\" style=\"width:950px;\"/>\n"
   ]
  }
 ],
 "metadata": {
  "celltoolbar": "Slideshow",
  "colab": {
   "collapsed_sections": [],
   "name": "PP_1_Introduction.ipynb",
   "provenance": [],
   "version": "0.3.2"
  },
  "hide_input": false,
  "kernelspec": {
   "display_name": "Python 3",
   "language": "python",
   "name": "python3"
  },
  "language_info": {
   "codemirror_mode": {
    "name": "ipython",
    "version": 3
   },
   "file_extension": ".py",
   "mimetype": "text/x-python",
   "name": "python",
   "nbconvert_exporter": "python",
   "pygments_lexer": "ipython3",
   "version": "3.7.1"
  }
 },
 "nbformat": 4,
 "nbformat_minor": 1
}
