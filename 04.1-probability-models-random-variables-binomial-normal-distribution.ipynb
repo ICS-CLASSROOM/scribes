{
 "cells": [
  {
   "cell_type": "markdown",
   "metadata": {},
   "source": [
    "### Scribers\n",
    "    Johnson Katrina\n",
    "    Yasaka Evan \n",
    "    Mollat Fridtjof"
   ]
  },
  {
   "cell_type": "code",
   "execution_count": null,
   "metadata": {
    "slideshow": {
     "slide_type": "skip"
    }
   },
   "outputs": [],
   "source": [
    "import numpy as np\n",
    "from scipy.stats import binom\n",
    "from scipy.stats import norm\n",
    "import matplotlib.pyplot as plt\n",
    "import itertools\n",
    "import pandas as pd\n",
    "%matplotlib inline"
   ]
  },
  {
   "cell_type": "markdown",
   "metadata": {
    "slideshow": {
     "slide_type": "-"
    }
   },
   "source": [
    "## Probability Models\n",
    "\n",
    "Probability models are one of the ways that we can reason and intereact with a probibalistic system. Generally we can use the models to compute things like the probability of events happening and to sample data from a generated model.\n",
    "    \n",
    "We can use probibalistic models to calculate the expectation of an event by repeating something such as an experiemnt or action a large number of times. For instance, we could use a model that looks at the average amount of new clients expected to be gained after running an ad campaign if we were to repeat that ad campaign a large number of times. By using existing data such as the values of previous ad campaigns we can build a probibablistic model that simulates a large number of people viewing that campaign and whether or not they become a new client. From there we can repeat that process a large number of times to figure out the average number of new clients using those parameters to figure out things such as profitability. One of the other things we can look at is the variability in the data. If we see over several trials that perhaps, one time we had 6000 new clients and another 18000, new clients with the average being 12000, we know that the model may not be reliable. We can also use that data to figure out the probability of having more than an X amount of clients by counting the amount of trials that met or exceeded expectations and dividing by the amount of trials conducted.\n",
    "\n",
    "At the heart of these models are two important factors: _probability_ _distributions_, and _random_ _variables_.\n"
   ]
  },
  {
   "cell_type": "markdown",
   "metadata": {
    "slideshow": {
     "slide_type": "-"
    }
   },
   "source": [
    "## Probability Distributions\n",
    "\n",
    "\n",
    "Let's begin with that first factor, _probability_ _distributions_.\n",
    "\n",
    "Probability distributions are, in essence, a numerical function that assigns probabilities to events in the problem space. It sounds kind of odd when described like that but when we reason about mundane problems we do it almost unconciously. For instance, imagine a quarter. We all immediately can say that the probability for whether or not you get a heads on a flipped coin is fifty percent, but how did you instinctively know that? \n",
    "\n",
    "What you did was use a probability distribution to arrive at a probability! \n",
    "\n",
    "You, almost subconciously, started thinking that the coin has two possibilities: heads and tails. You also probably immediately assumed that the coin in question was not weighted at all. Now you know that the event in question of flipping a coin has two distinct possibilities, and that there is no bias towards one or the other. You know already from dreadful years of elementary mathematics drilling fractions into your head that a 1 out of 2 fraction leads you to a 0.5 which you know is fifty percent. You made a numerical function that calculated the probability without even knowing that you did it!\n",
    "\n",
    "What these functions help us do is define the probability of an event based on their fraction of certainty. That is, we use the function to calculate how likely it is that the event will happen with 0 being not happening at all, to 1 being guaranteed to happen.\n",
    "\n",
    "Let's look at an example involving loaded die.\n",
    "\n",
    "Consider the loaded die with the following probabilities: p(1) = 0.3/6 p(2) = 0.7/6 p(3) = 2/6 p(4) = 0.5/6 p(5) = 0.2/6 p(6) = 2.3/6. the $p(x)$ distribution function here takes a face of the dice and assigns a probability to it. (Note here that all of the numerators of the probabilities listed add up to a total value of 6 which is the size of possible outcomes in the problem space.) Once this function is evaluated we are given the probability value of that dice landing face up.\n",
    "\n",
    "In Python it would look something like this:\n",
    "\n",
    "```python\n",
    "    def loaded_die_distribution (face):\n",
    "    try:\n",
    "        dist = {1:0.3/6, 2:0.7/6, 3:2/6, 4:0.5/6, 5:0.2/6, 6:2.3/6}\n",
    "        return dist[face]\n",
    "    except:\n",
    "        raise(\"%s is not a valid die face %d\" % face)\n",
    "```\n",
    "\n",
    "Following is an evaluation of the distribution function which gives us the probability value of each face."
   ]
  },
  {
   "cell_type": "code",
   "execution_count": 2,
   "metadata": {
    "slideshow": {
     "slide_type": "-"
    }
   },
   "outputs": [
    {
     "data": {
      "text/plain": [
       "<BarContainer object of 6 artists>"
      ]
     },
     "execution_count": 2,
     "metadata": {},
     "output_type": "execute_result"
    },
    {
     "data": {
      "image/png": "[encoded data removed]",
      "text/plain": [
       "<Figure size 720x432 with 1 Axes>"
      ]
     },
     "metadata": {
      "needs_background": "light"
     },
     "output_type": "display_data"
    }
   ],
   "source": [
    "def loaded_die_distribution (face):\n",
    "    try:\n",
    "        dist = {1:0.3/6, 2:0.7/6, 3:2/6, 4:0.5/6, 5:0.2/6, 6:2.3/6}\n",
    "        return dist[face]\n",
    "    except:\n",
    "        raise(\"%s is not a valid die face %d\" % face)\n",
    "\n",
    "sample_space = list(range(1,7))\n",
    "p_x = []\n",
    "\n",
    "for x in  sample_space:\n",
    "    p_x.append(loaded_die_distribution(x))\n",
    "\n",
    "plt.figure(figsize=(10, 6))\n",
    "plt.bar(sample_space, p_x)"
   ]
  },
  {
   "cell_type": "markdown",
   "metadata": {
    "slideshow": {
     "slide_type": "-"
    }
   },
   "source": [
    "### Sampling from the Probability Distribution\n",
    "\n",
    "In our histogram plot we can see that we are about four times more likely to toll a three than a four. But what does this tell us about the data? How do we use this plot to figure out the probabilities for rolling say 6 threes if we rolled six times?\n",
    "\n",
    "In science we are taught that when we conduct an experiement we need to conduct that experiement multiple times to collect data so that we can make sure that we have \"good data\". In this case \"good data\" means that we can ensure that our experiment remained consistent and that the numbers we got are within a reasonable discourse. We can use these numbers to figure out an error and the amount of certainty that we have that our numbers and data are correct.\n",
    "\n",
    "Similarly with probabilities and distributions a single value isn't enough information to come to a conclusion! We want to roll the dice ten time, a hundred times, a million times or as many times as possible. In order to do this in python, we can do something like:\n",
    "\n",
    "```python\n",
    "np.random.choice([1, 2, 3, 4, 5, 6], p=[0.3/6, 0.7/6, 2/6, 0.5/6, 0.2/6, 2.3/6])\n",
    "```\n",
    "\n",
    "The `choice()` function here takes two arguments. One is the set of possible results of the problem space and the other is the likelihood of those happening. This function will simulate a single \"roll\" and return a result.\n",
    "\n",
    "To go back a bit, this single result doesn't tell us much by itself. As a data scientist you could possibly want to look at things like what is the likelihood of having a certain amount of a number show up. So what we do instead is to do this a large $n$ number of times. By sampling the function over and over and over we can see if the results that we get are similar in shape and look to the histograpm of the probabilities that we encoded.\n",
    "\n",
    "In fact, the numpy package for Pyhton gives us an extremely easy way to do this built right in! The `choice()` function can also take a number at the end of it as an argument that dictates the number of trials that we conduct that returns an array of values with each key being a result."
   ]
  },
  {
   "cell_type": "code",
   "execution_count": 3,
   "metadata": {
    "slideshow": {
     "slide_type": "-"
    }
   },
   "outputs": [
    {
     "data": {
      "text/plain": [
       "array([3, 3, 6, 6, 2, 6, 3, 3, 6, 2, 6, 6, 3, 3, 4, 6, 6, 3, 6, 2])"
      ]
     },
     "execution_count": 3,
     "metadata": {},
     "output_type": "execute_result"
    }
   ],
   "source": [
    "np.random.choice([1, 2, 3, 4, 5, 6], p=[0.3/6, 0.7/6, 2/6, 0.5/6, 0.2/6, 2.3/6], size=20)"
   ]
  },
  {
   "cell_type": "markdown",
   "metadata": {
    "slideshow": {
     "slide_type": "slide"
    }
   },
   "source": [
    "## Random Variables\n",
    "\n",
    "The second underlying and important part at the heart of probibablistic models are the _random_ _variables_. Random variables are, in essence, containers that can hold a value.\n",
    "\n",
    "In traditional CS thinking a variable is merely a box or container for a value. These values are potentially variable (random) however they are specifically dictated when they are instantiated. For instance you might see something like this in Python:\n",
    "\n",
    "```python\n",
    "    dieRollVal = 3;\n",
    "```\n",
    "    \n",
    "In this case, you'd be doing what is called _deterministically_ defining an int variable that would contain a die roll. In this case, we say that it is _deterministic_ because the value here is fixed. We're saying _deterministically_ that the dieRollVal is always going to be 3.\n",
    "\n",
    "What we're more interested in however is the probibalistic way of thinking. What we really want are _random_ variables. What we want is a container that can take any value without knowing what the value is when it's made. You could potentially see something like this:\n",
    "\n",
    "```python\n",
    "    dieRollVal = random.randint(1,6)\n",
    "```\n",
    "\n",
    "This line generates a random integer between 1 and 6 using the `randint()` function in Python.  Now the variable `dieRollVal` can represent the value of the face of the die when we roll a *fair die*.  We can change the range to fit other types of die as well.  For example: `dieRollVal = random.randint(1,10)` would represent a 10-sided die or `dieRollVal = random.randint(1,20)` for a 20 sided die.  Keep in mind, these examples are all for *fair* dice since the random function assigns an even probability to each \"face\" or value.\n",
    "\n",
    "Let's look at an example of a _random_ _variable_ with our loaded die in Python."
   ]
  },
  {
   "cell_type": "code",
   "execution_count": 4,
   "metadata": {
    "slideshow": {
     "slide_type": "slide"
    }
   },
   "outputs": [
    {
     "name": "stdout",
     "output_type": "stream",
     "text": [
      "roll_random_var contains the value 4\n",
      "roll_random_var contains the value 6\n",
      "roll_random_var contains the value 3\n",
      "roll_random_var contains the value 2\n",
      "roll_random_var contains the value 6\n",
      "roll_random_var contains the value 2\n",
      "roll_random_var contains the value 6\n",
      "roll_random_var contains the value 6\n",
      "roll_random_var contains the value 4\n",
      "roll_random_var contains the value 2\n"
     ]
    }
   ],
   "source": [
    "# Sample a roll of our loaded die 10 times and print out the result each time.\n",
    "for i in range(10):\n",
    "    \n",
    "    roll_random_var = np.random.choice([1, 2, 3, 4, 5, 6], p=[0.3/6, 0.7/6, 2/6, 0.5/6, 0.4/6, 2.1/6])\n",
    "    print (\"roll_random_var contains the value %s\" % roll_random_var)"
   ]
  },
  {
   "cell_type": "markdown",
   "metadata": {
    "slideshow": {
     "slide_type": "slide"
    }
   },
   "source": [
    "### Example of a Random Variable in Python\n",
    "\n",
    "\n",
    "```python\n",
    "\n",
    "import random\n",
    "for i in range(10):\n",
    "    roll_random_var = np.random.choice([1, 2, 3, 4, 5, 6], p=[0.3/6, 0.7/6, 2/6, 0.5/6, 0.4/6, 2.1/6])\n",
    "    print (\"roll_random_var contains the value %s\" % roll_random_var)\n",
    "```\n",
    "\n",
    "  \n",
    "The variable `roll_random_var` here is a _random_ _variable_ since the value that was assigned to it was determined probabilistically using the probabilities given to the `choice()` function."
   ]
  },
  {
   "cell_type": "markdown",
   "metadata": {
    "slideshow": {
     "slide_type": "slide"
    }
   },
   "source": [
    "### Probability Distributions - Continued\n",
    "  \n",
    "There are two types of random variables that you should be familiar with.\n",
    "\n",
    "The first one is called a **_discrete_ random variable**. Discreet random variables are number that are countable. For instance a discreet random variable could be the amount of people that walked into your store on a given day, or the number of cars that stop at a light before it turns green at an intersection. You cannot have a fraction of a person enter a store and similarly you cannot have a fraction of a car stop at a light.  \n",
    "*Note:* A discrete random variable can be treated as a continues random variable using multiple [Dirac delta functions](https://en.wikipedia.org/wiki/Probability_density_function#Link_between_discrete_and_continuous_distributions).\n",
    "\n",
    "The second one is called a **_continuous_ random variable**. These are random variables that are uncountably infinite. For instance, `let X = a person's weight in pounds`, it could theoretically take the value of `150, 151, 150.5, 150.25, etc.`  In otherwords X can be all real, positive numbers, which is an uncountably infinite set, therefore X is continuous.  Time and height or length are also common examples of continuous random variables. These values could theoretically be measured to an infinite amount of precision even though we generally round things like weight & height to so many decimal places and time to so many miliseconds or nanoseconds.\n",
    "\n",
    "Summarily, _discrete_ random variables are values that can be counted while _continuous_ random variables are things that usually are measured. \n",
    "\n",
    "What's imporant to note is that both discrete and continuous random variables have commonly occuring distributions. If you remember from before, probabilistic distributions are merely functions just like the loaded dice encoding from above. It gives the probability for each element in the sample space. In fact, two of the most popular and well known distributions are the binomial and the normal (or Gaussian) distribution.\n",
    "\n",
    "In summary:\n",
    "* p: $A -->[0,1]$ is a probability distribution if $\\int_{a \\in A}f(a) = 1$ \n",
    "\n",
    "* A random variable is a function from singleton set to $A$ along with probability distribution $p$ i.e. \n",
    "$(X, p)$ such that  $X: \\{*\\} --> A$ and $p:A-->[0,1]$ with $p[X = x] = p(x)$ "
   ]
  },
  {
   "cell_type": "markdown",
   "metadata": {
    "slideshow": {
     "slide_type": "slide"
    }
   },
   "source": [
    "## The Binomial Distribution\n",
    "\n",
    "This is the `\"Hello World\"` of probability distributions. The binomial distribution models the number of successes in an experiment of $n$ fixed, independent trials. Each trial has two states, success and failure. For each of these trails, the probability of success $p$ and a probability of failure $1-p$ (heads and tails; 0 and 1; True and False; etc.) \n"
   ]
  },
  {
   "cell_type": "markdown",
   "metadata": {
    "slideshow": {
     "slide_type": "slide"
    }
   },
   "source": [
    "\n",
    "###  Some Examples of the Binomial Distribution\n",
    "\n",
    "- You flip a fair coin 100 times, what is the probability of observing 27 heads?\n",
    "\n",
    "\n",
    "- Given an ad clickthrough probability of $p=0.6$ what is the probability of having 100 clicks if we show the ad 1000 times?\n",
    "\n",
    "\n",
    "- Given a disease prevalence of $p=0.05$, what is the probability of observing the disease in at least 100 individuals if we survey 5000 randomly selected individuals from the population?\n",
    "\n",
    "\n",
    "- Given an outgoing packet loss probability of 0.01, what is the expected number of packets lost in a single phone conversation where 12 million packets are sent?\n"
   ]
  },
  {
   "cell_type": "markdown",
   "metadata": {
    "slideshow": {
     "slide_type": "slide"
    }
   },
   "source": [
    "### Coin Flipping Example\n",
    "\n",
    "Let $X$ be the random variable representing the number of heads obtained from flipping a fair coin 5 times. What is the different possible combinations of heads and tails we can get from this experiment?\n",
    "\n",
    "This amounts to computing the product of $[H,T]^5$, or $[H,T] \\times [H,T] \\times [H,T] \\times [H,T] \\times [H,T]$\n"
   ]
  },
  {
   "cell_type": "code",
   "execution_count": 5,
   "metadata": {
    "slideshow": {
     "slide_type": "slide"
    }
   },
   "outputs": [
    {
     "name": "stdout",
     "output_type": "stream",
     "text": [
      "Sample space is of size 32 \n",
      "The sample space is: HHHHH HHHHT HHHTH HHHTT HHTHH HHTHT HHTTH HHTTT HTHHH HTHHT HTHTH HTHTT HTTHH HTTHT HTTTH HTTTT THHHH THHHT THHTH THHTT THTHH THTHT THTTH THTTT TTHHH TTHHT TTHTH TTHTT TTTHH TTTHT TTTTH TTTTT "
     ]
    }
   ],
   "source": [
    "product  = [x for x in itertools.product(['H', 'T'], repeat=5)]\n",
    "\n",
    "print(\"Sample space is of size %s \" % len(product))\n",
    "print(\"The sample space is: \", end= \"\");\n",
    "\n",
    "for prod in product:    \n",
    "    print(\"\".join(prod), end=\" \")"
   ]
  },
  {
   "cell_type": "markdown",
   "metadata": {
    "slideshow": {
     "slide_type": "slide"
    }
   },
   "source": [
    "### Using the Binomial Coefficient to Compute the Probability\n",
    "\n",
    "This makes sense since each flip can generate 2 possibilities, and we are flipping the coin 5 times. Therefore, there are $2^5 = 32$ outcomes. Out of these, there 5 ways of obtaining 1 head: HTTTT, THTTT, TTHTT, TTTHT, TTTTH. Therefore, the probability of obtaining 1 head is:\n",
    "\n",
    "$p(H=1) = 5/32$\n",
    " \n",
    "Similarly, there are 10 ways of obtaining 2 heads: HHTTT, HTHTT, HTTHT, HTTTH, …. TTTHH. Therefore, the probability of obtaining 2 heads is:\n",
    "\n",
    "$p(H=2) = 10/32$\n",
    "\n",
    "In general, the number of ways we can obtain $k$ head from $n$ flips is given by the binomial cofficient ${n}\\choose{k}$ (read as n choose k), which is given by:\n",
    "\n",
    "$$\n",
    "{{n}\\choose{k}} = \\frac{n!}{k!(n-k)!}\n",
    "$$\n",
    "\n",
    "Therefore, the probabilities for obtaining  0, 1, 2, 3, 4, or 5 heads are respectively is 1/32, 5/32, 10/32, 10/32, 5/32,\n",
    "1/32. These frequencies are shown in the bar plot below.\n",
    "\n",
    "**Fun Fact!** The probabilities for any number of coin throws can also be found in Pascal's Triangle which shows the sequence 1,5,10,10,5,1 in the (n+1)th row.  "
   ]
  },
  {
   "cell_type": "code",
   "execution_count": 6,
   "metadata": {
    "slideshow": {
     "slide_type": "slide"
    }
   },
   "outputs": [
    {
     "data": {
      "text/plain": [
       "Text(0, 0.5, 'probability')"
      ]
     },
     "execution_count": 6,
     "metadata": {},
     "output_type": "execute_result"
    },
    {
     "data": {
      "image/png": "[encoded data removed]",
      "text/plain": [
       "<Figure size 720x360 with 1 Axes>"
      ]
     },
     "metadata": {
      "needs_background": "light"
     },
     "output_type": "display_data"
    }
   ],
   "source": [
    "#We are looking at the prob of getting 0,1,2,3,4,5 heads out of 5 coin tosses.\n",
    "sample_space = [0, 1, 2, 3, 4, 5 ]\n",
    "p_x = [1.0/32, 5.0/32, 10.0/32, 10.0/32, 5.0/32, 1.0/32]\n",
    "\n",
    "plt.figure(figsize=(10, 5))\n",
    "plt.bar(sample_space, p_x ,  color = \"#3498db\", )\n",
    "plt.xlabel('number of heads in 5 coin flips'), \n",
    "plt.ylabel('probability')"
   ]
  },
  {
   "cell_type": "markdown",
   "metadata": {
    "slideshow": {
     "slide_type": "slide"
    }
   },
   "source": [
    "\n",
    "### The Binomial Distribution\n",
    "\n",
    "The equation above can be generalized to any number of trials $n$ any probability of heads $p(X)$. As seen here the binomial distribution contains probabilities of specific events happening. The sum of the probabtilities of all the possible events is equal to one, either an event happens or it does not.\n",
    "\n",
    "$\\sum\\limits_{k=1}^n p(X = k) = 1,$ where n is the amount of tries and k is the amount of \"hits\" we want the pobability of.\n",
    "\n",
    "We will write $p(X)$ as $p$ and $p(T)$ as $(1-p)$\n",
    "  \n",
    "$$\n",
    "p(X = k | n, p) = {{n}\\choose{k}} p^k  (1-p)^{n-k}\n",
    "$$\n",
    "    \n",
    "   \n",
    "\n",
    "\n",
    "This reads as what is the probability of having k head, **given** $n$, the number of samples and $p$ the probability of flipping one head. The equation above is the  probability distribution for random a variable distributed according to a binomial distribution. A convenient function to assign probabilities to all the values in the sample space.\n",
    "\n",
    "\n",
    "\n",
    "  "
   ]
  },
  {
   "cell_type": "markdown",
   "metadata": {
    "slideshow": {
     "slide_type": "slide"
    }
   },
   "source": [
    "### The Binomial Distribution - Cont'd\n",
    "\n",
    "The binomial distribution is frequently used to model the number of successes in a sample of size n drawn with replacement. If we want the distribution without replacement(say we have 2 blue and 2 red balls) then we would have to use the Hypergeometric distribution model. \n",
    "\n",
    "Another slightly less accurate way of finding the frequency of each event would be to model the problem based on random draws, and then run it x amount of times. For bigger x we get smaller errors, and as x tends to infinity they are equal.\n",
    "\n",
    "Take a look at the example below and try with different values of x."
   ]
  },
  {
   "cell_type": "code",
   "execution_count": 7,
   "metadata": {},
   "outputs": [
    {
     "name": "stdout",
     "output_type": "stream",
     "text": [
      "Actual probability of getting 42 ones is 0.07420719403438049\n",
      "Calcualted probability of getting 42 ones is 0.067\n"
     ]
    }
   ],
   "source": [
    "from scipy.stats import binom\n",
    "import random\n",
    "total_ones = 0\n",
    "numTimes42 = 0\n",
    "x = 1000 #number of recurring tries, the higher this number is, the more accurate(in theory, not necessarily) our answer is\n",
    "\n",
    "for k in range (x):\n",
    "    for i in range(100): #number of throws = 100\n",
    "        roll_random_var = np.random.choice([1, 2], p=[0.4,0.6]) #choose 1 or 2 with respective probabilities 0.4 and 0.6\n",
    "        if(roll_random_var == 1):\n",
    "            total_ones+=1\n",
    "\n",
    "    if (total_ones == 42): #check if amount of 1s after 100 throws is equal to 42\n",
    "        numTimes42 += 1\n",
    "    total_ones = 0 #resetting number of 1s for next try\n",
    "\n",
    "prob_42 = numTimes42/x #dividing total times we got exactly 42 1s with total tries\n",
    "n = 100 \n",
    "p = 0.4\n",
    "\n",
    "print(\"Actual probability of getting 42 ones is\", binom.pmf(42, n, p))\n",
    "print(\"Calcualted probability of getting 42 ones is\", prob_42)"
   ]
  },
  {
   "cell_type": "markdown",
   "metadata": {
    "collapsed": true,
    "slideshow": {
     "slide_type": "slide"
    }
   },
   "source": [
    "### Probability Distributions for Discrete Random Variables - Cont'd\n",
    "\n",
    "A probability distribution for a discrete random variable is called __probability mass function__ (__pmf__).\n",
    "`pmf`s take a discrete random variable $X$ and assign a probability to each value of its sample space\n",
    "The formula for __pmf__ was shown earlier, it looks like this:       \n",
    "<img style=\"float: right; width:400px;\" src=\"https://image2.slideserve.com/4603030/discrete-random-variables-the-pmf-can-be-shown-in-tabular-or-graphical-form-n.jpg\" />\n",
    "$$\n",
    "p(X = k |  n, p) ={{n}\\choose{k}} p^k * (1-p)^{n-k}\n",
    "$$\n",
    "\n",
    "where k is a value from the sample space of size n.\n",
    "\n",
    "If we take this formula, calculate the probability for each k in the sample space of X, and combine them, we get the pmf.  The pmf can be displayed in several ways:\n",
    "\n",
    "* If the sample space is small, it is common to see the pmf displayed in *tabular form* (see image)\n",
    "\n",
    "\n",
    "* For larger sample spaces, graphs or formulas are more common.\n",
    "    * The standard graphical representation for a `pmf` is a __histogram__ with x-axis containing observed values and y-axis containing probability the for the corresponding x-values.\n",
    "\n",
    "\n"
   ]
  },
  {
   "cell_type": "markdown",
   "metadata": {
    "slideshow": {
     "slide_type": "-"
    }
   },
   "source": [
    "### Example\n",
    "\n",
    "Given a biased coin with that comes up heads with a probability ($p=0.4$). If you flip the coin $100$ times what is the probability of observing 42 heads?\n",
    "\n",
    "\n",
    "_Note:_ Popular `pmf`s such that of the binomial distribution are typically included in most popular programming languages and data analysis software.  In the example below, we use `binom` from `scipy.stats` to do our calculation.\n",
    "\n",
    "The probability of observing 42 heads is approximately 0.074207, given $p=0.4$."
   ]
  },
  {
   "cell_type": "code",
   "execution_count": 8,
   "metadata": {
    "slideshow": {
     "slide_type": "-"
    }
   },
   "outputs": [
    {
     "name": "stdout",
     "output_type": "stream",
     "text": [
      "0.07420719403438049\n"
     ]
    }
   ],
   "source": [
    "from scipy.stats import binom\n",
    "n = 100 \n",
    "p = 0.4\n",
    "print(binom.pmf(42, n, p))"
   ]
  },
  {
   "cell_type": "markdown",
   "metadata": {},
   "source": [
    "If we sum up all the probabilities in a pmf, we should get 1.  Our code below does just that.  Notice we get a number very close to 1, but not exactly 1.  This is most likely due to [round-off error](http://mathworld.wolfram.com/RoundoffError.html) when calculating the individual pmfs."
   ]
  },
  {
   "cell_type": "code",
   "execution_count": 9,
   "metadata": {
    "slideshow": {
     "slide_type": "slide"
    }
   },
   "outputs": [
    {
     "data": {
      "text/plain": [
       "0.999999999999973"
      ]
     },
     "execution_count": 9,
     "metadata": {},
     "output_type": "execute_result"
    }
   ],
   "source": [
    "x = range(n)\n",
    "p_x =  [binom.pmf(val, n, p) for val in x]\n",
    "sum(p_x)"
   ]
  },
  {
   "cell_type": "markdown",
   "metadata": {},
   "source": [
    "#### Graphical Representation\n",
    "Since the sample space of X is fairly large, it makes the most sense to display our pmf as a graph.  The code below creates a bar graph for our pmf.  Notice it has a highest probability at 40, but very low probabilities at 20 and 60. \n",
    "\n",
    "The red lines show the probability we calculated earlier for 42 heads.  Notice that even though the probability seemed low at the time, it is actually relatively high compared to the rest of the probabilities in the pmf."
   ]
  },
  {
   "cell_type": "code",
   "execution_count": 10,
   "metadata": {
    "scrolled": true,
    "slideshow": {
     "slide_type": "slide"
    }
   },
   "outputs": [
    {
     "data": {
      "text/plain": [
       "<matplotlib.lines.Line2D at 0x1eb8bc89ba8>"
      ]
     },
     "execution_count": 10,
     "metadata": {},
     "output_type": "execute_result"
    },
    {
     "data": {
      "image/png": "[encoded data removed]",
      "text/plain": [
       "<Figure size 720x360 with 1 Axes>"
      ]
     },
     "metadata": {
      "needs_background": "light"
     },
     "output_type": "display_data"
    }
   ],
   "source": [
    "plt.figure(figsize=(10, 5))\n",
    "plt.bar(x, p_x ,  color = \"#3498db\", alpha=0.4)\n",
    "plt.xlabel('Number of Heads')\n",
    "plt.ylabel('Probability given p=0.4')\n",
    "plt.axvline(42, color = 'r', alpha=0.4)\n",
    "plt.axhline(binom.pmf(42, n, p), color = 'r', alpha=0.4)"
   ]
  },
  {
   "cell_type": "markdown",
   "metadata": {
    "slideshow": {
     "slide_type": "slide"
    }
   },
   "source": [
    "### The Number of Trials and the Single Event Probability\n",
    "\n",
    "Changing the value of $n$ and/or the value of $p$ yields different probability distribution. For example if we change $p$ to `0.5`, we expect that after 100 coin tosses,  ~50 will be heads. The probabilities of seeing  `x=42` is different in this new distribution, it is much lower, both in value and relative to the other probabilities.\n"
   ]
  },
  {
   "cell_type": "code",
   "execution_count": 11,
   "metadata": {
    "slideshow": {
     "slide_type": "slide"
    }
   },
   "outputs": [
    {
     "data": {
      "text/plain": [
       "<matplotlib.lines.Line2D at 0x1eb8ce83ef0>"
      ]
     },
     "execution_count": 11,
     "metadata": {},
     "output_type": "execute_result"
    },
    {
     "data": {
      "image/png": "[encoded data removed]",
      "text/plain": [
       "<Figure size 720x360 with 1 Axes>"
      ]
     },
     "metadata": {
      "needs_background": "light"
     },
     "output_type": "display_data"
    }
   ],
   "source": [
    "n = 100 \n",
    "p = 0.5\n",
    "x = range(n)\n",
    "p_x =  [binom.pmf(val, n, p) for val in x]\n",
    "plt.figure(figsize=(10, 5))\n",
    "plt.bar(x, p_x ,  color = \"#3498db\", )\n",
    "plt.axvline(42, color = 'r', alpha=0.4)\n",
    "plt.axhline(binom.pmf(42, n, p), color = 'r', alpha=0.4)"
   ]
  },
  {
   "cell_type": "markdown",
   "metadata": {
    "slideshow": {
     "slide_type": "slide"
    }
   },
   "source": [
    "### Parameterizing Probability Distributions\n",
    "\n",
    "Binomial distributions parameterized with different values of $n$ and $p$ will produce different `pmf`s. As such, when describing a `pmf,` it is important to describe its `parameters`. Modifying these parameters results in different probability distributions\n",
    "  "
   ]
  },
  {
   "cell_type": "markdown",
   "metadata": {
    "slideshow": {
     "slide_type": "slide"
    }
   },
   "source": [
    "### Summary: `X`, `n`, `p` and the `pmf` \n",
    "The number of observed successes is said to be a random variable $X$,  distributed as a binomial distribution. \n",
    "\n",
    "We write the above statment as: \n",
    "$$ \n",
    "X \\sim Binomial(n,p)\n",
    "$$\n",
    "\n",
    "This simply means that: \n",
    "\n",
    "  - The random variable $X$ takes on values in the sample space describes as a binomial distribution\n",
    "  - The sample space here is countably finite and range from $0$ to $n$\n",
    "  - The parameters of the Binomial probability distributions are $n$, $p$"
   ]
  },
  {
   "cell_type": "code",
   "execution_count": 12,
   "metadata": {
    "slideshow": {
     "slide_type": "slide"
    }
   },
   "outputs": [
    {
     "data": {
      "text/plain": [
       "Text(0, 0.5, 'Probabilities')"
      ]
     },
     "execution_count": 12,
     "metadata": {},
     "output_type": "execute_result"
    },
    {
     "data": {
      "image/png": "[encoded data removed]",
      "text/plain": [
       "<Figure size 720x360 with 1 Axes>"
      ]
     },
     "metadata": {
      "needs_background": "light"
     },
     "output_type": "display_data"
    }
   ],
   "source": [
    "n = 100\n",
    "x = range(n)\n",
    "\n",
    "p_x_1 =  [binom.pmf(val, n, 0.5) for val in x]\n",
    "p_x_2 =  [binom.pmf(val, n, 0.09) for val in x]\n",
    "plt.figure(figsize=(10, 5))\n",
    "plt.bar(x, p_x_1 ,  color = \"#3498db\")\n",
    "plt.bar(x, p_x_2 ,  color = \"#f44242\")\n",
    "\n",
    "plt.xlabel('Red: p=0.5, n=100      Blue: p=0.9, n=100')\n",
    "plt.ylabel('Probabilities')"
   ]
  },
  {
   "cell_type": "markdown",
   "metadata": {
    "slideshow": {
     "slide_type": "slide"
    }
   },
   "source": [
    "# The Normal distribution\n",
    "\n",
    "The `normal` or `Gaussian` distribution is a continuous probability distribution.  It is used to model numerous real-world phenomena such as the heights of males in a population, errors in instrumentation, duration of cab rides.\n",
    "Because so many of these phenomena can be modeled or *at least approximated* using normal distributions, many statistical tests assume distributions of your data are normal.\n",
    "What we mean by modeling a problem by a Gaussian is to find the parameters that we can use to build the Gaussian distribution that best explains our data.\n"
   ]
  },
  {
   "cell_type": "markdown",
   "metadata": {
    "slideshow": {
     "slide_type": "slide"
    }
   },
   "source": [
    "### Properties of the Normal Distribution\n",
    "\n",
    "The Gaussian curve is generally bell-shaped and symmetrical.  All curves have the same general shape, but their center depends on the **mean** of the distribution and their spread depends on it's **standard deviation**.  Therefore, the `parameters` for a Normal are its mean($\\mu$) and standard deviation($\\sigma$).  The standard deviation can also be referred to as scale, in addition to spread.\n",
    "\n",
    "We write a random variable distributed according to a `Normal` with paramters $\\mu$ and $\\sigma$ as:\n",
    "$$\n",
    "X \\sim \\mathcal{N} (\\mu,\\sigma)\n",
    "$$\n",
    "\n",
    "Remember that for continuous distributions, the probability distribution is typically represented as a continuous curve because it can usually take values in all the range.\n",
    "\n",
    "Below is an example of a Normal Distribution with $\\mu$ = 0 and $\\sigma$ = 1.  This is also known as the Standard Normal Distribution."
   ]
  },
  {
   "cell_type": "code",
   "execution_count": 13,
   "metadata": {
    "slideshow": {
     "slide_type": "slide"
    }
   },
   "outputs": [
    {
     "data": {
      "text/plain": [
       "[<matplotlib.lines.Line2D at 0x1eb8d2122e8>]"
      ]
     },
     "execution_count": 13,
     "metadata": {},
     "output_type": "execute_result"
    },
    {
     "data": {
      "image/png": "[encoded data removed]",
      "text/plain": [
       "<Figure size 720x360 with 1 Axes>"
      ]
     },
     "metadata": {
      "needs_background": "light"
     },
     "output_type": "display_data"
    }
   ],
   "source": [
    "x = np.arange(-3, 3, 0.05)\n",
    "p_x = [norm.pdf(val, 0, 1) for val in x]\n",
    "\n",
    "plt.figure(figsize=(10, 5))\n",
    "plt.plot(x, p_x)"
   ]
  },
  {
   "cell_type": "markdown",
   "metadata": {
    "slideshow": {
     "slide_type": "slide"
    }
   },
   "source": [
    "### Example\n",
    "\n",
    "The two distributions below have the following parameters:\n",
    "\n",
    "  Blue: ($\\mu = 0 $, $\\sigma = 1$) \n",
    "  Red: ($\\mu = 2 $, $\\sigma = 5$) \n",
    "\n",
    "\n",
    "Note that the distributions have different shapes.  The red distribution is centered around 2 instead of 0, so it's shifted to the right.  It is also much more spread out because it's standard deviation is 5 instead of 1.  It covers a much wider range of numbers than the blue one does.  Notice that this results in a decrease of the probabilities."
   ]
  },
  {
   "cell_type": "code",
   "execution_count": 14,
   "metadata": {
    "slideshow": {
     "slide_type": "slide"
    }
   },
   "outputs": [
    {
     "data": {
      "text/plain": [
       "<matplotlib.legend.Legend at 0x1eb8d273ef0>"
      ]
     },
     "execution_count": 14,
     "metadata": {},
     "output_type": "execute_result"
    },
    {
     "data": {
      "image/png": "[encoded data removed]",
      "text/plain": [
       "<Figure size 720x360 with 1 Axes>"
      ]
     },
     "metadata": {
      "needs_background": "light"
     },
     "output_type": "display_data"
    }
   ],
   "source": [
    "plt.figure(figsize=(10, 5))\n",
    "x = np.arange(-3.5, 3.5, 0.05)\n",
    "p_x = [norm.pdf(val, 0, 1) for val in x]\n",
    "plt.plot(x, p_x, label=\"$\\mu = 0 $ and $\\sigma = 1$\")\n",
    "x = np.arange(-13, 17, 0.05)\n",
    "p_x = [norm.pdf(val, 2, 5) for val in x]\n",
    "plt.plot(x, p_x, label=\"$\\mu = 2 $ and $\\sigma = 5$\", color='r')\n",
    "plt.legend()"
   ]
  },
  {
   "cell_type": "markdown",
   "metadata": {
    "slideshow": {
     "slide_type": "slide"
    }
   },
   "source": [
    "### Location and Range of High-Probability Values\n",
    "\n",
    "Let's talk more about the two curves above.\n",
    "For the blue curve ($\\mu = 0$ and $ \\sigma = 1$), the range of values with high probabilities is small.\n",
    "Whereas for the red curve ($\\mu = 2$ and $\\sigma = 5$), the range of values with low probabilities is large.\n",
    "This makes sense because either way, the probabilities have to add up to 1.  If there is a smaller range of numbers, they naturally have higher probabilities.\n",
    "\n",
    "Think of this in terms of the probability distribution of the biased die from the binomial example.  If you were to draw random value from the blue distribution, what number would you expect? Hopefully, you're guessing 0, or numbers close to 0, since that is the center of the distribution, with very little spread.\n",
    "What do you think the range of values from the `red` probability distribution would look like?"
   ]
  },
  {
   "cell_type": "markdown",
   "metadata": {
    "slideshow": {
     "slide_type": "slide"
    }
   },
   "source": [
    "### More Examples\n",
    "<img src=\"mean_var_diffs.png\" alt=\"drawing\" style=\"float: right; width:500px; border: 20px solid white\"/>\n",
    "\n",
    "\n",
    "In the image on the right, take note of several things:\n",
    "\n",
    "* The mean moves the center of the curve left or right along the x axis \n",
    "\n",
    "\n",
    "* The standard deviation affects it's spread and subsequently it's probabilities\n",
    "    - Higher standard deviation = wider spread and smaller probabilities\n",
    "    - Lower standard deviation = tighter spread and higher probabilities\n",
    " \n",
    " \n",
    "* The curves seem to flatten out along zero at either end.  They are actually slightly larger than zero because while **highly** unlikely, those values could still, in theory, occur.\n",
    "\n"
   ]
  },
  {
   "cell_type": "markdown",
   "metadata": {
    "slideshow": {
     "slide_type": "slide"
    }
   },
   "source": [
    "### Data in the distribution\n",
    "\n",
    "In the normal distribution, the area with the highest density lies close to the mean.  Thus, when we sample from a normal, the bulk of the observations generated from a normal distribution lie near the mean.  Specifically, in the normal, the mode, the mean and the median are represented by the same value.\n",
    "\n",
    "In the code below, we are randomly selecting a numbers from the normal distribution with a mean of 70 and standard deviation of 4.  By default, it will return a single value, but the 5 in the second example indicates we want 5 values returned.  Notice that all these values are fairly close to 70.\n"
   ]
  },
  {
   "cell_type": "code",
   "execution_count": 15,
   "metadata": {
    "slideshow": {
     "slide_type": "slide"
    }
   },
   "outputs": [
    {
     "name": "stdout",
     "output_type": "stream",
     "text": [
      "The height of a randomly selected male is: 69.87895333916919\n",
      "The heights of a randomly selected sample of 5 males is: [70.70195516 72.69276202 68.3871275  72.86465581 70.2343726 ]\n"
     ]
    }
   ],
   "source": [
    "#  Avg adult male heights are on average 70 inches  (5'10) with a standard deviation of 4 inches.\n",
    "# according to http://www.usablestats.com\n",
    "\n",
    "print(\"The height of a randomly selected male is: \", end=\"\")\n",
    "print(np.random.normal(70, 4))\n",
    "\n",
    "print(\"The heights of a randomly selected sample of 5 males is: \", end=\"\")\n",
    "print(np.random.normal(70, 4, 5))"
   ]
  },
  {
   "cell_type": "markdown",
   "metadata": {
    "slideshow": {
     "slide_type": "slide"
    }
   },
   "source": [
    "### Properties of the Normal Distribution\n",
    "\n",
    "The probability density function for a random variable $X \\sim \\mathcal{N} (\\mu,\\sigma)$ is:\n",
    "$$ \n",
    "    p(x) = \\frac{1}{\\sqrt{2\\pi\\sigma^2}} e^{\\frac{(x-u)^2}{2\\sigma^2}}\n",
    "$$\n",
    "\n",
    "Since the sample space is uncountably infinite, an event is actually an open set. We can't define an event like $P[X = x]$ in continuous setting, as such events are not open set. Therefore, instead of the `pmf`, continuous random variables have a `pdf`\n",
    "  \n",
    "### `pdf` versus `pmf`\n",
    "\n",
    "A `pdf` is conceptually similar to a `pmf` but instead of giving you a probability, it tells you the density around a particular point. You can think of it as mass (as in `pmf`) normalized by a small area. For example, in the  $x \\sim \\mathcal{N}(0, 1)$ probability density around $0$ is much higher than the density around $-2.5$\n",
    "\n",
    "Since $X$ is continuous, the `pdf` is also continuous.  Furthermore, the total area under the `pdf` curve sums to 1, just like the pmf.  \n",
    "\n",
    "**Remember**: `pdf` is for continuous funtions and `pmf` is for discrete functions. \n"
   ]
  },
  {
   "cell_type": "markdown",
   "metadata": {},
   "source": [
    "### 68-95-99.7 Rule\n",
    "<img src=\"68_95_99_rule.jpg\" alt=\"drawing\" style=\"float: left; width:400px;\"/>\n",
    "\n",
    "Another defining property of Normal Distributions is the way the data is distributed around the mean.  It's not only symmetric.  About 68% of the data will always fall within one standard deviation of the mean, 95% within 2 standard deviations and 99.7% within 3 standard deviations.  This is why the only 2 parameters we need to define a Normal Distribution are it's mean and standard deviation.\n",
    "\n",
    "\n",
    "\n",
    "*Below we use python to calculate and graph each section separately.*"
   ]
  },
  {
   "cell_type": "markdown",
   "metadata": {},
   "source": [
    "### Density within One Standard Deviation From the Mean\n",
    "The code below outputs a model highlighting the area of the curve within one standard deviation of the mean."
   ]
  },
  {
   "cell_type": "code",
   "execution_count": 16,
   "metadata": {
    "slideshow": {
     "slide_type": "-"
    }
   },
   "outputs": [
    {
     "data": {
      "text/plain": [
       "Text(2.3, 0.03, '13%')"
      ]
     },
     "execution_count": 16,
     "metadata": {},
     "output_type": "execute_result"
    },
    {
     "data": {
      "image/png": "[encoded data removed]",
      "text/plain": [
       "<Figure size 720x288 with 1 Axes>"
      ]
     },
     "metadata": {
      "needs_background": "light"
     },
     "output_type": "display_data"
    }
   ],
   "source": [
    "# We manually implement the CDF\n",
    "def computePDF_normal (x, mu, sigma):\n",
    "     return 1.0/(sigma * np.sqrt(2 * np.pi)) * np.exp( - (x - mu)**2.0 / (2 * sigma**2))\n",
    "f, (ax1) = plt.subplots(1)\n",
    "f.set_figheight(4)\n",
    "f.set_figwidth(10)\n",
    "x_values = np.array(np.arange(-6.5,2,0.01))\n",
    "ax1.fill_between(x=x_values, y1=computePDF_normal(x_values, 0, 2) ,facecolor=\"blue\",alpha=0.35)\n",
    "x_values = np.arange(2,6.5,0.01)\n",
    "ax1.fill_between(x=x_values, y1= computePDF_normal(x_values, 0, 2),facecolor=\"blue\",alpha=0.35)\n",
    "x_values = np.arange(-2,2,0.01)\n",
    "ax1.fill_between(x=x_values, y1= computePDF_normal(x_values, 0, 2),facecolor='red',alpha=0.35)\n",
    "ax1.text(x=-2.8, y=0.03, s= \"13%\")\n",
    "ax1.text(x=-0.1, y=0.1, s= \"68%\")\n",
    "ax1.text(x=2.3, y=0.03, s=\"13%\")"
   ]
  },
  {
   "cell_type": "markdown",
   "metadata": {},
   "source": [
    "### Density within Two Standard Deviations From the Mean\n",
    "The code below outputs a model highlighting the area of the curve within 2 standard deviations of the mean."
   ]
  },
  {
   "cell_type": "code",
   "execution_count": 17,
   "metadata": {
    "slideshow": {
     "slide_type": "-"
    }
   },
   "outputs": [
    {
     "data": {
      "text/plain": [
       "Text(4.8, 0.03, '2.5%')"
      ]
     },
     "execution_count": 17,
     "metadata": {},
     "output_type": "execute_result"
    },
    {
     "data": {
      "image/png": "[encoded data removed]",
      "text/plain": [
       "<Figure size 720x288 with 1 Axes>"
      ]
     },
     "metadata": {
      "needs_background": "light"
     },
     "output_type": "display_data"
    }
   ],
   "source": [
    "f, (ax2) = plt.subplots(1)\n",
    "f.set_figheight(4)\n",
    "f.set_figwidth(10)\n",
    "\n",
    "x_values = np.array(np.arange(-6.5,4,0.01))\n",
    "#print computePDF(x_values, 0, 0.1)\n",
    "ax2.fill_between(x=x_values, y1=computePDF_normal(x_values, 0, 2) ,facecolor=\"blue\",alpha=0.35)\n",
    "x_values = np.arange(4,6.5,0.01)\n",
    "ax2.fill_between(x=x_values, y1= computePDF_normal(x_values, 0, 2),facecolor=\"blue\",alpha=0.35)\n",
    "x_values = np.arange(-4,4,0.01)\n",
    "ax2.fill_between(x=x_values, y1= computePDF_normal(x_values, 0, 2),facecolor='red',alpha=0.35)\n",
    "\n",
    "ax2.text(x=-5, y=0.03, s= \"2.5%\")\n",
    "ax2.text(x=-0.1, y=0.1, s= \"95%\")\n",
    "ax2.text(x=4.8, y=0.03, s=\"2.5%\")"
   ]
  },
  {
   "cell_type": "markdown",
   "metadata": {},
   "source": [
    "### Density within Three Standard Deviations From the Mean\n",
    "The code below outputs a model highlighting the area of the curve within 3 standard deviations of the mean."
   ]
  },
  {
   "cell_type": "code",
   "execution_count": 18,
   "metadata": {
    "slideshow": {
     "slide_type": "-"
    }
   },
   "outputs": [
    {
     "data": {
      "text/plain": [
       "Text(6.1, 0.03, '0.15%')"
      ]
     },
     "execution_count": 18,
     "metadata": {},
     "output_type": "execute_result"
    },
    {
     "data": {
      "image/png": "[encoded data removed]",
      "text/plain": [
       "<Figure size 720x288 with 1 Axes>"
      ]
     },
     "metadata": {
      "needs_background": "light"
     },
     "output_type": "display_data"
    }
   ],
   "source": [
    "f, (ax3) = plt.subplots(1)\n",
    "f.set_figheight(4)\n",
    "f.set_figwidth(10)\n",
    "\n",
    "x_values = np.array(np.arange(-6.5,6,0.01))\n",
    "ax3.fill_between(x=x_values, y1=computePDF_normal(x_values, 0, 2) ,facecolor=\"blue\",alpha=0.35)\n",
    "x_values = np.arange(6,6.5,0.01)\n",
    "ax3.fill_between(x=x_values, y1= computePDF_normal(x_values, 0, 2),facecolor=\"blue\",alpha=0.35)\n",
    "x_values = np.arange(-6,6,0.01)\n",
    "ax3.fill_between(x=x_values, y1= computePDF_normal(x_values, 0, 2),facecolor='red',alpha=0.35)\n",
    "ax3.text(x=-6.8, y=0.03, s= \"0.15%\")\n",
    "ax3.text(x=-0.1, y=0.1, s= \"99.7%\")\n",
    "ax3.text(x=6.1, y=0.03, s=\"0.15%\")"
   ]
  },
  {
   "cell_type": "markdown",
   "metadata": {
    "slideshow": {
     "slide_type": "slide"
    }
   },
   "source": [
    "### Illustrating density\n",
    "\n",
    "One of the simplest ways to illustrate density is through a histogram.\n",
    "If we take a sample of $1000$ values from a standard normal distribution $\\mathcal{N}(\\mu=0, \\sigma=1)$ and separate them into 20 bins, we can plot them in a histogram. The $y-$axis denotes the counts for each bin and the $x-$axis denotes the range of the bins. Notice that the highest frequencies are around our mean, 0."
   ]
  },
  {
   "cell_type": "code",
   "execution_count": 19,
   "metadata": {
    "slideshow": {
     "slide_type": "slide"
    }
   },
   "outputs": [
    {
     "data": {
      "image/png": "[encoded data removed]",
      "text/plain": [
       "<Figure size 720x576 with 1 Axes>"
      ]
     },
     "metadata": {
      "needs_background": "light"
     },
     "output_type": "display_data"
    }
   ],
   "source": [
    "np.random.seed(225)\n",
    "gaussianSamples = np.random.normal(0, 1, 1000)\n",
    "#print(gaussianSamples[0:10])\n",
    "plt.figure(figsize=(10, 8))\n",
    "_ = plt.hist(gaussianSamples, bins = 20, edgecolor=\"k\", linewidth=2, alpha=0.4)"
   ]
  },
  {
   "cell_type": "markdown",
   "metadata": {
    "collapsed": true,
    "slideshow": {
     "slide_type": "slide"
    }
   },
   "source": [
    "## Theoretical vs. Empirical Distribution\n",
    "\n",
    "Below we plot the pdf of $\\mathcal{N}(\\mu=0, \\sigma=1)$ on top of the histogram to see how well it matches the sequence data. \n",
    "Notice that the curve does not match the top of the histogram exactly.\n",
    "This is due to several things:\n",
    "    \n",
    "   1) This histogram represents just one random sample of 1000 data points, whereas the normal curve represents what the data set would theoretically look like.  As you repeat the random sampling of 1000 data points, you will get some histograms that fit better to the curve and some that fit worse.\n",
    "   \n",
    "   2) The curve is essentially \"smoothing\" out the histogram.  The area of the rectangles of the histogram and the area under the curve are both still 1."
   ]
  },
  {
   "cell_type": "code",
   "execution_count": 20,
   "metadata": {
    "slideshow": {
     "slide_type": "slide"
    }
   },
   "outputs": [
    {
     "data": {
      "text/plain": [
       "[<matplotlib.lines.Line2D at 0x1eb8d4d5208>]"
      ]
     },
     "execution_count": 20,
     "metadata": {},
     "output_type": "execute_result"
    },
    {
     "data": {
      "image/png": "[encoded data removed]",
      "text/plain": [
       "<Figure size 720x360 with 1 Axes>"
      ]
     },
     "metadata": {
      "needs_background": "light"
     },
     "output_type": "display_data"
    }
   ],
   "source": [
    "plt.figure(figsize=(10, 5))\n",
    "bins = np.linspace(-5,5, 100)\n",
    "probabilityForgaussianSamples = [ computePDF_normal(x, 0, 1) for x in bins]\n",
    "\n",
    "_ = plt.hist(gaussianSamples, bins = 20, edgecolor=\"k\", color='#80d4ff', linewidth=2, alpha=0.4, density=True)\n",
    "plt.plot(bins, probabilityForgaussianSamples, color=\"k\")"
   ]
  },
  {
   "cell_type": "markdown",
   "metadata": {
    "slideshow": {
     "slide_type": "slide"
    }
   },
   "source": [
    "### Probability Density Versus Probability Mass\n",
    "\n",
    "Calculating probability **density** and probability **mass** may sounds similar, but are two different things.  Remember that pmfs come from discrete variables and pdfs come from continuous.\n",
    "\n",
    "Think about the following situations:\n",
    "  \n",
    "  1) The probability of a person choosing 7 given all the **integers** between 1 and 10.\n",
    "  \n",
    "  2) The relative likelihood of a person choosing 7 over other numbers given all the **real numbers** between 1 and 10.\n",
    "\n",
    "The first situation mimicks a **probability mass** while the second mimicks a **probability density**.\n"
   ]
  },
  {
   "cell_type": "code",
   "execution_count": 21,
   "metadata": {
    "slideshow": {
     "slide_type": "slide"
    }
   },
   "outputs": [
    {
     "data": {
      "text/plain": [
       "0.3989422804014327"
      ]
     },
     "execution_count": 21,
     "metadata": {},
     "output_type": "execute_result"
    }
   ],
   "source": [
    "#Here we calculate the probability density at 0 for N(0,1)\n",
    "from scipy.stats import norm\n",
    "mu = 0\n",
    "sigma = 1\n",
    "norm.pdf(0, mu, sigma)"
   ]
  },
  {
   "cell_type": "markdown",
   "metadata": {},
   "source": [
    "### Adding Densities\n",
    "In the code below we calculate the densities for the values in `some_values`.  Notice that when we add them up, it gives us a value GREATER than 1.  This is because these are _densities_, not _masses_.  Meaning they represent _relative likelihoods_, not actual _probabilities_."
   ]
  },
  {
   "cell_type": "code",
   "execution_count": 22,
   "metadata": {
    "slideshow": {
     "slide_type": "slide"
    }
   },
   "outputs": [
    {
     "name": "stdout",
     "output_type": "stream",
     "text": [
      "For mu=0 and sigma=1.000000:\n",
      "\tThe probability density of x= -2.000000 is 0.120985 \n",
      "\tThe probability density of x= -1.000000 is 0.176033 \n",
      "\tThe probability density of x= -0.500000 is 0.193334 \n",
      "\tThe probability density of x= -0.200000 is 0.198476 \n",
      "\tThe probability density of x= 0.000000 is 0.199471 \n",
      "\tThe probability density of x= 1.000000 is 0.176033 \n",
      "\tThe probability density of x= 0.000000 is 0.199471 \n",
      "\tThe probability density of x= 0.100000 is 0.199222 \n",
      "\tThe probability density of x= 0.200000 is 0.198476 \n",
      "\tThe probability density of x= 0.500000 is 0.193334 \n",
      "\tThe probability density of x= 1.000000 is 0.176033 \n",
      "\tThe probability density of x= 2.000000 is 0.120985 \n"
     ]
    }
   ],
   "source": [
    "some_vals = [-2, -1, -0.5, -0.2, -0,1, 0, 0.1, 0.2, 0.5, 1, 2 ]\n",
    "\n",
    "mu = 0\n",
    "sigma = 1\n",
    "print(\"For mu=%d and sigma=%f:\" % (mu, sigma))\n",
    "for val in some_vals:\n",
    "    print(\"\\tThe probability density of x= %f is %f \" % \n",
    "          (val, computePDF_normal(val, 0, 2)))"
   ]
  },
  {
   "cell_type": "code",
   "execution_count": 33,
   "metadata": {
    "slideshow": {
     "slide_type": "slide"
    }
   },
   "outputs": [
    {
     "name": "stdout",
     "output_type": "stream",
     "text": [
      "The sum of the probability densities computed above is: \t3.5149472563431945\n"
     ]
    }
   ],
   "source": [
    "print(\"The sum of the probability densities computed above is: \", end=\"\\t\")\n",
    "print(sum([norm.pdf(x, 0, 1) for x in some_vals]))"
   ]
  },
  {
   "cell_type": "markdown",
   "metadata": {
    "collapsed": true,
    "slideshow": {
     "slide_type": "slide"
    }
   },
   "source": [
    "### Adding Densities cont.\n",
    "\n",
    "If you were to compute the probability of a single value of a continuous random variable it would be VERY small.  Recall that earlier we said the **relative likelihood** of a person choosing 7 over other numbers given all the **real numbers** between 1 and 10.  If we were to take that actual probability, it would be very, very small (basically zero) which is why we look at the relative likelihood instead.  \n",
    "\n",
    "Therefore, pdf instead computes the probability of small interval. (ex. $x-0.01 < x <  x+0.01$) If we normalize the `cdf` of `0` by multiplying by the size of the interval it represents, the value becomes 0.003515 (shown below), which makes a lot more sense."
   ]
  },
  {
   "cell_type": "code",
   "execution_count": 31,
   "metadata": {
    "slideshow": {
     "slide_type": "slide"
    }
   },
   "outputs": [
    {
     "name": "stdout",
     "output_type": "stream",
     "text": [
      "The sum of the probability densities normalized above is: \t0.0035149472563431945\n"
     ]
    }
   ],
   "source": [
    "print(\"The sum of the probability densities normalized above is: \", end=\"\\t\")\n",
    "print(sum([computePDF_normal(x, 0, 1) * 0.001 for x in some_vals]))"
   ]
  },
  {
   "cell_type": "markdown",
   "metadata": {
    "slideshow": {
     "slide_type": "slide"
    }
   },
   "source": [
    "### Summing Probabilities to 1\n",
    "\n",
    "If we now take this strategy and apply it to the range -2 to 2.  The sum of these probabilities is 0.9544997, which is what we expect for data within 2 standard deviations of the mean."
   ]
  },
  {
   "cell_type": "code",
   "execution_count": 38,
   "metadata": {
    "slideshow": {
     "slide_type": "slide"
    }
   },
   "outputs": [
    {
     "name": "stdout",
     "output_type": "stream",
     "text": [
      "The sum of the normalized probability densities between -2 and 2 is: 0.9544997181067353\t"
     ]
    }
   ],
   "source": [
    "norm_cdf_sum = 0\n",
    "for x in np.arange(-2, 2, 0.001):\n",
    "    norm_cdf_sum +=  computePDF_normal(x, 0, 1) * 0.001\n",
    "\n",
    "print(\"The sum of the normalized probability densities between -2 and 2 is: %s\" % norm_cdf_sum, end=\"\\t\")"
   ]
  },
  {
   "cell_type": "markdown",
   "metadata": {},
   "source": [
    "<img src=\"norm_0_2.png\" alt=\"drawing\" style=\"width:500px;\"/>"
   ]
  }
 ],
 "metadata": {
  "hide_input": false,
  "kernelspec": {
   "display_name": "Python 3",
   "language": "python",
   "name": "python3"
  },
  "language_info": {
   "codemirror_mode": {
    "name": "ipython",
    "version": 3
   },
   "file_extension": ".py",
   "mimetype": "text/x-python",
   "name": "python",
   "nbconvert_exporter": "python",
   "pygments_lexer": "ipython3",
   "version": "3.7.1"
  }
 },
 "nbformat": 4,
 "nbformat_minor": 2
}
