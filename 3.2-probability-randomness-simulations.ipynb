{
 "cells": [
  {
   "cell_type": "code",
   "execution_count": 77,
   "metadata": {
    "slideshow": {
     "slide_type": "skip"
    }
   },
   "outputs": [],
   "source": [
    "import numpy as np\n",
    "import matplotlib.pyplot as plt\n",
    "import random\n",
    "\n",
    "random.seed(123)\n",
    "\n",
    "%matplotlib inline"
   ]
  },
  {
   "cell_type": "markdown",
   "metadata": {
    "slideshow": {
     "slide_type": "slide"
    }
   },
   "source": [
    "# What Place Does Probability Occupy in Data Science\n",
    "\n",
    "    A data scientist is someone who knows more statistics than a computer scientist and more computer science than a statistician. \n",
    "                - Joshua Blumenstock\n",
    "---\n",
    "\n",
    "## Probability Examples in Data Science: A/B Testing\n",
    "\n",
    "   One example of how data scientists use probability is in A/B testing. A/B testing is a simple experiment that examines two versions of something, to see which version of it performs better. This can be used with anything, which color of a t-shirt sells better, which style of ad leads to more purchases, or what version of a website translates to more traffic. Because a lot of data is needed for the results to be meaningful, A/B testing is mainly used in online applications to optimize website and online ad performance. The way that A/B testing works is you show show version A of an ad to half of the people, version B of the ad to the other half of the people, and see which version of the ad has a higher probability of getting people to click on it.\n",
    "   \n",
    "## Probability Examples in Data Science: Simulations\n",
    "\n",
    "   If you don't have data you can simulate the problem to generate data and answer questions. If there are two types of ads on YouTube, skippable ads which are cheaper and unskippable ads which are more expensive, and we want to know which one is the better purchase we can create a simulation to solve this problem. For each type of ad there is a probability that a user will click on it. After the ad has been clicked there is some probability that the user will make a purchase. If we have some rough idea of the probabilities that users will click on each type of add, and then make purchases, and a rough idea of how much people spend when they make a purchase, we can create a simulation of the situation to generate data that can be used to evaluate the best type of ad for the money.\n",
    "    \n",
    "    \n",
    "## Definitions\n",
    "\n",
    "**Experiment**: An experiment is a procedure carried out to support, refute, or validate a hypothesis. \n",
    "    - Wikipedia\n",
    "\n",
    "A/B testing is an example of an experiment.  \n",
    "    \n",
    "**Sample Space**: In probability theory the sample space of an experiment or random trial is the set of all possible outcomes or results of that experiment. A sample space is usually denoted using set notation, and the possible ordered outcomes are listed as elements in the set. It is common to refer to a sample space by the labels S, Ω, or U for universal set. \n",
    "    - Wikipedia \n",
    "\n",
    "For a coin flip the sample space is {H,T} where H is heads, and T is tails. For a roll of a die the sample space is (1,2,3,4,5,6). If we flip two coins then the sample space is {HH, HT, TH, TT}. If we have a bag of 10 skittles with 3 yellow skittles, 2 purple skittles, 4 red skittles, and 1 green skittle, then we would have a sample space of {y, p, r, g}. These are all examples of discrete sample spaces. A discrete sample space means that there are a finite amount of outcomes of an experiment or random trial. We can also have a continuous sample space. For example the sample space of the heights of basketball players is continuous. There is a lower and upper limit to the possible heights, but in between those values thare are an infinte number of possible heights. \n",
    "\n",
    "**Event**: In probability theory, an event is a set of outcomes of an experiment(a subset of the sample space) to which a probability is assigned. A single outcome may be an element of many different events, and different events in an experiment are usually not equally likely, since they may include very different groups of outcomes. An event defines a complementary event, namely the complementary set (the event not occuring), and together these define a Bernoulli trial: did the event occur or not? \n",
    "    - Wikipedia\n",
    "\n",
    "An event is usually denoted as E. Following the examples of sample spaces above, for a coin flip heads would be a possible event. For two coins heads,tails would be an event. Picking a yellow skittle would be an event. A basketball player who is 6' tall would be an event. \n",
    "\n",
    "**Probability**: Probability is the measure of the likelihood that an event will occur. \n",
    "    - Wikipedia\n",
    "    \n",
    "The probability of all the events must sum to one. If the probability is 1 it is a certainty, if the probability is 0 then the event cannot occur. \n",
    "\n",
    "To calculate the probability of an event in a discrete sample space, we count the number of times the event could occur and divide by the total number of events in the sample space. For example, lets say we have a bag of 10 skittles with 3 yellow skittles, 2 purple skittles, 4 red skittles, and 1 green skittle, and we want to know the probability of picking a purple skittle then we can count the number of purple skittles, and divide by the total number of skittles in the smaple space to get 2/10 or a 20% probability of picking a purple skittle. \n",
    "\n",
    "For continuous sample sets it starts to get more complicated because we have an infinte amount of possible events in the sample space. The probability of a basketball player being exactly 6' tall is almost zero because there are an infinite amount of possible heights that the player could be. So instead we ask what is the probability that the basketball player is 6' with a tolerance of .1 feet? To calculate the probability we need to have data about NBA players heights so we can get probability density functon. Once we have a probability density function (pdf) we can integrate the pdf from 5.9' to 6.1'.  \n",
    "\n",
    "$$P(X=6)\\sim P[5.9<=x<=6.1]=\\int_{5.9}^{6.1}f(x)dx$$\n",
    "\n",
    "**Long Run Frequencies of an Event**: If the probability of an event occuring is 1 in 6 that doesn't necessarily mean that if you run the experiment 6 times you are gauranteed to get that result. It is possible to roll a die 6 times and never roll a 1, but if you continue to roll that die 1000 or 10000 more times eventually you will see that you rolled a 1 1/6th of the time. When we talk about probability we are talking about the long run frequency of an event. \n",
    "\n",
    "## Python's Random Module\n",
    "\n",
    "Python offers a pseudorandom module that can be used for all practical purposes, although it is not advisable to use the random module for security purposes. If you are generating random values for an example, and you want your code to always return the same random values, even if it is run on other machines, then you need to add a random.seed() (e.g. random.seed(123)). That way the random module will use that number to generate the random values, and your code will always return the same values. \n"
   ]
  },
  {
   "cell_type": "code",
   "execution_count": 54,
   "metadata": {
    "slideshow": {
     "slide_type": "slide"
    }
   },
   "outputs": [
    {
     "name": "stdout",
     "output_type": "stream",
     "text": [
      "0.5045016896499576\n",
      "51.59072643396989\n",
      "2\n"
     ]
    }
   ],
   "source": [
    "# you can use random.random() to create a random float between 0 and 1\n",
    "a=random.random()\n",
    "print(a)\n",
    "\n",
    "# if you want a random float that is larger than one you can use random.uniform()\n",
    "b = random.uniform(1,100)\n",
    "print(b)\n",
    "\n",
    "#if you want a random int you can use random.randint()\n",
    "c=random.randint(1,15)\n",
    "print(c)\n",
    "# both the 1 and the 15 are inclusive"
   ]
  },
  {
   "cell_type": "code",
   "execution_count": 55,
   "metadata": {
    "slideshow": {
     "slide_type": "slide"
    }
   },
   "outputs": [
    {
     "data": {
      "text/plain": [
       "'peach'"
      ]
     },
     "execution_count": 55,
     "metadata": {},
     "output_type": "execute_result"
    }
   ],
   "source": [
    "# you can use random.choice() to randomly select an element of a list\n",
    "\n",
    "colors=['red','orange','yellow', 'green','blue','indigo', 'violot', 'peach', 'black', 'white']\n",
    "random.choice(colors)"
   ]
  },
  {
   "cell_type": "code",
   "execution_count": 56,
   "metadata": {
    "slideshow": {
     "slide_type": "slide"
    }
   },
   "outputs": [
    {
     "data": {
      "text/plain": [
       "['blue',\n",
       " 'violot',\n",
       " 'red',\n",
       " 'black',\n",
       " 'peach',\n",
       " 'yellow',\n",
       " 'black',\n",
       " 'orange',\n",
       " 'red',\n",
       " 'green']"
      ]
     },
     "execution_count": 56,
     "metadata": {},
     "output_type": "execute_result"
    }
   ],
   "source": [
    "# if you want more than one random element from the list you can use random.choices()\n",
    "random.choices(colors,k=10) #k is the number of random samples that you want"
   ]
  },
  {
   "cell_type": "code",
   "execution_count": 57,
   "metadata": {
    "slideshow": {
     "slide_type": "slide"
    }
   },
   "outputs": [
    {
     "data": {
      "text/plain": [
       "['orange',\n",
       " 'white',\n",
       " 'red',\n",
       " 'yellow',\n",
       " 'violot',\n",
       " 'indigo',\n",
       " 'indigo',\n",
       " 'yellow',\n",
       " 'violot',\n",
       " 'violot']"
      ]
     },
     "execution_count": 57,
     "metadata": {},
     "output_type": "execute_result"
    }
   ],
   "source": [
    "# you can weight the random choices as well. \n",
    "random.choices(colors,weights=[5,10,20,5,5,15,15,5,6,4],k=10) \n",
    "\n",
    "# In this example the weights list add to 100 for simplicity. The way it works is it adds \n",
    "#up all the all the values in the weights list, and then the probability of each element \n",
    "#is the value of that element/total. So for the color red the weight is 5. 5/100 is 5% so \n",
    "#it has a 5% probability of being selected"
   ]
  },
  {
   "cell_type": "code",
   "execution_count": 58,
   "metadata": {
    "slideshow": {
     "slide_type": "slide"
    }
   },
   "outputs": [
    {
     "data": {
      "text/plain": [
       "['black',\n",
       " 'peach',\n",
       " 'violot',\n",
       " 'indigo',\n",
       " 'yellow',\n",
       " 'blue',\n",
       " 'red',\n",
       " 'white',\n",
       " 'green',\n",
       " 'orange']"
      ]
     },
     "execution_count": 58,
     "metadata": {},
     "output_type": "execute_result"
    }
   ],
   "source": [
    "#random.sample() will take the sampled value out of the list so it cannot be sampled again. \n",
    "random.sample(colors,k=10) "
   ]
  },
  {
   "cell_type": "markdown",
   "metadata": {
    "slideshow": {
     "slide_type": "slide"
    }
   },
   "source": [
    "\n",
    "For practice see if you can create a roulette wheel simulation using the random module. A roulette wheel has 18 red spaces, 18 black spaces, and 2 green spaces where the ball can land. "
   ]
  },
  {
   "cell_type": "code",
   "execution_count": 8,
   "metadata": {
    "slideshow": {
     "slide_type": "slide"
    }
   },
   "outputs": [],
   "source": [
    "## Write your code here. "
   ]
  },
  {
   "cell_type": "markdown",
   "metadata": {
    "slideshow": {
     "slide_type": "slide"
    }
   },
   "source": [
    "\n",
    "We can use the random module and the cumsum() function, which will cumulatively sum a series, to demonstrate how the long run frequency of an event works for rolling a die."
   ]
  },
  {
   "cell_type": "code",
   "execution_count": 78,
   "metadata": {
    "slideshow": {
     "slide_type": "slide"
    }
   },
   "outputs": [
    {
     "name": "stdout",
     "output_type": "stream",
     "text": [
      "------------------------------\n",
      "[0, 0, 0, 0, 1, 0, 1, 0, 1, 0]\n",
      "------------------------------\n",
      "[0, 0, 0, 0, 1, 1, 2, 2, 3, 3]\n",
      "------------------------------\n"
     ]
    }
   ],
   "source": [
    "S=[0,1] # sample space of 0 for tails and 1 for heads \n",
    "flips=random.choices(S,k=1000) \n",
    "cumsumFlips=np.cumsum(flips)\n",
    "print(\"-\"*30)\n",
    "print(flips[0:10]) # print the first 10 flips\n",
    "print(\"-\"*30)\n",
    "print(list(cumsumFlips[0:10])) # print the count of heads in first 10 flips\n",
    "print(\"-\"*30)\n"
   ]
  },
  {
   "cell_type": "code",
   "execution_count": 79,
   "metadata": {
    "slideshow": {
     "slide_type": "slide"
    }
   },
   "outputs": [
    {
     "name": "stdout",
     "output_type": "stream",
     "text": [
      "------------------------------------------------------------\n",
      "[0, 0, 0, 0, 1]\n",
      "------------------------------------------------------------\n",
      "[0, 0, 0, 0, 1]\n",
      "------------------------------------------------------------\n",
      "[0.  0.  0.  0.  0.2]\n",
      "============================================================\n",
      "------------------------------------------------------------\n",
      "[0, 0, 1, 0, 1]\n",
      "------------------------------------------------------------\n",
      "[473, 473, 474, 474, 475]\n",
      "------------------------------------------------------------\n",
      "[0.47537688 0.4748996  0.47542628 0.4749499  0.47547548]\n"
     ]
    }
   ],
   "source": [
    "#if we normalize cumsumFlips by the number of trails we can see what percentage of the flips\n",
    "# have been heads\n",
    "Pheads=cumsumFlips/range(1,len(cumsumFlips)+1)\n",
    "# now lets look at the first 5 flips, and the last 5 flips\n",
    "\n",
    "print(\"-\"*60)\n",
    "print(flips[0:5])\n",
    "print(\"-\"*60)\n",
    "print(list(cumsumFlips[0:5]))\n",
    "print(\"-\"*60)\n",
    "print(Pheads[0:5])\n",
    "\n",
    "print(\"=\"*60)\n",
    "\n",
    "print(\"-\"*60)\n",
    "print(flips[-6:-1])\n",
    "print(\"-\"*60)\n",
    "print(list(cumsumFlips[-6:-1]))\n",
    "print(\"-\"*60)\n",
    "print(Pheads[-6:-1])"
   ]
  },
  {
   "cell_type": "markdown",
   "metadata": {
    "slideshow": {
     "slide_type": "slide"
    }
   },
   "source": [
    "In our first 5 flips we only got a heads %20 percent of the time. We know that the coin is fair because we didn't assign any weights to it, and so there should be a %50 chance of flipping heads. After 1000 flips we flipped 475 headd, or %47 of the time which is much closer to the theoretical %50 that we should see. This is a good example of the idea of long run frequency of an event. "
   ]
  },
  {
   "cell_type": "markdown",
   "metadata": {
    "slideshow": {
     "slide_type": "slide"
    }
   },
   "source": [
    "# Using Matplotlib's Pyplot Module\n",
    "\n",
    "Matplotlib is a practical plotting package in Python. Pyplot is an interface similar to the Matlab interface, which provides access to simple plots and functionality. Ex. barplots and histograms. Changing labels on axis and figure size etc. Typically called using the `plt` alias Matplotlib can also be used for power spectra, bar charts, error charts, scatter plots, 3d plotting, etc. Most of the plot objects can be controlled such as line styles, font properties, and axes properties.\n"
   ]
  },
  {
   "cell_type": "code",
   "execution_count": 11,
   "metadata": {},
   "outputs": [],
   "source": [
    "randomTrials = []\n",
    "for _ in range(1000):\n",
    "    randomTrials.append(random.choice([0,1]))\n",
    "\n",
    "    \n",
    "# Alternatively you can achieve the same goal using list \n",
    "# comprehensions\n",
    "\n",
    "# randomTrials = [random.choice([0,1]) for _ in range(1000)]"
   ]
  },
  {
   "cell_type": "code",
   "execution_count": 12,
   "metadata": {},
   "outputs": [
    {
     "name": "stdout",
     "output_type": "stream",
     "text": [
      "------------------------------\n",
      "[1, 1, 0, 1, 1, 1, 1, 1, 0, 1]\n",
      "------------------------------\n",
      "[1, 2, 2, 3, 4, 5, 6, 7, 7, 8]\n",
      "------------------------------\n"
     ]
    }
   ],
   "source": [
    "cumSumRandomTrials = np.cumsum(randomTrials)\n",
    "\n",
    "    \n",
    "print(\"-\" * 30)\n",
    "print(randomTrials[0:10])\n",
    "print(\"-\" * 30)\n",
    "print(list(cumSumRandomTrials[0:10]))\n",
    "print(\"-\" * 30)"
   ]
  },
  {
   "cell_type": "code",
   "execution_count": 13,
   "metadata": {},
   "outputs": [
    {
     "name": "stdout",
     "output_type": "stream",
     "text": [
      "=====================\n",
      "[1, 1, 0, 1, 1]\n",
      "---------------------\n",
      "[1 2 2 3 4]\n",
      "---------------------\n",
      "[1.         1.         0.66666667 0.75       0.8       ]\n",
      "=====================\n"
     ]
    }
   ],
   "source": [
    "# Let's normalize `cumSumRandomTrials` by the number of trials in each position\n",
    "\n",
    "cumulativePropHeads = cumSumRandomTrials  / range(1, len(cumSumRandomTrials)+1)\n",
    "\n",
    "print(\"=====================\")\n",
    "print(randomTrials[0:5])\n",
    "print(\"---------------------\")\n",
    "print(cumSumRandomTrials[0:5])\n",
    "print(\"---------------------\")\n",
    "print(cumulativePropHeads[0:5])\n",
    "print(\"=====================\")\n"
   ]
  },
  {
   "cell_type": "markdown",
   "metadata": {
    "slideshow": {
     "slide_type": "slide"
    }
   },
   "source": [
    "Below is the anatomy of a figure taken from https://matplotlib.org/tutorials/introductory/usage.html#sphx-glr-tutorials-introductory-usage-py\n",
    "Axes: The \"plot\", which the figure can contain multiple of, can include limits, titles, and labels.\n",
    "Axis: Number-line objects determined by locator and formatter objects which tune tick location and labels\n",
    "Artist: An object that essentially encapsulates everything in the figure: text, axes, lines, collections, etc."
   ]
  },
  {
   "cell_type": "markdown",
   "metadata": {},
   "source": [
    "<img src=\"pic/figure_anatomy.jpg\" width=\"500\">"
   ]
  },
  {
   "cell_type": "markdown",
   "metadata": {
    "slideshow": {
     "slide_type": "slide"
    }
   },
   "source": [
    "Some examples shown below:"
   ]
  },
  {
   "cell_type": "code",
   "execution_count": 14,
   "metadata": {
    "slideshow": {
     "slide_type": "slide"
    }
   },
   "outputs": [
    {
     "data": {
      "text/plain": [
       "Text(0.5, 1.0, 'Line Chart')"
      ]
     },
     "execution_count": 14,
     "metadata": {},
     "output_type": "execute_result"
    },
    {
     "data": {
      "image/png": "[encoded data removed]",
      "text/plain": [
       "<Figure size 1008x432 with 1 Axes>"
      ]
     },
     "metadata": {
      "needs_background": "light"
     },
     "output_type": "display_data"
    }
   ],
   "source": [
    "import matplotlib.pyplot as plt\n",
    "plt.figure(figsize=(14,6))\n",
    "xlist = [1,2,3,4,5,6]\n",
    "ylist = [0,10,0,20,0,30]\n",
    "plt.plot(xlist, ylist)\n",
    "plt.title(\"Line Chart\")"
   ]
  },
  {
   "cell_type": "code",
   "execution_count": 15,
   "metadata": {
    "slideshow": {
     "slide_type": "slide"
    }
   },
   "outputs": [
    {
     "data": {
      "text/plain": [
       "Text(0.5, 1.0, 'Scatter plot')"
      ]
     },
     "execution_count": 15,
     "metadata": {},
     "output_type": "execute_result"
    },
    {
     "data": {
      "image/png": "[encoded data removed]",
      "text/plain": [
       "<Figure size 1008x432 with 1 Axes>"
      ]
     },
     "metadata": {
      "needs_background": "light"
     },
     "output_type": "display_data"
    }
   ],
   "source": [
    "plt.figure(figsize=(14,6))\n",
    "plt.plot(xlist, ylist, 'ro')\n",
    "plt.title(\"Scatter plot\")"
   ]
  },
  {
   "cell_type": "code",
   "execution_count": 16,
   "metadata": {
    "slideshow": {
     "slide_type": "slide"
    }
   },
   "outputs": [
    {
     "data": {
      "text/plain": [
       "Text(0.5, 1.0, 'Proportion of heads vs. # of flips')"
      ]
     },
     "execution_count": 16,
     "metadata": {},
     "output_type": "execute_result"
    },
    {
     "data": {
      "image/png": "[encoded data removed]",
      "text/plain": [
       "<Figure size 864x576 with 1 Axes>"
      ]
     },
     "metadata": {
      "needs_background": "light"
     },
     "output_type": "display_data"
    }
   ],
   "source": [
    "plt.figure(figsize=(12, 8))\n",
    "plt.plot(range(100), cumulativePropHeads[0:100])\n",
    "plt.ylim(0, 1)\n",
    "plt.axhline(0.5, color='k', linestyle= '--', alpha=0.3)\n",
    "plt.title(\"Proportion of heads vs. # of flips\")"
   ]
  },
  {
   "cell_type": "code",
   "execution_count": 17,
   "metadata": {
    "slideshow": {
     "slide_type": "slide"
    }
   },
   "outputs": [
    {
     "data": {
      "text/plain": [
       "Text(0.5, 1.0, 'Proportion of head vs. # of flips (1000)')"
      ]
     },
     "execution_count": 17,
     "metadata": {},
     "output_type": "execute_result"
    },
    {
     "data": {
      "image/png": "[encoded data removed]",
      "text/plain": [
       "<Figure size 864x576 with 1 Axes>"
      ]
     },
     "metadata": {
      "needs_background": "light"
     },
     "output_type": "display_data"
    }
   ],
   "source": [
    "plt.figure(figsize=(12, 8))\n",
    "plt.plot(range(len(cumulativePropHeads)), cumulativePropHeads)\n",
    "plt.ylim(0, 1)\n",
    "plt.axhline(0.5, color='k', linestyle= '--', alpha=0.3)\n",
    "plt.title(\"Proportion of head vs. # of flips (1000)\")"
   ]
  },
  {
   "cell_type": "markdown",
   "metadata": {
    "slideshow": {
     "slide_type": "slide"
    }
   },
   "source": [
    "## Subplots"
   ]
  },
  {
   "cell_type": "markdown",
   "metadata": {},
   "source": [
    "A figure represents the entire window in the UI and there can be subplots in each figure. Figures are created by default, but can be specified too. Subplots contain grids, axes, and placement control. They are useful for plotting multiple graphs and sharing the figure properties."
   ]
  },
  {
   "cell_type": "code",
   "execution_count": 18,
   "metadata": {
    "slideshow": {
     "slide_type": "slide"
    }
   },
   "outputs": [
    {
     "data": {
      "text/plain": [
       "Text(0.5, 1.0, 'Proportion of tails vs. # of flips (1000)')"
      ]
     },
     "execution_count": 18,
     "metadata": {},
     "output_type": "execute_result"
    },
    {
     "data": {
      "image/png": "[encoded data removed]",
      "text/plain": [
       "<Figure size 864x576 with 2 Axes>"
      ]
     },
     "metadata": {
      "needs_background": "light"
     },
     "output_type": "display_data"
    }
   ],
   "source": [
    "plt.figure(figsize=(12, 8))\n",
    "plt.subplot(211)\n",
    "plt.plot(range(len(cumulativePropHeads)), cumulativePropHeads)\n",
    "plt.ylim(0, 1)\n",
    "plt.axhline(0.5, color='k', linestyle= '--', alpha=0.3)\n",
    "plt.title(\"Proportion of head vs. # of flips (1000)\")\n",
    "plt.subplot(212)\n",
    "plt.plot(range(len(cumulativePropHeads)), 1 - cumulativePropHeads, color='r')\n",
    "plt.ylim(0, 1)\n",
    "plt.axhline(0.5, color='k', linestyle= '--', alpha=0.3)\n",
    "plt.title(\"Proportion of tails vs. # of flips (1000)\")"
   ]
  },
  {
   "cell_type": "markdown",
   "metadata": {},
   "source": [
    "## Plot with legend\n",
    "Plots can have legends which consist of handles and labels. Handles are a list of artists (line, patches) to allow control of the legend. Labels are what is shown and can describe elements of the plot like which line corresponds to what."
   ]
  },
  {
   "cell_type": "code",
   "execution_count": 19,
   "metadata": {},
   "outputs": [
    {
     "data": {
      "text/plain": [
       "<matplotlib.legend.Legend at 0x11a7f8d68>"
      ]
     },
     "execution_count": 19,
     "metadata": {},
     "output_type": "execute_result"
    },
    {
     "data": {
      "image/png": "[encoded data removed]",
      "text/plain": [
       "<Figure size 864x576 with 1 Axes>"
      ]
     },
     "metadata": {
      "needs_background": "light"
     },
     "output_type": "display_data"
    }
   ],
   "source": [
    "plt.figure(figsize=(12, 8))\n",
    "plt.plot(range(len(cumulativePropHeads)), cumulativePropHeads, label='heads')\n",
    "plt.axhline(0.5, color='k', linestyle= '--', alpha=0.3)\n",
    "plt.title(\"Proportion of head and tails vs. # of flips (1000)\")\n",
    "plt.plot(range(len(cumulativePropHeads)), 1 - cumulativePropHeads, color='r', label='tails')\n",
    "plt.ylim(0, 1)\n",
    "plt.axhline(0.5, color='k', linestyle= '--', alpha=0.3)\n",
    "plt.legend()"
   ]
  },
  {
   "cell_type": "markdown",
   "metadata": {
    "slideshow": {
     "slide_type": "slide"
    }
   },
   "source": [
    "### Long-Term Frequency\n",
    "\n",
    "Even after 1,000 draws, the proportion of heads is not exactly 0.5. A run of 1,000 samples is still just a random sample, and there is no guarantee that the relative frequency in the random sample will match the underlying probability of the event. However, in the \"much longer run,\" the frequency will tend to approximate $p(H)$ and $p(T)$\n"
   ]
  },
  {
   "cell_type": "markdown",
   "metadata": {},
   "source": [
    "The below formula is useful when figuring out how large your sample needs to be to represent the distribution of your data assuming some distribution.\n",
    "-https://www.surveymonkey.com/mp/sample-size-calculator/"
   ]
  },
  {
   "cell_type": "markdown",
   "metadata": {
    "slideshow": {
     "slide_type": "slide"
    }
   },
   "source": [
    "<img src=\"sample_size.JPG\" width=\"500\">"
   ]
  },
  {
   "cell_type": "markdown",
   "metadata": {
    "slideshow": {
     "slide_type": "slide"
    }
   },
   "source": [
    "### Assigning Probabilities to Events\n",
    "\n",
    "Probabilities can be:\n",
    "\n",
    "Objective (ex. probability of coin flip)\n",
    "\n",
    "Subjective (ex. what is the probability that there is life of Mars)\n",
    "Occurs mostly because the topic is foreign and/or unclear  "
   ]
  },
  {
   "cell_type": "markdown",
   "metadata": {
    "slideshow": {
     "slide_type": "slide"
    }
   },
   "source": [
    "To put some objectivity on subjectivity, use relative probability to make subjective probability more understandable. For example, the probability of life on Mars is less than the probability that it will rain tomorrow."
   ]
  },
  {
   "cell_type": "markdown",
   "metadata": {
    "collapsed": true,
    "slideshow": {
     "slide_type": "slide"
    }
   },
   "source": [
    "### Probability versus Statistic\n",
    "\n",
    "The following is useful although perhaps simplistic distinction between probability and statistics\n",
    "\n",
    "Probability deals with predicting the likelihood of future events, while statistics analyzes the frequency of past events\n",
    "\n",
    "Probability is a theoretical branch of mathematics with the consequences of definitions, while statistics is applied  mathematics trying to make sense of real-world observations\n"
   ]
  },
  {
   "cell_type": "markdown",
   "metadata": {
    "slideshow": {
     "slide_type": "slide"
    }
   },
   "source": [
    "\"In probability theory we consider some underlying process which has some randomness or uncertainty modeled by random variables, and we figure out what happens. In statistics we observe something that has happened, and try to figure out what underlying process would explain those observations.\"\n",
    "-Persi Diaconis"
   ]
  },
  {
   "cell_type": "markdown",
   "metadata": {},
   "source": [
    "It is also useful to make a distinction between the probabilities of events: marginal/prior, conditional/likelihood, and joint, along with Bayes theorem. The marginal/prior probability of X is is the probability of just X or Y. P(X|Y) is the conditional probability. Given that Y happened, what is the probability of X. If X and Y are independent, then it is just P(X), but if they are not, then it will be different. One might consider what are the chances of a car crash as x, and what are the chances of raining as y. If it rains, we would expect there to be more car crashes, then if there weren't rain. The joint probability is what is the probability it rains and a car crashes. Which is the product of the probabilities. Finally, Bayes' theorem is where P(A|B) * P(B) = P(B|A) * P(A) is the event where both a and b happen, and we can calculate it in two ways using our prior and conditional probability knowledge."
   ]
  },
  {
   "cell_type": "markdown",
   "metadata": {
    "collapsed": true,
    "slideshow": {
     "slide_type": "slide"
    }
   },
   "source": [
    "### The Underlying Generative Process\n",
    "Populations are dynamic. How are new members generated?\n",
    "The generative process summarizes the population as it describes how new members can be \"realized\"\n"
   ]
  },
  {
   "cell_type": "markdown",
   "metadata": {},
   "source": [
    "\"In statistical classification, including machine learning, two main approaches are called the generative approach and the discriminative approach. These compute classifiers by different approaches, differing in the degree of statistical modelling. Terminology is inconsistent,[a] but three major types can be distinguished, following Jebara (2004):\n",
    "\n",
    "    Given an observable variable X and a target variable Y, a generative model is a statistical model of the joint probability distribution\n",
    "    A discriminative model is a model of the conditional probability of the target Y, given an observation x\n",
    "   -Wikipedia"
   ]
  },
  {
   "cell_type": "markdown",
   "metadata": {
    "slideshow": {
     "slide_type": "slide"
    }
   },
   "source": [
    "### Solving a Probabilistic Problem Using Simulation\n",
    "\n",
    "\n",
    "At some point while learning about probablistics, we're probably concerned about how we can use what we've learned in real life situations.  In this tutorial we're going to use the \"Monty Hall Problem\" as an example to illustrate how probability can be applied in real life situations and some problems we may encounter along the way and potential solutions on how to solve them.\n",
    "\n",
    "Example:  The \"Monty Hall Problem\" is based after the gameshow \"Let's make a Deal\" and is named after the gameshows original host Monty Hall.  The Monty Hall Problem consists of having the player opening one of 3 doors.  2 of the doors have goats behind them and 1 door has a car behind it.  In order to win the player has to pick the door with the car behind it because they really want the car.  However, before opening a door, the player will get to pick one door, and the host, who knows what's behind all the doors will open a door from the remaining doors that has a goat behind it and give the player an option to open the door they've initialy chosen or switch their choice to the other door.\n",
    "\n",
    " \n",
    "```"
   ]
  },
  {
   "cell_type": "markdown",
   "metadata": {
    "slideshow": {
     "slide_type": "slide"
    }
   },
   "source": [
    "# Simulate the Problem\n",
    "\n",
    "* Using the power of programming and Python we'll simulate the problem 1000 times to see if the player is more likely to consistently to pick the door with the car behind it by sticking with the strategy of always sticking with their first pick or by switching their choice.  Or, is it a matter of luck and a 50/50 chance to pick the right door.  Below is a method to program this simulation in Python."
   ]
  },
  {
   "cell_type": "code",
   "execution_count": 20,
   "metadata": {
    "slideshow": {
     "slide_type": "slide"
    }
   },
   "outputs": [
    {
     "name": "stdout",
     "output_type": "stream",
     "text": [
      "['CAR', 'GOAT', 'GOAT']\n"
     ]
    }
   ],
   "source": [
    "doors = [\"GOAT\", \"CAR\", \"GOAT\"]\n",
    "random.shuffle(doors)\n",
    "print(doors)"
   ]
  },
  {
   "cell_type": "code",
   "execution_count": 21,
   "metadata": {
    "slideshow": {
     "slide_type": "slide"
    }
   },
   "outputs": [
    {
     "data": {
      "text/plain": [
       "2"
      ]
     },
     "execution_count": 21,
     "metadata": {},
     "output_type": "execute_result"
    }
   ],
   "source": [
    "random.choice([0,1,2])"
   ]
  },
  {
   "cell_type": "code",
   "execution_count": 22,
   "metadata": {
    "slideshow": {
     "slide_type": "slide"
    }
   },
   "outputs": [
    {
     "data": {
      "text/plain": [
       "1"
      ]
     },
     "execution_count": 22,
     "metadata": {},
     "output_type": "execute_result"
    }
   ],
   "source": [
    "my_pick = random.choice([0,1,2])\n",
    "my_pick"
   ]
  },
  {
   "cell_type": "code",
   "execution_count": 23,
   "metadata": {
    "slideshow": {
     "slide_type": "slide"
    }
   },
   "outputs": [
    {
     "data": {
      "text/plain": [
       "{0, 2}"
      ]
     },
     "execution_count": 23,
     "metadata": {},
     "output_type": "execute_result"
    }
   ],
   "source": [
    "set([0,1,2]).difference([my_pick])"
   ]
  },
  {
   "cell_type": "code",
   "execution_count": 24,
   "metadata": {
    "slideshow": {
     "slide_type": "slide"
    }
   },
   "outputs": [
    {
     "data": {
      "text/plain": [
       "[0, 2]"
      ]
     },
     "execution_count": 24,
     "metadata": {},
     "output_type": "execute_result"
    }
   ],
   "source": [
    "remaining_doors = list(set([0,1,2]).difference([my_pick]))\n",
    "remaining_doors"
   ]
  },
  {
   "cell_type": "code",
   "execution_count": 25,
   "metadata": {
    "slideshow": {
     "slide_type": "slide"
    }
   },
   "outputs": [
    {
     "data": {
      "text/plain": [
       "'CAR'"
      ]
     },
     "execution_count": 25,
     "metadata": {},
     "output_type": "execute_result"
    }
   ],
   "source": [
    "doors[remaining_doors[0]]\n"
   ]
  },
  {
   "cell_type": "code",
   "execution_count": 26,
   "metadata": {
    "slideshow": {
     "slide_type": "slide"
    }
   },
   "outputs": [
    {
     "data": {
      "text/plain": [
       "'GOAT'"
      ]
     },
     "execution_count": 26,
     "metadata": {},
     "output_type": "execute_result"
    }
   ],
   "source": [
    "doors[remaining_doors[1]]"
   ]
  },
  {
   "cell_type": "code",
   "execution_count": 27,
   "metadata": {
    "slideshow": {
     "slide_type": "slide"
    }
   },
   "outputs": [
    {
     "data": {
      "text/plain": [
       "1"
      ]
     },
     "execution_count": 27,
     "metadata": {},
     "output_type": "execute_result"
    }
   ],
   "source": [
    "reveal_door =  0 if doors[remaining_doors[0]] == \"GOAT\" else 1\n",
    "reveal_door"
   ]
  },
  {
   "cell_type": "code",
   "execution_count": 28,
   "metadata": {
    "slideshow": {
     "slide_type": "slide"
    }
   },
   "outputs": [
    {
     "data": {
      "text/plain": [
       "False"
      ]
     },
     "execution_count": 28,
     "metadata": {},
     "output_type": "execute_result"
    }
   ],
   "source": [
    "doors[my_pick] == \"CAR\""
   ]
  },
  {
   "cell_type": "code",
   "execution_count": 29,
   "metadata": {
    "slideshow": {
     "slide_type": "slide"
    }
   },
   "outputs": [],
   "source": [
    "def monty_hall(n=10000, switch=False):\n",
    "    nb_wins = 0 \n",
    "    doors = [\"GOAT\", \"CAR\", \"GOAT\"]\n",
    "    for _ in range(n):\n",
    "        random.shuffle(doors)\n",
    "        my_pick = random.choice([0,1,2])\n",
    "        remaining_doors = list(set([0,1,2]).difference([my_pick]))\n",
    "        reveal_door =  0 if doors[remaining_doors[0]] == \"GOAT\" else 1\n",
    "        if switch:\n",
    "            my_pick = list(set([0,1,2]).difference([my_pick, reveal_door]))[0]\n",
    "        if doors[my_pick] == \"CAR\":\n",
    "            nb_wins += 1\n",
    "    return nb_wins"
   ]
  },
  {
   "cell_type": "code",
   "execution_count": 30,
   "metadata": {
    "slideshow": {
     "slide_type": "slide"
    }
   },
   "outputs": [
    {
     "data": {
      "text/plain": [
       "469"
      ]
     },
     "execution_count": 30,
     "metadata": {},
     "output_type": "execute_result"
    }
   ],
   "source": [
    "monty_hall(n=1000, switch=True)\n"
   ]
  },
  {
   "cell_type": "code",
   "execution_count": 31,
   "metadata": {
    "slideshow": {
     "slide_type": "slide"
    }
   },
   "outputs": [
    {
     "data": {
      "text/plain": [
       "365"
      ]
     },
     "execution_count": 31,
     "metadata": {},
     "output_type": "execute_result"
    }
   ],
   "source": [
    "monty_hall(n=1000, switch=False)"
   ]
  },
  {
   "cell_type": "markdown",
   "metadata": {
    "slideshow": {
     "slide_type": "slide"
    }
   },
   "source": [
    "### Which Strategy is Better\n",
    "\n",
    "\n",
    "A problem with determining which strategy is better using the above code is that the above code is just a simulation run 10k times.  Maybe we just got lucky and things could change later in favor of the other strategy later on.  Another possibility is that our overhead view of the 10k results is misleading and although the end result favors one strategy, a closer up view could speak otherwise.  An example may be that the first 1k runs favor the first strategy, the second 1k runs favor the second strategy the third 1k runs favor the secocnd strategy and there's an alternation per 1k runs from then on, alternating which strateg is favored but ending up with an overhead view of the second strategy being favored from the 10k perspective.  In this scenario this means that the second strategy was not consistently favored despite the 10k overview saying otherwise.\n",
    "\n",
    "One dececnt solution to this problem may be to split our gigantic amount of runs into smaller runs and take the percecntage of times each strategy wins, and check to see if there's a consistency to it.  It's safe to say that as long as a strategy wins the majority of times then we should favor that strategy."
   ]
  },
  {
   "cell_type": "code",
   "execution_count": 32,
   "metadata": {
    "slideshow": {
     "slide_type": "slide"
    }
   },
   "outputs": [],
   "source": [
    "def compare_strategy(n=1_000):\n",
    "    nb_better_occurr = 0\n",
    "    for i in range(n):\n",
    "        if monty_hall(1, switch=True) >= monty_hall(1, switch=False):\n",
    "            nb_better_occurr += 1 \n",
    "    return(nb_better_occurr / n)\n"
   ]
  },
  {
   "cell_type": "code",
   "execution_count": 33,
   "metadata": {
    "slideshow": {
     "slide_type": "slide"
    }
   },
   "outputs": [
    {
     "data": {
      "text/plain": [
       "0.816"
      ]
     },
     "execution_count": 33,
     "metadata": {},
     "output_type": "execute_result"
    }
   ],
   "source": [
    "compare_strategy()"
   ]
  },
  {
   "cell_type": "code",
   "execution_count": 34,
   "metadata": {
    "slideshow": {
     "slide_type": "slide"
    }
   },
   "outputs": [
    {
     "data": {
      "text/plain": [
       "0.808"
      ]
     },
     "execution_count": 34,
     "metadata": {},
     "output_type": "execute_result"
    }
   ],
   "source": [
    "compare_strategy()"
   ]
  },
  {
   "cell_type": "code",
   "execution_count": 35,
   "metadata": {
    "slideshow": {
     "slide_type": "slide"
    }
   },
   "outputs": [
    {
     "ename": "NameError",
     "evalue": "name 'trails_results' is not defined",
     "output_type": "error",
     "traceback": [
      "\u001b[0;31m---------------------------------------------------------------------------\u001b[0m",
      "\u001b[0;31mNameError\u001b[0m                                 Traceback (most recent call last)",
      "\u001b[0;32m<ipython-input-35-ab07b5e8057a>\u001b[0m in \u001b[0;36m<module>\u001b[0;34m\u001b[0m\n\u001b[1;32m      4\u001b[0m     \u001b[0mtrials_results\u001b[0m\u001b[0;34m.\u001b[0m\u001b[0mappend\u001b[0m\u001b[0;34m(\u001b[0m\u001b[0mcompare_strategy\u001b[0m\u001b[0;34m(\u001b[0m\u001b[0;34m)\u001b[0m\u001b[0;34m)\u001b[0m\u001b[0;34m\u001b[0m\u001b[0;34m\u001b[0m\u001b[0m\n\u001b[1;32m      5\u001b[0m \u001b[0;34m\u001b[0m\u001b[0m\n\u001b[0;32m----> 6\u001b[0;31m \u001b[0mtrails_results\u001b[0m\u001b[0;34m[\u001b[0m\u001b[0;36m0\u001b[0m\u001b[0;34m:\u001b[0m\u001b[0;36m10\u001b[0m\u001b[0;34m]\u001b[0m\u001b[0;34m\u001b[0m\u001b[0;34m\u001b[0m\u001b[0m\n\u001b[0m",
      "\u001b[0;31mNameError\u001b[0m: name 'trails_results' is not defined"
     ]
    }
   ],
   "source": [
    "nb_trials = 1000\n",
    "trials_results = []\n",
    "for _ in range(nb_trials):\n",
    "    trials_results.append(compare_strategy())\n",
    " \n",
    "trails_results[0:10]"
   ]
  },
  {
   "cell_type": "code",
   "execution_count": null,
   "metadata": {
    "slideshow": {
     "slide_type": "slide"
    }
   },
   "outputs": [],
   "source": [
    "_ = plt.hist(trials_results, edgecolor='black', linewidth=1.2)"
   ]
  },
  {
   "cell_type": "markdown",
   "metadata": {
    "slideshow": {
     "slide_type": "slide"
    }
   },
   "source": [
    "### Combinatorial Probabilities\n",
    "\n",
    "So far we've been talking about taking probablities from simple problems where what happens are limited and predictable and forced.  However, what happens if choices aren't limited and predictable.  For example what happens when the order of the final state matters.  An example may be finding the probability of a lottery number, where the order of the numbers matter.  Or perhaps for example, let's say we want to send a mailer requesting people for volunteer testing for your companies software to 1200 people, and the probability of someone responding to your request is 0.03.  Our goal is to find the probability of at least 30 people volunteering if we send out 1200 mailers.  We succeed if at 30 or ore people respond, we fail if 29 or less respond.\n"
   ]
  },
  {
   "cell_type": "code",
   "execution_count": null,
   "metadata": {
    "slideshow": {
     "slide_type": "slide"
    }
   },
   "outputs": [],
   "source": [
    "# we encode those who volunteer as 1 and those who don't as 1.\n",
    "# we generate a vector that represents the ration of users likely to volunteer\n",
    "[0] * 3"
   ]
  },
  {
   "cell_type": "code",
   "execution_count": null,
   "metadata": {
    "slideshow": {
     "slide_type": "slide"
    }
   },
   "outputs": [],
   "source": [
    "# in 100 people, we have\n",
    "population = [0] * 97  + [1] * 3\n"
   ]
  },
  {
   "cell_type": "code",
   "execution_count": null,
   "metadata": {
    "slideshow": {
     "slide_type": "slide"
    }
   },
   "outputs": [],
   "source": [
    "random.choice()"
   ]
  },
  {
   "cell_type": "code",
   "execution_count": null,
   "metadata": {
    "slideshow": {
     "slide_type": "slide"
    }
   },
   "outputs": [],
   "source": [
    "# We make some assumption about the populations here\n",
    "# the code below can be easily written using random.choice method in the numpy package\n",
    "\n",
    "def get_random_sample (data, nb_samples):\n",
    "    nb_volunteers = 0 \n",
    "    for _ in range(nb_samples):\n",
    "        nb_volunteers += random.choice(data)\n",
    "    return nb_volunteers\n"
   ]
  },
  {
   "cell_type": "code",
   "execution_count": null,
   "metadata": {
    "slideshow": {
     "slide_type": "slide"
    }
   },
   "outputs": [],
   "source": [
    "get_random_sample (population, 1200)"
   ]
  },
  {
   "cell_type": "code",
   "execution_count": null,
   "metadata": {
    "slideshow": {
     "slide_type": "slide"
    }
   },
   "outputs": [],
   "source": [
    "# recall that the probability is the long-term proportion with which a certain event will occur \n",
    "# you can repeat the experiment and count the number of time you are satisfied\n",
    "nb_satisfied = 0\n",
    "for i in range(10000):\n",
    "    if get_random_sample(population, 1200) > 30:\n",
    "        nb_satisfied +=1 \n",
    "print(nb_satisfied/10000)"
   ]
  },
  {
   "cell_type": "markdown",
   "metadata": {
    "slideshow": {
     "slide_type": "slide"
    }
   },
   "source": [
    "### Probability Models\n",
    "\n",
    "There are much easier ways compute this and other popular (canonical) distributions such as Parameterized function, which given a parameter, can easily compute the probability  of any outcome in the sample space.  I  recommended learning more probability distributions"
   ]
  }
 ],
 "metadata": {
  "celltoolbar": "Slideshow",
  "hide_input": false,
  "kernelspec": {
   "display_name": "Python 3",
   "language": "python",
   "name": "python3"
  },
  "language_info": {
   "codemirror_mode": {
    "name": "ipython",
    "version": 3
   },
   "file_extension": ".py",
   "mimetype": "text/x-python",
   "name": "python",
   "nbconvert_exporter": "python",
   "pygments_lexer": "ipython3",
   "version": "3.6.6"
  }
 },
 "nbformat": 4,
 "nbformat_minor": 2
}
