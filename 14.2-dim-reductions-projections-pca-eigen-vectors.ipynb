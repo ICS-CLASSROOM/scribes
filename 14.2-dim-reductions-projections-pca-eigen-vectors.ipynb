{
 "cells": [
  {
   "cell_type": "markdown",
   "metadata": {},
   "source": [
    "### Scribers\n",
    "    John Tristan Palanca\n",
    "    Aditya Kumar\n",
    "    Mariah Gaoiran"
   ]
  },
  {
   "cell_type": "markdown",
   "metadata": {},
   "source": [
    "# The Curse of Dimensionality"
   ]
  },
  {
   "cell_type": "code",
   "execution_count": 1,
   "metadata": {},
   "outputs": [],
   "source": [
    "from IPython.display import Image\n",
    "import numpy as np\n",
    "import scipy.spatial.distance as dist\n",
    "from IPython.core.display import display, HTML\n",
    "import matplotlib.pyplot as plt"
   ]
  },
  {
   "cell_type": "markdown",
   "metadata": {},
   "source": [
    "## Euclidean Distance\n",
    "\n",
    "Euclidean distance or Euclidean metric is the \"ordinary\" **straight-line distance** between two points in Euclidean space. The formula for finding the euclidean distance between two points can be determined by using the **Pythagorean theorem**. \n"
   ]
  },
  {
   "cell_type": "markdown",
   "metadata": {},
   "source": [
    "According to the Pythagorean theorem,\n",
    "\n",
    "<img src=\"https://proxy.duckduckgo.com/iu/?u=http%3A%2F%2Fstudy.com%2Fcimages%2Fmultimages%2F16%2Fpythagorean_theorem_proof_3.png&f=1\" alt=\"drawing\" style=\"width:500px;\"/>\n",
    "\n",
    "If we place the triangle on a graph we can see the following is true\n",
    "<img src=\"./images/distance.png\" alt=\"drawing\" style=\"width:500px;\"/>\n",
    "\n",
    "$$\n",
    "d^2 = (p_{1,y} - p_{1,x})^2 + (p_{2,x} - p_{2,y})^2\n",
    "$$\n",
    "where $d$(in green) is the distance between the two points (in blue).\n",
    "\n",
    "Therefore, the Euclidean distance $d$ between two points can be derived from the following formula.\n",
    "$$\n",
    "d = \\sqrt{(p_{1,y} - p_{1,x})^2 + (p_{2,x} - p_{2,y})^2}\n",
    "$$\n",
    "\n",
    "A live demo is available [here](https://www.desmos.com/calculator/uzqofq2c0t)\n",
    "\n",
    "In three-dimensional space, the distance between two points can be determined by applying the Pythagorean theorem twice. \n",
    "\n",
    "<img src=\"./images/distance_3d.png\" alt=\"drawing\" style=\"width:500px;\"/>\n",
    "\n",
    "\n",
    "$$\n",
    "𝑑((p_1,p_2),(q_1,q_2))= \\sqrt{(q_1-p_1)^2 + (q_2-p_2)^2}\n",
    "$$\n",
    "\n",
    "$$\n",
    "𝑑((p_1,p_2,p_3),(q_1,q_2,q_3))= \\sqrt{\\sqrt{(q_1-p_1)^2 + (q_2-p_2)^2} + (q_3-p_3)^2}\n",
    "$$\n",
    "$$\n",
    "𝑑((p_1,p_2,p_3),(q_1,q_2,q_3))= \\sqrt{(q_1-p_1)^2 + (q_2-p_2)^2 + (q_3-p_3)^2}\n",
    "$$\n",
    "\n",
    "\n",
    "Using induction it can be proved that in any arbitrary high-dimensional space, the distance between two points $(p_{1,x}, p_{2,x}, p_{3,x}, .... p_{n,x})$ and $(p_{1,y}, p_{2,y}, p_{3,y}, .... p_{n,y})$ can be determined using the following formula. \n",
    "\n",
    "$$\n",
    "d = \\sqrt{(p_{1,y} - p_{1,x})^2 + (p_{2,x} - p_{2,y})^2 + (p_{3,x} - p_{3,y})^2 + \\ldots + (p_{n,x} - p_{n,y})^2}\n",
    "$$\n",
    "\n"
   ]
  },
  {
   "cell_type": "markdown",
   "metadata": {},
   "source": [
    "#### Mathematical Features of Euclidean Distance. \n",
    "\n",
    "The Euclidean distance is a metric. A metric is a mathematics function that defines a distance between each pair of elements of a set. \n",
    "\n",
    "Since the Euclidean distance function is a metric function it follows the mathematical definition of a metric function. \n",
    "\n",
    "<img src=\"./images/metric.png\" alt=\"drawing\" style=\"width:500px;\"/>"
   ]
  },
  {
   "cell_type": "markdown",
   "metadata": {},
   "source": [
    "### Computing the Euclidean distance using `scipy`\n",
    "\n",
    "\n",
    "Fortunately, the calculation of the many distances including the Euclidean distance can be made using the [scipy.spatial.distance](https://docs.scipy.org/doc/scipy/reference/spatial.distance.html) module.\n",
    "\n",
    "To compute the euclidean distance use [scipy.spatial.distance.euclidean](https://docs.scipy.org/doc/scipy/reference/generated/scipy.spatial.distance.euclidean.html#scipy.spatial.distance.euclidean)"
   ]
  },
  {
   "cell_type": "code",
   "execution_count": 2,
   "metadata": {},
   "outputs": [
    {
     "data": {
      "text/plain": [
       "0.0"
      ]
     },
     "execution_count": 2,
     "metadata": {},
     "output_type": "execute_result"
    }
   ],
   "source": [
    "u = np.array([1,2,3])\n",
    "v = np.array([1,2,3])\n",
    "dist.euclidean(u,v)"
   ]
  },
  {
   "cell_type": "code",
   "execution_count": 3,
   "metadata": {},
   "outputs": [
    {
     "name": "stdout",
     "output_type": "stream",
     "text": [
      "2.23606797749979\n",
      "2.23606797749979\n"
     ]
    }
   ],
   "source": [
    "u = np.array([0,0,0])\n",
    "v = np.array([1,2,0])\n",
    "print(dist.euclidean(u,v))\n",
    "print(np.sqrt(sum((u-v)**2)))"
   ]
  },
  {
   "cell_type": "code",
   "execution_count": 4,
   "metadata": {},
   "outputs": [
    {
     "name": "stdout",
     "output_type": "stream",
     "text": [
      "7.483314773547883\n",
      "7.483314773547883\n"
     ]
    }
   ],
   "source": [
    "u = np.array([1,2,3])\n",
    "v = np.array([3,6,9])\n",
    "print(dist.euclidean(u,v))\n",
    "print(np.sqrt(sum((u-v)**2)))"
   ]
  },
  {
   "cell_type": "markdown",
   "metadata": {},
   "source": [
    "# The Curse of Dimensionality\n",
    "\n",
    "There a number of results that may be non-intuitive that occur in higher dimensions. This is broadly referred to as the [curse of dimensionality](https://en.wikipedia.org/wiki/Curse_of_dimensionality)\n",
    "\n",
    "\n",
    "To observe one of these peculiarities let's generate **1,000 random points** in $\\mathbb{R}$, Real Number space with **increasing dimensionality** and compute the **average pairwise Euclidean distance** between all the points."
   ]
  },
  {
   "cell_type": "code",
   "execution_count": 5,
   "metadata": {},
   "outputs": [
    {
     "data": {
      "text/plain": [
       "[(1, 2), (1, 3), (2, 3)]"
      ]
     },
     "execution_count": 5,
     "metadata": {},
     "output_type": "execute_result"
    }
   ],
   "source": [
    "a = [1,2,3]\n",
    "import itertools\n",
    "list(itertools.combinations(a, 2))"
   ]
  },
  {
   "cell_type": "markdown",
   "metadata": {},
   "source": [
    "#### Average pairwise distance 1,000 random points in $\\mathbb{R}^1$ in 1-dimensional normalized space\n",
    "\n",
    "In this context, when we generate points in **normalized space** we mean that all generated points will have coordinates in the range of [0,1). This method of normalization is called feature scaling. **Feature scaling** is used to standardize the range of independent variables or features of data.\n",
    "\n",
    "numpy.random.rand will create an array of the given shape (1 by default) and populate it with random samples from a uniform distribution over [0, 1)."
   ]
  },
  {
   "cell_type": "code",
   "execution_count": 6,
   "metadata": {},
   "outputs": [
    {
     "name": "stdout",
     "output_type": "stream",
     "text": [
      "Average distance is 0.3267918942605676\n"
     ]
    }
   ],
   "source": [
    "points = []\n",
    "for _ in range(1000):\n",
    "    p = np.array(np.random.rand())\n",
    "    points.append(p)\n",
    "\n",
    "total_distance = 0\n",
    "nb_pairs = 0\n",
    "\n",
    "for pair in list(itertools.combinations(points, 2)):\n",
    "    nb_pairs +=1 \n",
    "    total_distance += dist.euclidean(pair[0],pair[1])\n",
    "    \n",
    "print(\"Average distance is %s\" % (total_distance/nb_pairs))\n",
    "    "
   ]
  },
  {
   "cell_type": "markdown",
   "metadata": {},
   "source": [
    "#### Average pairwise distance 1,000 random points in $\\mathbb{R}^2$ in 2-dimensional normalized space\n",
    "Now lets generate 1,000 random points in $\\mathbb{R}^2$ in  two-dimensional normalized space and compute the average pairwise Euclidean distance between all the points "
   ]
  },
  {
   "cell_type": "code",
   "execution_count": 7,
   "metadata": {},
   "outputs": [
    {
     "name": "stdout",
     "output_type": "stream",
     "text": [
      "Average distance is 0.5219648499170301\n"
     ]
    }
   ],
   "source": [
    "points = []\n",
    "for _ in range(1000):\n",
    "    p = np.array([np.random.rand(), np.random.rand()])\n",
    "    points.append(p)\n",
    "\n",
    "total_distance = 0\n",
    "nb_pairs = 0\n",
    "\n",
    "for pair in list(itertools.combinations(points, 2)):\n",
    "    nb_pairs +=1 \n",
    "    total_distance += dist.euclidean(pair[0],pair[1])\n",
    "    \n",
    "print(\"Average distance is %s\" % (total_distance/nb_pairs))\n",
    "    "
   ]
  },
  {
   "cell_type": "markdown",
   "metadata": {},
   "source": [
    "Note that by **increasing the dimensionality** of the points the **average distance between all points** has **increased**. This result is intuitive. By giving the points an additional dimension to be dispersed the average distance between them has increased. "
   ]
  },
  {
   "cell_type": "markdown",
   "metadata": {},
   "source": [
    "#### Average pairwise distance of 1,000 random points in $\\mathbb{R}^3$ in 3-dimensional normalized space"
   ]
  },
  {
   "cell_type": "code",
   "execution_count": 8,
   "metadata": {},
   "outputs": [
    {
     "name": "stdout",
     "output_type": "stream",
     "text": [
      "Average distance is 0.6625898936382913\n"
     ]
    }
   ],
   "source": [
    "points= []\n",
    "for _ in range(1000):\n",
    "    p = np.array([np.random.rand(), np.random.rand(), np.random.rand()])\n",
    "    points.append(p)\n",
    "\n",
    "total_distance = 0\n",
    "nb_pairs = 0\n",
    "\n",
    "for pair in list(itertools.combinations(points, 2)):\n",
    "    nb_pairs +=1 \n",
    "    total_distance += dist.euclidean(pair[0],pair[1])\n",
    "    \n",
    "print(\"Average distance is %s\" % (total_distance/nb_pairs))"
   ]
  },
  {
   "cell_type": "markdown",
   "metadata": {},
   "source": [
    "#### Average pairwise distance of 1,000 points in $\\mathbb{R}^{30}$ in 30-dimensional normalized space"
   ]
  },
  {
   "cell_type": "code",
   "execution_count": 9,
   "metadata": {},
   "outputs": [
    {
     "name": "stdout",
     "output_type": "stream",
     "text": [
      "Average distance is 2.2249381090585225\n"
     ]
    }
   ],
   "source": [
    "points= []\n",
    "for _ in range(1000):\n",
    "    p = np.array([np.random.rand() for _ in range(30)])\n",
    "    points.append(p)\n",
    "\n",
    "total_distance = 0\n",
    "nb_pairs = 0\n",
    "\n",
    "for pair in list(itertools.combinations(points, 2)):\n",
    "    nb_pairs +=1 \n",
    "    total_distance += dist.euclidean(pair[0],pair[1])\n",
    "    \n",
    "print(\"Average distance is %s\" % (total_distance/nb_pairs))"
   ]
  },
  {
   "cell_type": "markdown",
   "metadata": {},
   "source": [
    "#### Average Pairwise Euclidean Distance for Multiple Dimensions. \n",
    "\n",
    "Lets graph average pairwise euclidean distance between all points for multiple dimensions. "
   ]
  },
  {
   "cell_type": "code",
   "execution_count": 10,
   "metadata": {},
   "outputs": [
    {
     "name": "stdout",
     "output_type": "stream",
     "text": [
      "Average distance is 0.31183214200912135\n",
      "Average distance is 0.5229481174781984\n",
      "Average distance is 0.6649819638054801\n",
      "Average distance is 0.7824663430929539\n",
      "Average distance is 0.8876706163407686\n",
      "Average distance is 0.9711278878931678\n",
      "Average distance is 1.0445146859057486\n",
      "Average distance is 1.1305862561148443\n",
      "Average distance is 1.203989853203302\n",
      "Average distance is 1.2648777744658224\n",
      "Average distance is 1.3281319934821125\n",
      "Average distance is 1.409207818598845\n",
      "Average distance is 1.4525455389017856\n",
      "Average distance is 1.5070664469229769\n",
      "Average distance is 1.553601320717391\n",
      "Average distance is 1.6072210756437002\n",
      "Average distance is 1.678327878475594\n",
      "Average distance is 1.6975071095623606\n",
      "Average distance is 1.7686064767914913\n",
      "Average distance is 1.8057021857793445\n",
      "Average distance is 1.848172731548184\n",
      "Average distance is 1.8917462531431146\n",
      "Average distance is 1.9416570971773608\n",
      "Average distance is 1.98704622433265\n",
      "Average distance is 2.024139189768169\n",
      "Average distance is 2.069710785352762\n",
      "Average distance is 2.1111962317173605\n",
      "Average distance is 2.1379098910507577\n",
      "Average distance is 2.178696571022225\n",
      "Average distance is 2.2267330688490223\n"
     ]
    },
    {
     "data": {
      "text/plain": [
       "Text(0, 0.5, 'Average Euclidean Distance')"
      ]
     },
     "execution_count": 10,
     "metadata": {},
     "output_type": "execute_result"
    },
    {
     "data": {
      "image/png": "[encoded data removed]",
      "text/plain": [
       "<Figure size 432x288 with 1 Axes>"
      ]
     },
     "metadata": {
      "needs_background": "light"
     },
     "output_type": "display_data"
    }
   ],
   "source": [
    "dimensions = 1\n",
    "avgDists = []\n",
    "for _ in range(30):\n",
    "    points= []\n",
    "    for _ in range(500):\n",
    "        p = np.array([np.random.rand() for _ in range(dimensions)])\n",
    "        points.append(p)\n",
    "\n",
    "    total_distance = 0\n",
    "    nb_pairs = 0\n",
    "    for pair in list(itertools.combinations(points, 2)):\n",
    "        nb_pairs +=1 \n",
    "        total_distance += dist.euclidean(pair[0],pair[1])\n",
    "    avgDist = total_distance/nb_pairs\n",
    "    avgDists.append(avgDist)\n",
    "    dimensions+=1\n",
    "    print(\"Average distance is %s\" % (avgDist))\n",
    "\n",
    "plt.scatter(np.arange(30),avgDists)\n",
    "plt.xlabel(\"Dimensions\")\n",
    "plt.ylabel(\"Average Euclidean Distance\")"
   ]
  },
  {
   "cell_type": "markdown",
   "metadata": {},
   "source": [
    "As you scale the dimensionality of a random distribution of points the average Euclidean distance increases. In other words average Euclidean distance increases monotonically as the number of dimensions increases.\n",
    "Although our coordinates are in the normalized space, the average distance in 30D space is ~7 time larger than in a single dimension.\n",
    "This introduces a problem when dealing with high-dimensional data."
   ]
  },
  {
   "cell_type": "markdown",
   "metadata": {},
   "source": [
    "## KDE in higher dimensionality\n",
    "\n",
    "Recall that when calculating KDE, each point is given a kernel indicated in the graph below by the small red curves. Then the kernels are summed resulting in the KDE the blue line. This summation is only useful if points are relatively close together, as this would mean the small red curves would overlap, creating a distinct KDE.  \n",
    "\n",
    "As we have seen above as you scale dimensionality the average pairwise distance between all points increases.\n",
    "Therefore it logically follows with higher dimensionality KDE no longer works since there is minimal overlap of the kernels.\n",
    "An example of this is indicated below.\n",
    "\n",
    "<img src=\"./images/kde.png\" alt=\"drawing\" style=\"width:1000px;\"/>"
   ]
  },
  {
   "cell_type": "markdown",
   "metadata": {},
   "source": [
    "### Resources Used \n",
    "\n",
    "https://en.wikipedia.org/wiki/Euclidean_distance\n",
    "\n",
    "https://en.wikipedia.org/wiki/Kernel_density_estimation\n",
    "\n",
    "https://en.wikipedia.org/wiki/Metric_(mathematics)\n",
    "\n",
    "https://en.wikipedia.org/wiki/Feature_scaling\n",
    "\n",
    "http://www.econ.upf.edu/~michael/stanford/maeb4.pdf\n",
    "\n",
    "https://homes.cs.washington.edu/~pedrod/papers/cacm12.pdf\n",
    "\n",
    "https://www.storyjumper.com/book/index/45603856/The-Pythagorean-Theorem\n"
   ]
  },
  {
   "cell_type": "markdown",
   "metadata": {},
   "source": [
    "# Random Projections"
   ]
  },
  {
   "cell_type": "code",
   "execution_count": 11,
   "metadata": {},
   "outputs": [],
   "source": [
    "from IPython.display import Image\n",
    "import random \n",
    "import numpy as np\n",
    "import matplotlib.pyplot as pyplot \n",
    "import seaborn as sns\n",
    "\n",
    "%matplotlib inline"
   ]
  },
  {
   "cell_type": "markdown",
   "metadata": {},
   "source": [
    "### A case for dimensionality Reduction\n",
    "\n",
    "- Suppose your are given counts for 20k features (genes) in two conditions (ex.: healthy vs. disease) it is reasonable to ask whether the gene expression patterns in the two conditions are distinct.\n",
    "\n",
    "    - Are gene expression patterns more similar within rather than across conditions?\n",
    "    \n",
    "- Or suppose you are give 10,000 metrics for race cars that both won the Indianapolis 500 and came in last at the Indianapolis 500. It is reasonable to ask if the metrics of the two groups is distinct.\n",
    "    \n",
    "    - Are performance metrics more similar within rather than across winners and losers?\n",
    "    \n",
    "To answer these questions it would be ideal to visualize the distances across individuals. However as we saw previously (in the Curse of Dimensionality lecture notes) as **dimensionality** of a set of data **increases**, the **average distance** between the points **increases**. For 20K or 10K dimensions, data will become more **uniformly distant** from each other.\n",
    "\n",
    "Furthermore, as we saw in the previous set of lecture notes, as dimensionality of a set of data increases we can not use some of the methods that worked for lower dimensionality data. For example, **KDE will not work** for higher dimensional data. \n",
    "\n",
    "Finally, **computational complexity increases** with higher dimensionality data.\n",
    "\n",
    "Therefore we have a good reasons to reduce the dimensionality of the data if we can still explain the original data set. \n",
    "\n",
    "#### Dimensionality Reduction\n",
    "\n",
    "This is called **dimensionality reduction**, which is the process of reducing the number of random variables under consideration by obtaining a set of principal variables. Through dimensionality reduction, important features of higher dimensions are summarized into a data set of lower dimensions.\n",
    "\n",
    "Oftentimes when looking at data with high dimensionality, many of the features of the data can be replaced by **representative variables** that combined can explain the original set. The 20k features or 10k features are most likely correlated as it is very unlikely that each dimension has no effect on another. If the features are correlated it would be logical to group those features together and form a representative variable, this representative variable should explain the original set of data. "
   ]
  },
  {
   "cell_type": "markdown",
   "metadata": {},
   "source": [
    "### Naive engineering\n",
    "\n",
    "The simple way to group together data that is **correlated** is to do so based on **domain-knowledge**. A domain-expert could **eliminate** certain features that are **redundant** and explained by other parameters in the data. \n",
    "\n",
    "- For example\n",
    "\n",
    "  - In the case of data on genetic code, one could start by de-replicating co-expressed genes, since these genes may be represented sufficiently by a subset of parameters present\n",
    "  \n",
    "  - In the case of metrics of a race car, some parameters may be unrelated to its performance at the Indianapolis 500 like sound level inside the cabin, or the number of cup holders present.  \n",
    "\n",
    "However this approach is both time and effort intensive. \n",
    "Sufficient domain-knowledge is required, and even with sufficient knowledge with extremely high dimensionality there may be too many parameters to look at and summarize. It is also important to note if there is a set of features that are correlated, eliminating features must be done carefully as some features may be more valuable than the others. \n",
    "\n",
    "Even if time and effort are spent it still is unlikely to produce a dataset that can be visualized.\n"
   ]
  },
  {
   "cell_type": "markdown",
   "metadata": {},
   "source": [
    "## Data projection\n",
    "\n",
    "One method of dimensionality reduction is called data projection, or feature projection. **Data projection** transforms the data in the high-dimensional space to a space of fewer dimensions.\n",
    "When reducing dimensionality we would want to retain the distances across data points. Dimensionality reduction will only be useful if it **does not distort** our data. It is almost impossible to perfectly capture the data when we reduce its dimensionality. Instead it is more realistic to ensure that at a base level that the **closest points remain close and distant points remain distant**.\n"
   ]
  },
  {
   "cell_type": "markdown",
   "metadata": {},
   "source": [
    "\n",
    "<img src=\"images/data_projection_0_.png\" alt=\"drawing\" style=\"width:800px;\"/>\n"
   ]
  },
  {
   "cell_type": "markdown",
   "metadata": {},
   "source": [
    "The graph above shows a distribution of points in 2 dimensional space. If we are to reduce the dimensionality (to 1 dimensional space) we want to represent the original data. Note the two closest point indicated in orange, and the two furtherest points indicated in blue. "
   ]
  },
  {
   "cell_type": "markdown",
   "metadata": {},
   "source": [
    "###  Projecting Over Axis with Most Variance\n",
    "\n",
    "There are infinite axes to project data over. The key to selecting the **optimal axis** is maintaining **as much variance as possible**. This way the closest points remain close and the distant points remain distant. If the axis selected removes much of a variance the projected data will not capture the information from the original set. \n",
    "\n",
    "We can make two main observations of this data set. \n",
    "\n",
    "1. There is a large variance over the x-axis. The difference in x coordinates between two most distant points is much larger than the distance between closest points. \n",
    "\n",
    "2. There is little variance over the y-axis. The distance in y coordinates between the most distant points is not much larger than the distance between closest points\n",
    "  \n",
    "If we are to maintain representation of the data as stated above we want the closest points to remain close and distant points remain distant.\n",
    "\n",
    "Therefore, projecting over the $y-$axis is likely to distort the data. \n",
    "Instead, projecting over the $x-$axis is better option. \n"
   ]
  },
  {
   "cell_type": "markdown",
   "metadata": {},
   "source": [
    "<img src=\"images/data_projection_1_.png\" alt=\"drawing\" style=\"width:700px;\"/>\n",
    "Above is the graph projected over the 𝑥−axis."
   ]
  },
  {
   "cell_type": "markdown",
   "metadata": {},
   "source": [
    "<img src=\"images/data_projection_2_.png\" alt=\"drawing\" style=\"width:700px;\"/>\n",
    "\n",
    "Here is the graph projected over the y−axis."
   ]
  },
  {
   "cell_type": "markdown",
   "metadata": {},
   "source": [
    "#### Resources\n",
    "\n",
    "https://en.wikipedia.org/wiki/Dimensionality_reduction\n",
    "\n",
    "https://homes.cs.washington.edu/~pedrod/papers/cacm12.pdf\n",
    "\n",
    "https://en.wikipedia.org/wiki/Kernel_density_estimation"
   ]
  },
  {
   "cell_type": "code",
   "execution_count": 13,
   "metadata": {},
   "outputs": [],
   "source": [
    "import sklearn as sk\n",
    "import pandas as pd\n",
    "import numpy as np\n",
    "import seaborn as sns\n",
    "import matplotlib.pyplot as plt\n",
    "from sklearn.svm import LinearSVC\n",
    "from sklearn.model_selection import train_test_split\n",
    "from sklearn import metrics\n",
    "from sklearn import datasets\n",
    "%matplotlib inline\n",
    "\n",
    "# from sklearn.random_projection import GaussianRandomProjection\n",
    "from sklearn.random_projection import SparseRandomProjection"
   ]
  },
  {
   "cell_type": "markdown",
   "metadata": {},
   "source": [
    "When it comes to dimensionality reduction, there are a few methods one might first think of, such as look for suitable subsets of coordinates, or sums of subsets, but these would all appear to take a long time or they simply don’t work.\n",
    "\n",
    "Instead, the key technique is to take a random linear subspace of a certain dimension, and project every data point onto that subspace. No searching required. The fact that this works is called the Johnson-Lindenstrauss Lemma. \n",
    "\n",
    "In this example, we use the scikit-learn digits dataset, which consists of 1797 sample of handwritten digit images of the numbers 0-9 and attempt to classify them.\n",
    "\n",
    "Knowing only the number of samples, the \n",
    "##### sklearn.random_projection.johnson_lindenstrauss_min_dim \n",
    "estimates conservatively the minimal size of the random subspace to guarantee a bounded distortion introduced by the random projection:"
   ]
  },
  {
   "cell_type": "code",
   "execution_count": 14,
   "metadata": {},
   "outputs": [
    {
     "data": {
      "text/plain": [
       "6423"
      ]
     },
     "execution_count": 14,
     "metadata": {},
     "output_type": "execute_result"
    }
   ],
   "source": [
    "from sklearn import datasets\n",
    "from sklearn.random_projection import johnson_lindenstrauss_min_dim\n",
    "\n",
    "digits = datasets.load_digits()\n",
    "\n",
    "johnson_lindenstrauss_min_dim(1797,eps=0.1)"
   ]
  },
  {
   "cell_type": "markdown",
   "metadata": {},
   "source": [
    "### Calculating the minimum number of required dimensions\n",
    "\n",
    "Given that we have 1,797 data points, in order to preserve their pairwise Euclidean distances within a tolerance of 0.1 epsilon, our random projection matrix should have 6,423 components according to the Johnson Lindenstrauss lemma.\n",
    "\n",
    "### Reducing Dimensions\n",
    "\n",
    "Each digit image is 8x8 pixels, so we'll be treating each 8x8 image as a flattened feature vector of length 64. This means we must attempt to reduce these 64 features to 6423 using sparse random projections. However, it also means that we can't make any assumptions regarding the preservation of pairwise distances between data points."
   ]
  },
  {
   "cell_type": "code",
   "execution_count": 15,
   "metadata": {},
   "outputs": [
    {
     "name": "stderr",
     "output_type": "stream",
     "text": [
      "/home/muzamil/anaconda3/lib/python3.7/site-packages/sklearn/svm/base.py:922: ConvergenceWarning: Liblinear failed to converge, increase the number of iterations.\n",
      "  \"the number of iterations.\", ConvergenceWarning)\n",
      "/home/muzamil/anaconda3/lib/python3.7/site-packages/sklearn/svm/base.py:922: ConvergenceWarning: Liblinear failed to converge, increase the number of iterations.\n",
      "  \"the number of iterations.\", ConvergenceWarning)\n",
      "/home/muzamil/anaconda3/lib/python3.7/site-packages/sklearn/svm/base.py:922: ConvergenceWarning: Liblinear failed to converge, increase the number of iterations.\n",
      "  \"the number of iterations.\", ConvergenceWarning)\n",
      "/home/muzamil/anaconda3/lib/python3.7/site-packages/sklearn/svm/base.py:922: ConvergenceWarning: Liblinear failed to converge, increase the number of iterations.\n",
      "  \"the number of iterations.\", ConvergenceWarning)\n",
      "/home/muzamil/anaconda3/lib/python3.7/site-packages/sklearn/svm/base.py:922: ConvergenceWarning: Liblinear failed to converge, increase the number of iterations.\n",
      "  \"the number of iterations.\", ConvergenceWarning)\n",
      "/home/muzamil/anaconda3/lib/python3.7/site-packages/sklearn/svm/base.py:922: ConvergenceWarning: Liblinear failed to converge, increase the number of iterations.\n",
      "  \"the number of iterations.\", ConvergenceWarning)\n",
      "/home/muzamil/anaconda3/lib/python3.7/site-packages/sklearn/svm/base.py:922: ConvergenceWarning: Liblinear failed to converge, increase the number of iterations.\n",
      "  \"the number of iterations.\", ConvergenceWarning)\n",
      "/home/muzamil/anaconda3/lib/python3.7/site-packages/sklearn/svm/base.py:922: ConvergenceWarning: Liblinear failed to converge, increase the number of iterations.\n",
      "  \"the number of iterations.\", ConvergenceWarning)\n",
      "/home/muzamil/anaconda3/lib/python3.7/site-packages/sklearn/svm/base.py:922: ConvergenceWarning: Liblinear failed to converge, increase the number of iterations.\n",
      "  \"the number of iterations.\", ConvergenceWarning)\n",
      "/home/muzamil/anaconda3/lib/python3.7/site-packages/sklearn/svm/base.py:922: ConvergenceWarning: Liblinear failed to converge, increase the number of iterations.\n",
      "  \"the number of iterations.\", ConvergenceWarning)\n",
      "/home/muzamil/anaconda3/lib/python3.7/site-packages/sklearn/svm/base.py:922: ConvergenceWarning: Liblinear failed to converge, increase the number of iterations.\n",
      "  \"the number of iterations.\", ConvergenceWarning)\n",
      "/home/muzamil/anaconda3/lib/python3.7/site-packages/sklearn/svm/base.py:922: ConvergenceWarning: Liblinear failed to converge, increase the number of iterations.\n",
      "  \"the number of iterations.\", ConvergenceWarning)\n",
      "/home/muzamil/anaconda3/lib/python3.7/site-packages/sklearn/svm/base.py:922: ConvergenceWarning: Liblinear failed to converge, increase the number of iterations.\n",
      "  \"the number of iterations.\", ConvergenceWarning)\n",
      "/home/muzamil/anaconda3/lib/python3.7/site-packages/sklearn/svm/base.py:922: ConvergenceWarning: Liblinear failed to converge, increase the number of iterations.\n",
      "  \"the number of iterations.\", ConvergenceWarning)\n",
      "/home/muzamil/anaconda3/lib/python3.7/site-packages/sklearn/svm/base.py:922: ConvergenceWarning: Liblinear failed to converge, increase the number of iterations.\n",
      "  \"the number of iterations.\", ConvergenceWarning)\n",
      "/home/muzamil/anaconda3/lib/python3.7/site-packages/sklearn/svm/base.py:922: ConvergenceWarning: Liblinear failed to converge, increase the number of iterations.\n",
      "  \"the number of iterations.\", ConvergenceWarning)\n",
      "/home/muzamil/anaconda3/lib/python3.7/site-packages/sklearn/svm/base.py:922: ConvergenceWarning: Liblinear failed to converge, increase the number of iterations.\n",
      "  \"the number of iterations.\", ConvergenceWarning)\n",
      "/home/muzamil/anaconda3/lib/python3.7/site-packages/sklearn/svm/base.py:922: ConvergenceWarning: Liblinear failed to converge, increase the number of iterations.\n",
      "  \"the number of iterations.\", ConvergenceWarning)\n",
      "/home/muzamil/anaconda3/lib/python3.7/site-packages/sklearn/svm/base.py:922: ConvergenceWarning: Liblinear failed to converge, increase the number of iterations.\n",
      "  \"the number of iterations.\", ConvergenceWarning)\n",
      "/home/muzamil/anaconda3/lib/python3.7/site-packages/sklearn/svm/base.py:922: ConvergenceWarning: Liblinear failed to converge, increase the number of iterations.\n",
      "  \"the number of iterations.\", ConvergenceWarning)\n",
      "/home/muzamil/anaconda3/lib/python3.7/site-packages/sklearn/svm/base.py:922: ConvergenceWarning: Liblinear failed to converge, increase the number of iterations.\n",
      "  \"the number of iterations.\", ConvergenceWarning)\n"
     ]
    }
   ],
   "source": [
    "accuracies = []\n",
    "components = np.int32(np.linspace(2, 64, 20))\n",
    "\n",
    "split = train_test_split(digits.data, digits.target, test_size = 0.3,\n",
    "    random_state = 42)\n",
    "(trainData, testData, trainTarget, testTarget) = split\n",
    "\n",
    "model = LinearSVC()\n",
    "model.fit(trainData, trainTarget)\n",
    "baseline = metrics.accuracy_score(model.predict(testData), testTarget)\n",
    "\n",
    "for comp in components:\n",
    "    # create the random projection\n",
    "    sp = SparseRandomProjection(n_components = comp)\n",
    "    X = sp.fit_transform(trainData)\n",
    " \n",
    "    # train a classifier on the sparse random projection\n",
    "    model = LinearSVC()\n",
    "    model.fit(X, trainTarget)\n",
    " \n",
    "    # evaluate the model and update the list of accuracies\n",
    "    test = sp.transform(testData)\n",
    "    accuracies.append(metrics.accuracy_score(model.predict(test), testTarget))"
   ]
  },
  {
   "cell_type": "markdown",
   "metadata": {},
   "source": [
    "#### Test: Sparse Random Projection on a Linear SVC Model\n",
    "\n",
    "Above, we aim to evaluate 20 different component sizes, equally spaced from 2 to 64. We perform a training and testing split on the digits data and obtain a baseline accuracy (before any random projection is done). We then loop through our components and instantiate a SparseRandomProjection to transform the original training data by projecting the sparse representation before training with a Linear SVC model.\n",
    "\n",
    "Below, we plot the random projection accuracy based on number of components:"
   ]
  },
  {
   "cell_type": "code",
   "execution_count": 17,
   "metadata": {},
   "outputs": [
    {
     "data": {
      "image/png": "[encoded data removed]",
      "text/plain": [
       "<Figure size 432x288 with 1 Axes>"
      ]
     },
     "metadata": {
      "needs_background": "light"
     },
     "output_type": "display_data"
    }
   ],
   "source": [
    "plt.figure()\n",
    "plt.suptitle(\"Sparse Projection Accuracy\")\n",
    "plt.xlabel(\"# of Components\")\n",
    "plt.ylabel(\"Accuracy\")\n",
    "plt.xlim([2, 64])\n",
    "plt.ylim([0, 1.0])\n",
    " \n",
    "# plot the baseline and random projection accuracies\n",
    "plt.plot(components, [baseline] * len(accuracies), color = \"r\")\n",
    "plt.plot(components, accuracies)\n",
    "\n",
    "plt.show()"
   ]
  },
  {
   "cell_type": "markdown",
   "metadata": {},
   "source": [
    "### When is Random Projection is an ideal option?\n",
    "- when data is so high dimensional that it is too expensive to compute principal components directly\n",
    "- when you do not have access to all the data at once, as in data streaming\n",
    "- when data is approximately low-dimensional, but not near a linear subspace\n"
   ]
  },
  {
   "cell_type": "markdown",
   "metadata": {},
   "source": [
    "# Principal Components Analysis (PCA)\n",
    "Principal component analysis is a fast and flexible unsupervised method for dimensionality reduction in data, which we saw briefly in Introducing Scikit-Learn. Its behavior is easiest to visualize by looking at a two-dimensional dataset. Consider the following 500 points:"
   ]
  },
  {
   "cell_type": "code",
   "execution_count": 18,
   "metadata": {},
   "outputs": [
    {
     "data": {
      "image/png": "[encoded data removed]",
      "text/plain": [
       "<Figure size 432x288 with 1 Axes>"
      ]
     },
     "metadata": {
      "needs_background": "light"
     },
     "output_type": "display_data"
    }
   ],
   "source": [
    "rng = np.random.RandomState(1)\n",
    "X = np.dot(rng.rand(2, 2), rng.randn(2, 500)).T\n",
    "plt.scatter(X[:, 0], X[:, 1])\n",
    "plt.axis('equal');"
   ]
  },
  {
   "cell_type": "markdown",
   "metadata": {},
   "source": [
    "Methods like Linear Regression may attempt to predict the y values from the x values, but in PCA the relationship between x and y is quantified by finding a list of the principal axes in the data, and using those axes to describe the dataset. We can use scikit-learn's PCA estimator to compute these axes:"
   ]
  },
  {
   "cell_type": "code",
   "execution_count": 19,
   "metadata": {},
   "outputs": [
    {
     "data": {
      "text/plain": [
       "PCA(copy=True, iterated_power='auto', n_components=2, random_state=None,\n",
       "  svd_solver='auto', tol=0.0, whiten=False)"
      ]
     },
     "execution_count": 19,
     "metadata": {},
     "output_type": "execute_result"
    }
   ],
   "source": [
    "from sklearn.decomposition import PCA\n",
    "pca = PCA(n_components=2)\n",
    "pca.fit(X)"
   ]
  },
  {
   "cell_type": "markdown",
   "metadata": {},
   "source": [
    "#### Extracting meaning from PCA estimation\n",
    "\n",
    "This estimator learns certain quantities from our data, most importantly the 'components' and 'explained variance'. To understand what these mean, we can visualize them as vectors over our data, using the \"components\" to define the direction of the vector, and the \"explained variance\" to define the squared-length of the vector:"
   ]
  },
  {
   "cell_type": "code",
   "execution_count": 20,
   "metadata": {},
   "outputs": [
    {
     "data": {
      "image/png": "[encoded data removed]",
      "text/plain": [
       "<Figure size 432x288 with 1 Axes>"
      ]
     },
     "metadata": {
      "needs_background": "light"
     },
     "output_type": "display_data"
    }
   ],
   "source": [
    "def vector_vis(v0, v1, ax=None):\n",
    "    ax = ax or plt.gca()\n",
    "    arrowprops=dict(arrowstyle='->',\n",
    "                    linewidth=2,\n",
    "                    shrinkA=0, shrinkB=0)\n",
    "    ax.annotate('', v1, v0, arrowprops=arrowprops)\n",
    "\n",
    "# plot data\n",
    "plt.scatter(X[:, 0], X[:, 1], alpha=0.2)\n",
    "for length, vector in zip(pca.explained_variance_, pca.components_):\n",
    "    v = vector * 3 * np.sqrt(length)\n",
    "    vector_vis(pca.mean_, pca.mean_ + v)\n",
    "plt.axis('equal');"
   ]
  },
  {
   "cell_type": "markdown",
   "metadata": {},
   "source": [
    "These vectors represent the principal axes of the data, and the length of the vector is an indication of how \"important\" that axis is in describing the distribution of the data—more precisely, it is a measure of the variance of the data when projected onto that axis. The projection of each data point onto the principal axes are the \"principal components\" of the data. This is ideal because we prefer to project on the axis that maximizes the variance in the data."
   ]
  },
  {
   "cell_type": "code",
   "execution_count": 21,
   "metadata": {},
   "outputs": [],
   "source": [
    "from IPython.display import Image\n",
    "import random \n",
    "import numpy as np\n",
    "import matplotlib.pyplot as plt \n",
    "import seaborn as sns\n",
    "\n",
    "import pandas as pd\n",
    "\n",
    "# we will be using preprocessing to normalize the data\n",
    "from sklearn.preprocessing import StandardScaler\n",
    "\n",
    "# we will be using LA to find eigenvectors\n",
    "from numpy import linalg as LA\n",
    "\n",
    "\n",
    "from sklearn.decomposition import PCA\n",
    "\n",
    "%matplotlib inline"
   ]
  },
  {
   "cell_type": "markdown",
   "metadata": {},
   "source": [
    "#### Contextualizing PCA\n",
    "\n",
    "* We prefer to project on the axis that maximizes the variance in the data. \n",
    "\n",
    "* It's helpful to think of the variance as the information that is contained in the data. \n",
    "\n",
    "* We want the axis that maximize the information contained in the data.\n",
    "\n",
    "* This axis, does not have to be one of the axes of the coordinate system.\n",
    "\n",
    "\n",
    "* If we rotate the data points from the previous example by 45°, then the $x-$axis is no longer the axis that maximizes the variance."
   ]
  },
  {
   "cell_type": "markdown",
   "metadata": {},
   "source": [
    "### The Axis Maximizing the Variance\n",
    "\n",
    "The overall approach of PCA is to reduce the complexity of the dataset as much as possible without jeopardizing its variance. While dimensionality reduction is used to remove irrelevant or unnecessary dimensions for pinpointing correlations, removing too many or crucial dimensions may result in an undesirable dataset of tightly packed values. \n",
    "\n",
    "This indicates that the variance, or distribution of data, has been reduced significantly. Depending on the resulting dimensions the dataset has been reduced to, known in PCA as a set of axes called \"components\", the datapoints may become compressed and lose most of their original variance.\n",
    "\n",
    "PCA aims to avoid this situation by selecting components that maximize the variance after the number of dimensions is reduced.\n",
    "\n",
    "For example, observe the following randomized dataset of 2 dimensions:"
   ]
  },
  {
   "cell_type": "code",
   "execution_count": 22,
   "metadata": {},
   "outputs": [
    {
     "data": {
      "text/plain": [
       "<matplotlib.collections.PathCollection at 0x7fdf004f2a90>"
      ]
     },
     "execution_count": 22,
     "metadata": {},
     "output_type": "execute_result"
    },
    {
     "data": {
      "image/png": "[encoded data removed]",
      "text/plain": [
       "<Figure size 720x576 with 1 Axes>"
      ]
     },
     "metadata": {
      "needs_background": "light"
     },
     "output_type": "display_data"
    }
   ],
   "source": [
    "# randomized x-axis from a normal distribution\n",
    "random.seed(246)\n",
    "x_axis = np.random.normal(0, 2, 30)\n",
    "x_axis.sort()\n",
    "\n",
    "# randomized y-axis is a multiple of the x-axis combined with noise from a normal districution\n",
    "noise = np.random.normal(0, 0.5, 30)\n",
    "y_axis = x_axis * 1.2 + noise\n",
    "\n",
    "randomData = pd.DataFrame({'x': x_axis, 'y': y_axis})\n",
    "\n",
    "plt.figure(figsize=(10,8))\n",
    "_ = plt.ylim(-6, 6)\n",
    "_ = plt.xlim(-6, 6)\n",
    "\n",
    "plt.scatter(x_axis, y_axis)"
   ]
  },
  {
   "cell_type": "markdown",
   "metadata": {},
   "source": [
    "PCA will attempt to reduce the number of dimensions in this dataset. Since it consists of only 2 dimensions, PCA will try to find a single component (axis) on which to project the data, effectively reducing the data from 2 dimensions to 1. \n",
    "\n",
    "The chosen axis is not limited to the x or y axes that originally defined the dataset. Instead, there are an inifinite number of axes that could be chosen. For simplicity, in the following example we will compare 3 different axes from which PCA will select the best option. The axes are shown below on the same plot as the data."
   ]
  },
  {
   "cell_type": "code",
   "execution_count": 23,
   "metadata": {},
   "outputs": [
    {
     "name": "stderr",
     "output_type": "stream",
     "text": [
      "/home/muzamil/anaconda3/lib/python3.7/site-packages/scipy/stats/stats.py:1713: FutureWarning: Using a non-tuple sequence for multidimensional indexing is deprecated; use `arr[tuple(seq)]` instead of `arr[seq]`. In the future this will be interpreted as an array index, `arr[np.array(seq)]`, which will result either in an error or a different result.\n",
      "  return np.add.reduce(sorted[indexer] * weights, axis=axis) / sumval\n"
     ]
    },
    {
     "data": {
      "text/plain": [
       "Text(-4, 2.2, 'proj_line_3')"
      ]
     },
     "execution_count": 23,
     "metadata": {},
     "output_type": "execute_result"
    },
    {
     "data": {
      "image/png": "[encoded data removed]",
      "text/plain": [
       "<Figure size 720x576 with 1 Axes>"
      ]
     },
     "metadata": {
      "needs_background": "light"
     },
     "output_type": "display_data"
    }
   ],
   "source": [
    "plt.figure(figsize=(10,8))\n",
    "_ = plt.ylim(-6, 6)\n",
    "_ = plt.xlim(-6, 6)\n",
    "\n",
    "# Possible projection line 1\n",
    "sns.regplot(x_axis, y_axis, ci=False,)\n",
    "plt.text(-4, -3.4, 'proj_line_1')\n",
    "\n",
    "# Possible projection line 2\n",
    "pyplot.plot(np.arange(-6, 6, 0.06), [0 for _ in np.arange(-6, 6, 0.06)], 'k--', lw=2)\n",
    "pyplot.text(-4, 0.2, 'proj_line_2')\n",
    "\n",
    "# Possible projection line 3\n",
    "pyplot.plot(np.arange(-6, 6, 0.06), [-x/2. for x in np.arange(-6, 6, 0.06)], '-', lw=2)\n",
    "pyplot.text(-4, 2.2, 'proj_line_3')"
   ]
  },
  {
   "cell_type": "markdown",
   "metadata": {},
   "source": [
    "PCA will evaluate the variance of each possible projection line, then select axis with the greatest variance. `numpy` contains the method `var`, which can be used to calculate the variance across the provided axis.\n",
    "\n",
    "The first projection line is represented by the the dot product of 1 and 1. Using `np.var`, the following variance is calculated."
   ]
  },
  {
   "cell_type": "code",
   "execution_count": 24,
   "metadata": {},
   "outputs": [
    {
     "data": {
      "text/plain": [
       "0    19.902622\n",
       "dtype: float64"
      ]
     },
     "execution_count": 24,
     "metadata": {},
     "output_type": "execute_result"
    }
   ],
   "source": [
    "# Possible projection line 1 (positive slope of +1.0)\n",
    "np.var(randomData.dot(np.array([[1],[1]])))"
   ]
  },
  {
   "cell_type": "markdown",
   "metadata": {},
   "source": [
    "This variance can be observed when the data is projected on the component. Note how in the projection below, the values still remain spread out along the axis despite being contained to a single dimension."
   ]
  },
  {
   "cell_type": "code",
   "execution_count": 25,
   "metadata": {},
   "outputs": [
    {
     "data": {
      "image/png": "[encoded data removed]",
      "text/plain": [
       "<Figure size 432x288 with 1 Axes>"
      ]
     },
     "metadata": {
      "needs_background": "light"
     },
     "output_type": "display_data"
    }
   ],
   "source": [
    "plt.xlabel('proj_line_1 (best fit line)')\n",
    "\n",
    "plt.title('Projecting on Possible Projection Line 1 (Best Fit Line)')\n",
    "\n",
    "plt.plot(np.arange(-12,12, 0.1), [0 for _ in np.arange(-12,12, 0.1)], 'b')\n",
    "plt.scatter(randomData.dot(np.array([1,1])), [0 for _ in range(len(randomData))])\n",
    "\n",
    "plt.xlim(-10, 10)\n",
    "\n",
    "ax = plt.gca()\n",
    "\n",
    "ax.yaxis.set_visible(False)"
   ]
  },
  {
   "cell_type": "markdown",
   "metadata": {},
   "source": [
    "Now PCA evaluates the variance of the second possible projection line, which is represented by the the dot product of 1 and 0. Using np.var, the following variance is calculated."
   ]
  },
  {
   "cell_type": "code",
   "execution_count": 26,
   "metadata": {},
   "outputs": [
    {
     "data": {
      "text/plain": [
       "0    4.252231\n",
       "dtype: float64"
      ]
     },
     "execution_count": 26,
     "metadata": {},
     "output_type": "execute_result"
    }
   ],
   "source": [
    "# Possible projection line 1 (x-axis, slope of 0)\n",
    "np.var(randomData.dot(np.array([[1], [0]])))"
   ]
  },
  {
   "cell_type": "markdown",
   "metadata": {},
   "source": [
    "The variance of the second possible projection line is much smaller than the variance of the first possible projection line. Notice below that when the data is projected on the axis, the spread of the data is much smaller than the projection line 1. On projection line 1, the data ranged from about -7.5 to +10.0, whereas on projection line 2, the data only ranges between -5.0 and +5.0."
   ]
  },
  {
   "cell_type": "code",
   "execution_count": 27,
   "metadata": {},
   "outputs": [
    {
     "data": {
      "image/png": "[encoded data removed]",
      "text/plain": [
       "<Figure size 432x288 with 1 Axes>"
      ]
     },
     "metadata": {
      "needs_background": "light"
     },
     "output_type": "display_data"
    }
   ],
   "source": [
    "plt.xlabel('proj_line_2')\n",
    "plt.title('Projecting on proj_line_2')\n",
    "\n",
    "plt.plot(np.arange(-12,12, 0.1), [0 for _ in np.arange(-12,12, 0.1)], 'k--')\n",
    "plt.scatter(randomData.dot(np.array([[1],[0]])), [0 for _ in range(len(randomData))])\n",
    "\n",
    "plt.xlim(-10, 10)\n",
    "\n",
    "ax = plt.gca()\n",
    "\n",
    "ax.yaxis.set_visible(False)"
   ]
  },
  {
   "cell_type": "markdown",
   "metadata": {},
   "source": [
    "Finally, PCA evaluates the variance of the third possible projection line, which is represented by the the dot product of 1 and -0.5. Using np.var, the following variance is calculated."
   ]
  },
  {
   "cell_type": "code",
   "execution_count": 28,
   "metadata": {},
   "outputs": [
    {
     "data": {
      "text/plain": [
       "0    0.805544\n",
       "dtype: float64"
      ]
     },
     "execution_count": 28,
     "metadata": {},
     "output_type": "execute_result"
    }
   ],
   "source": [
    "# Possible projection line 3 (negative slope of -0.5)\n",
    "np.var(randomData.dot(np.array([[1], [-0.5]])))"
   ]
  },
  {
   "cell_type": "markdown",
   "metadata": {},
   "source": [
    "The variance of the third possible projection line is even less than the second possible projection line, almost at zero. This is demonstrated when the data is projected on projection line 3, in an even smaller range than the two previous lines. Projection line 1 contained data from about -7.5 to +10.0, a span of about 17.5 units, and projection line contained data from about -5.0 to +5.0, a slightly smaller span of 10.0 units. Projection line 3, however, contains data ranging only from about -2.5 to 2.5, a span of merely 5.0 units."
   ]
  },
  {
   "cell_type": "code",
   "execution_count": 29,
   "metadata": {},
   "outputs": [
    {
     "data": {
      "image/png": "[encoded data removed]",
      "text/plain": [
       "<Figure size 432x288 with 1 Axes>"
      ]
     },
     "metadata": {
      "needs_background": "light"
     },
     "output_type": "display_data"
    }
   ],
   "source": [
    "plt.xlabel('proj_line_3')\n",
    "plt.title('Projecting on proj_line_3')\n",
    "\n",
    "plt.plot(np.arange(-10,10, 0.1), [0 for _ in np.arange(-10,10, 0.1)], 'k--')\n",
    "plt.scatter(randomData.dot(np.array([[1],[-0.5]])), [0 for _ in range(len(randomData))])\n",
    "\n",
    "plt.xlim(-10, 10)\n",
    "\n",
    "ax = plt.gca()\n",
    "\n",
    "ax.yaxis.set_visible(False)"
   ]
  },
  {
   "cell_type": "markdown",
   "metadata": {},
   "source": [
    "Thus, PCA would select projection line 1 as the axis to project the data on, since it both reduces the dimensionality of the data while maximizing the variance from the set of possible axes to project the data upon."
   ]
  },
  {
   "cell_type": "markdown",
   "metadata": {},
   "source": [
    "### What is PCA?\n",
    "\n",
    "To reiterate, the objective of PCA is to reduce the dimensionality of a dataset to a small set of axes called \"components\", on which the data will be projected upon. The components that are chosen maximize the variance, in order to preserve the distribution of the data while eliminating unneeded complexity.\n",
    "\n",
    "The size of the components is dependent on the amount of dimensions needed to capture the most variability in the data. The components should still be capable of reproducing the data despite being of a lesser dimension.\n",
    "\n",
    "Typically, data that is to be visualized is reduced to two or three components, since anything larger is impossible for the human to imagine or display. Unfortunately, not all datasets are able to be reduced to such a small number of components."
   ]
  },
  {
   "cell_type": "markdown",
   "metadata": {},
   "source": [
    "### PCA Requirements\n",
    "\n",
    "PCA has two requirements to complete properly.\n",
    "\n",
    "First, __the components must be ranked in descending order by the amount of variability in the data they capture.__ That is, the first component must capture more variability than the second component, the second more than the third, and so on. Note that as the rank of the component increases, the variance decreases. The variability will decrease until 0, so the analysis should usually be concluded around the 2nd component when the components still capture a lot of variability.\n",
    "\n",
    "Secondly, __the components must orthogonal and therefore uncorrelated.__ This requirement is necessary to force components to be unique, which will reveal distinct information about the data. Components that are orthogonal, meaning at right angles, cannot be correlated since they have opposing slopes. If the components were not orthogonal, it would be problematic to determine to what degree each components affects the data, since they could have a combined effect that relies on both components but has a different effect inidividually."
   ]
  },
  {
   "cell_type": "markdown",
   "metadata": {},
   "source": [
    "### Scaling the Data\n",
    "\n",
    "In addition to the requirements above, the data must be appropriately scaled to avoid any one axis being favored for its inherent variance.\n",
    "\n",
    "For example, consider a dataset measuring the physical fitness of a person. It may contain contains two dimensions, $x_1$, representing body mass index (BMI) and $x_2$, representing steps taken in a single day. BMI typically ranges between values 12 and 49. The number of steps taken can range anywhere from 0 (immobile), to 10,000 (recommended), or more. The magnitude of $x_2$ is over 200 times the magnitude of $x_1$. Thus, the variance of $x_2$ strongly overwhelms the variance of $x_1$, such that $x_2$ is much likelier to be selected as a component than $x_1$, simply for being measured in different units.\n",
    "\n",
    "To defend against such bias, the data is often normalized before carrying out PCA. This is typically done by centering the data at 0 and normalizing by the variance. This is can be done for instance using the standard score:\n",
    "\n",
    "$$\n",
    "x_{new}=\\frac{x -\\mu}{\\sigma}\n",
    "$$\n",
    "\n",
    "Afterwards, data can be used to find the eigenvector with the largest eigenvalue, then projected on that vector first."
   ]
  },
  {
   "cell_type": "markdown",
   "metadata": {},
   "source": [
    "### Eigenvalues and Eigenvectors\n",
    "\n",
    "Eigenvalues and eigenvectors are concepts of linear algebra. While a brief explanation of these concepts is all that is necessary for the following examples, detailed information on eigenvalues and eigenvectors can be found in this [introductory linear algebra textbook online](https://math.mit.edu/~gs/linearalgebra/ila0601.pdf).\n",
    "\n",
    "An __eigenvector__ is a non-zero vector that only changes by an overall scale when a linear transformation is applied to it, in other words, when a matrix is multiplied by it. It does not change direction. An __eigenvalue__ is the scalar value $\\lambda$ by which the vector was stretched during the linear transformation.\n",
    "\n",
    "As an equation, this is depicted as:\n",
    "\n",
    "$$\n",
    "\\mathbf{A} \\mathbf{u} = \\lambda\\mathbf{u}\n",
    "$$\n",
    "\n",
    "where $\\mathbf{A}$ is a matrix, $\\mathbf{u}$ is the eigenvector, and $\\lambda$ is the eigenvalue."
   ]
  },
  {
   "cell_type": "markdown",
   "metadata": {},
   "source": [
    "### Check your understanding\n",
    "\n",
    "Suppose you have the following matrix, $\\mathbf{A}$:\n",
    "\n",
    "$\n",
    "A =\n",
    "\\left( \\begin{array}{cc}\n",
    "3 & -5 \\\\\n",
    "1 & 2 \\\\\n",
    "\\end{array} \\right)\n",
    "$\n",
    "\n",
    "and the eigenvector $\\mathbf{u}$:\n",
    "\n",
    "$\n",
    "\\mathbf{u}= \\left( \\begin{array}{c}\n",
    "1\\\\\n",
    "4\\\\\n",
    "\\end{array} \\right)\n",
    "$\n",
    "\n",
    "#### Question\n",
    "Is $\\mathbf{u}$ an eigenvector for $\\mathbf{A}$?\n",
    "\n",
    "#### Solution\n",
    "Recall that an eigenvector is a vector, that when multiplied to a matrix, expands in scale but does not change direction. Therefore, to determine if the vector $\\mathbf{u}$ is an eigenvector for $\\mathbf{A}$, you must determine if the vector $\\mathbf{A}\\mathbf{u}$ is in the same direction as $\\mathbf{u}$ but of a greater magnitude.\n",
    "\n",
    "The linear transformation of $\\mathbf{u}$ into $\\mathbf{u'}$ is calculated by finding the dot product of $\\mathbf{A}$ and $\\mathbf{u}$:\n",
    "\n",
    "$$\n",
    "u' = Au =\n",
    "\\left( \\begin{array}{cc}\n",
    "3 & -5 \\\\\n",
    "1 & 2 \\\\\n",
    "\\end{array} \\right)\n",
    "\\cdot\n",
    "\\left( \\begin{array}{c}\n",
    "1\\\\\n",
    "4\\\\\n",
    "\\end{array} \\right)\n",
    "=\n",
    "\\left( \\begin{array}{cc}\n",
    "3x1 & -5x4 \\\\\n",
    "1x1 & 2x4 \\\\\n",
    "\\end{array} \\right)\n",
    "=\n",
    "\\left( \\begin{array}{c}\n",
    "-17\\\\\n",
    "9\\\\\n",
    "\\end{array} \\right)\n",
    "$$\n",
    "\n",
    "Plotted on the same graph below, $\\mathbf{u}$ (in red) and $\\mathbf{u'}$ (in blue) are clearly different in both scale and direction. Therefore, $\\mathbf{u}$ is __not__ an eigenvector of $\\mathbf{A}$."
   ]
  },
  {
   "cell_type": "code",
   "execution_count": 30,
   "metadata": {},
   "outputs": [
    {
     "data": {
      "text/plain": [
       "<matplotlib.quiver.Quiver at 0x7fdf0068a1d0>"
      ]
     },
     "execution_count": 30,
     "metadata": {},
     "output_type": "execute_result"
    },
    {
     "data": {
      "image/png": "[encoded data removed]",
      "text/plain": [
       "<Figure size 432x288 with 1 Axes>"
      ]
     },
     "metadata": {
      "needs_background": "light"
     },
     "output_type": "display_data"
    }
   ],
   "source": [
    "V = np.array([[1,4],[-17,9]])\n",
    "origin = [0], [0]\n",
    "\n",
    "plt.quiver(*origin, V[:,0], V[:,1], color=['r','b'], scale=50)"
   ]
  },
  {
   "cell_type": "markdown",
   "metadata": {},
   "source": [
    "### Finding the Eigenvales and Eigenvectors Using `numpy`\n",
    "\n",
    "The `linalg` module in `numpy` contains the method `eig`, which can be used to find the eigenvalues and eigenvectors for a matrix. `eig` takes a single argument, a list of matrices for which eigenvalues and eigenvectors will be computed individually. Note that the matrices must be square in shape, meaning the number of rows must be equivalent to the number of columns.\n",
    "\n",
    "#### Example\n",
    "Observe the following use of `eig`, which computes two eigenvalues and eigenvectors for the matrix $\\mathbf{A}$, where\n",
    "\n",
    "$$\n",
    "A =\n",
    "\\left( \\begin{array}{cc}\n",
    "3 & 0 \\\\\n",
    "1 & 6 \\\\\n",
    "\\end{array} \\right)\n",
    "$$\n"
   ]
  },
  {
   "cell_type": "code",
   "execution_count": 31,
   "metadata": {},
   "outputs": [
    {
     "name": "stdout",
     "output_type": "stream",
     "text": [
      "Eigenvalues:\n",
      "[6. 3.]\n",
      "Eigenvectors:\n",
      "[[ 0.          0.9486833 ]\n",
      " [ 1.         -0.31622777]]\n"
     ]
    }
   ],
   "source": [
    "# representing matrix A as a numpy array\n",
    "A = np.array([[3,0], [1,6]])\n",
    "\n",
    "# w = eigenvalues\n",
    "# v = normalized eigenvectors\n",
    "w, v = LA.eig(A)\n",
    "\n",
    "print(\"Eigenvalues:\")\n",
    "print(w)\n",
    "print(\"Eigenvectors:\")\n",
    "print(v)"
   ]
  },
  {
   "cell_type": "markdown",
   "metadata": {},
   "source": [
    "The returned eigenvector list (in this example, v) is formatted such that each column is an eigenvector. The eigenvectors are listed in order of greatest eigenvalue. In the example above, the eigenvectors of matrix $\\mathbf{A}$ are \n",
    "\n",
    "$$\n",
    "\\mathbf{u_1}= \\left( \\begin{array}{c}\n",
    "0\\\\\n",
    "1\\\\\n",
    "\\end{array} \\right)\n",
    "$$ as the first eigenvector and \n",
    "\n",
    "$$\n",
    "\\mathbf{u_2}= \\left( \\begin{array}{c}\n",
    "0.9486833 \\\\\n",
    "-0.31622777\\\\\n",
    "\\end{array} \\right)\n",
    "$$ as the second eigenvector"
   ]
  },
  {
   "cell_type": "markdown",
   "metadata": {},
   "source": [
    "We can check that the first eigenvector returned by `eig`, $\\mathbf{u_1}$, is truly an eigenvector by calculating $\\mathbf{A}\\mathbf{u_1}$ and comparing it to the $\\mathbf{u_1}$.\n",
    "\n",
    "The calculations for $\\mathbf{A}\\mathbf{u_1}$ are as follows:\n",
    "\n",
    "$$\n",
    "u' = Au_1 =\n",
    "\\left( \\begin{array}{cc}\n",
    "3 & 0 \\\\\n",
    "1 & 6 \\\\\n",
    "\\end{array} \\right)\n",
    "\\cdot\n",
    "\\left( \\begin{array}{c}\n",
    "0\\\\\n",
    "1\\\\\n",
    "\\end{array} \\right)\n",
    "=\n",
    "\\left( \\begin{array}{cc}\n",
    "3x0 & 0x1 \\\\\n",
    "1x0 & 6x1 \\\\\n",
    "\\end{array} \\right)\n",
    "=\n",
    "\\left( \\begin{array}{c}\n",
    "0\\\\\n",
    "6\\\n",
    "\\end{array} \\right)\n",
    "=\n",
    "6u_1\n",
    "$$\n",
    "\n",
    "Thus, we see that $\\mathbf{u'}$ is simply $6\\mathbf{u_1}$, meaning that when $\\mathbf{u_1}$ underwent a linear transformation from being multiplied to $\\mathbf{A}$, the resulting vector stretched by a factor of 6, but did not change directions. This is emphasized by plotting both $\\mathbf{u'}$ and $\\mathbf{u_1}$ on the same graph, as below."
   ]
  },
  {
   "cell_type": "code",
   "execution_count": 32,
   "metadata": {},
   "outputs": [
    {
     "data": {
      "text/plain": [
       "<matplotlib.quiver.Quiver at 0x7fdf005e72b0>"
      ]
     },
     "execution_count": 32,
     "metadata": {},
     "output_type": "execute_result"
    },
    {
     "data": {
      "image/png": "[encoded data removed]",
      "text/plain": [
       "<Figure size 432x288 with 1 Axes>"
      ]
     },
     "metadata": {
      "needs_background": "light"
     },
     "output_type": "display_data"
    }
   ],
   "source": [
    "V = np.array([[0,1],[0,6]])\n",
    "origin = [0], [0]\n",
    "\n",
    "plt.quiver(*origin, V[:,0], V[:,1], color=['r','b'], scale=20)"
   ]
  },
  {
   "cell_type": "markdown",
   "metadata": {},
   "source": [
    "Both $\\mathbf{u_1}$, shown in red above, and $\\mathbf{u'}$, shown in blue above, are pointed vertically in the same direction. However, $\\mathbf{u'}$ is 6 times as long as $\\mathbf{u_1}$.\n",
    "\n",
    "The degree to which $\\mathbf{u'}$ is longer than $\\mathbf{u_1}$ is the eigenvector. Recall that the first value of w calculated by `eig` above was 6, the same as the number of times longer $\\mathbf{u'}$ is than the first eigenvector $\\mathbf{u_1}$.\n",
    "\n",
    "The same steps can be applied to the second eigenvector, which has a calculated eigenvalue of 3."
   ]
  }
 ],
 "metadata": {
  "kernelspec": {
   "display_name": "Python 3",
   "language": "python",
   "name": "python3"
  }
 },
 "nbformat": 4,
 "nbformat_minor": 2
}
